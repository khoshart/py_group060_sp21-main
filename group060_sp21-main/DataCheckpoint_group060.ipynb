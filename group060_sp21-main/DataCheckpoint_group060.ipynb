{
 "cells": [
  {
   "cell_type": "markdown",
   "metadata": {
    "cell_id": "00000-5a929ea5-c3bf-4742-95cb-fe8d641feb8e",
    "deepnote_cell_type": "markdown"
   },
   "source": [
    "# COGS 108 - Data Checkpoint"
   ]
  },
  {
   "cell_type": "markdown",
   "metadata": {
    "cell_id": "00001-699bdf66-01b2-4226-aa8b-c25ff0198a9b",
    "deepnote_cell_type": "markdown"
   },
   "source": [
    "# Names\n",
    "\n",
    "- Fione Huynh\n",
    "- Lara Pellon\n",
    "- Khulan Hoshartsaga\n",
    "- Rafael Ubriaco\n",
    "- Ezhil Thaenraj"
   ]
  },
  {
   "cell_type": "markdown",
   "metadata": {
    "cell_id": "00002-afa0944e-d773-4598-b258-9c7057eff47a",
    "deepnote_cell_type": "markdown"
   },
   "source": [
    "<a id='research_question'></a>\n",
    "# Research Question"
   ]
  },
  {
   "cell_type": "markdown",
   "metadata": {
    "cell_id": "00003-e4594582-0085-4c34-8aea-c8ce598dc79e",
    "deepnote_cell_type": "markdown"
   },
   "source": [
    "How has COVID-19 impacted affluent counties air quality in comparison to less affluent ones?"
   ]
  },
  {
   "cell_type": "markdown",
   "metadata": {
    "cell_id": "00004-5088dbba-4b39-4878-80f6-f62ba9caad26",
    "deepnote_cell_type": "markdown"
   },
   "source": [
    "# Dataset(s)"
   ]
  },
  {
   "cell_type": "markdown",
   "metadata": {
    "cell_id": "00005-d3d37471-c79a-47d2-bc06-97809b4d669d",
    "deepnote_cell_type": "markdown"
   },
   "source": [
    "*Fill in your dataset information here*\n",
    "\n",
    "(Copy this information for each dataset)\n",
    "- Dataset Name:\n",
    "- Link to the dataset:\n",
    "- Number of observations:\n",
    "\n",
    "1-2 sentences describing each dataset. \n",
    "\n",
    "If you plan to use multiple datasets, add 1-2 sentences about how you plan to combine these datasets.\n",
    "\n",
    "Dataset Name: Real Gross Domestic Product by County, 2016-2019\n",
    "Link to the dataset: https://www.bea.gov/data/gdp/gdp-county-metro-and-other-areas \n",
    "Number of observations: 3221 (before data cleaning)\n",
    "\n",
    "Columns in the dataset for each observation:\n",
    "- Name of the county/state\n",
    "- Real gross domestic product: Thousands of chained (2012) dolloars for years 2016 to 2019\n",
    "- Real gross domestic product: Rank in state for 2019\n",
    "- Percent change from preceding period: percent change for 2017-2019\n",
    "- Percent change from preceding period: rank in state\n",
    "\n",
    "Description: This dataset is from the Bureau of Economic Analysis site from the U.S. Department of Commerce. It contains the gross domestic product (GDP) for all of the counties and states in the United States from 2016 to 2019. It also includeds information about each counties' rankings in their state and the percent change during those years."
   ]
  },
  {
   "cell_type": "markdown",
   "metadata": {
    "cell_id": "00006-f6de5b9b-5771-404b-b305-d242a9405dd1",
    "deepnote_cell_type": "markdown"
   },
   "source": [
    "# Setup"
   ]
  },
  {
   "cell_type": "code",
   "execution_count": null,
   "metadata": {
    "cell_id": "00007-98dba5ef-0d2c-4dd3-8970-45aed7f91c65",
    "deepnote_cell_type": "code",
    "deepnote_to_be_reexecuted": false,
    "execution_millis": 1663,
    "execution_start": 1620351233893,
    "source_hash": "918756e3"
   },
   "outputs": [],
   "source": [
    "import pandas as pd\n",
    "\n",
    "gdp_data = pd.read_excel('lagdp1220.xlsx')"
   ]
  },
  {
   "cell_type": "markdown",
   "metadata": {
    "cell_id": "00008-6fb2a557-1212-4058-92dc-ef5af91add9d",
    "deepnote_cell_type": "markdown"
   },
   "source": [
    "# Data Cleaning"
   ]
  },
  {
   "cell_type": "markdown",
   "metadata": {
    "cell_id": "00009-c2e43bd4-5db1-42fd-9254-7d07539e006a",
    "deepnote_cell_type": "markdown"
   },
   "source": [
    "Since we are only interested in the counties, we are going to drop rows include information on the country and the states.  We are also going to be dropping any rows with null data in them.\n"
   ]
  },
  {
   "cell_type": "code",
   "execution_count": null,
   "metadata": {
    "cell_id": "00010-3245b60e-d042-4fbd-8101-fe31f4c0f52d",
    "deepnote_cell_type": "code",
    "deepnote_to_be_reexecuted": false,
    "execution_millis": 101,
    "execution_start": 1620351235560,
    "source_hash": "b49b43ba"
   },
   "outputs": [
    {
     "data": {
      "application/vnd.deepnote.dataframe.v2+json": {
       "column_count": 10,
       "columns": [
        {
         "dtype": "object",
         "name": "Table 1. Real Gross Domestic Product by County, 2016–2019",
         "stats": {
          "categories": [
           {
            "count": 1,
            "name": "Autauga"
           },
           {
            "count": 1,
            "name": "Baldwin"
           },
           {
            "count": 3,
            "name": "3 others"
           }
          ],
          "nan_count": 0,
          "unique_count": 5
         }
        },
        {
         "dtype": "object",
         "name": "Unnamed: 1",
         "stats": {
          "categories": [
           {
            "count": 1,
            "name": "1581893"
           },
           {
            "count": 1,
            "name": "5625966"
           },
           {
            "count": 3,
            "name": "3 others"
           }
          ],
          "nan_count": 0,
          "unique_count": 5
         }
        },
        {
         "dtype": "float64",
         "name": "Unnamed: 2",
         "stats": {
          "histogram": [
           {
            "bin_end": 895758.9,
            "bin_start": 355890,
            "count": 3
           },
           {
            "bin_end": 1435627.8,
            "bin_start": 895758.9,
            "count": 0
           },
           {
            "bin_end": 1975496.7000000002,
            "bin_start": 1435627.8,
            "count": 1
           },
           {
            "bin_end": 2515365.6,
            "bin_start": 1975496.7000000002,
            "count": 0
           },
           {
            "bin_end": 3055234.5,
            "bin_start": 2515365.6,
            "count": 0
           },
           {
            "bin_end": 3595103.4000000004,
            "bin_start": 3055234.5,
            "count": 0
           },
           {
            "bin_end": 4134972.3000000003,
            "bin_start": 3595103.4000000004,
            "count": 0
           },
           {
            "bin_end": 4674841.2,
            "bin_start": 4134972.3000000003,
            "count": 0
           },
           {
            "bin_end": 5214710.100000001,
            "bin_start": 4674841.2,
            "count": 0
           },
           {
            "bin_end": 5754579,
            "bin_start": 5214710.100000001,
            "count": 1
           }
          ],
          "max": "5754579.0",
          "min": "355890.0",
          "nan_count": 0,
          "unique_count": 5
         }
        },
        {
         "dtype": "float64",
         "name": "Unnamed: 3",
         "stats": {
          "histogram": [
           {
            "bin_end": 927581.3,
            "bin_start": 363268,
            "count": 3
           },
           {
            "bin_end": 1491894.6,
            "bin_start": 927581.3,
            "count": 0
           },
           {
            "bin_end": 2056207.9000000001,
            "bin_start": 1491894.6,
            "count": 1
           },
           {
            "bin_end": 2620521.2,
            "bin_start": 2056207.9000000001,
            "count": 0
           },
           {
            "bin_end": 3184834.5,
            "bin_start": 2620521.2,
            "count": 0
           },
           {
            "bin_end": 3749147.8000000003,
            "bin_start": 3184834.5,
            "count": 0
           },
           {
            "bin_end": 4313461.100000001,
            "bin_start": 3749147.8000000003,
            "count": 0
           },
           {
            "bin_end": 4877774.4,
            "bin_start": 4313461.100000001,
            "count": 0
           },
           {
            "bin_end": 5442087.7,
            "bin_start": 4877774.4,
            "count": 0
           },
           {
            "bin_end": 6006401,
            "bin_start": 5442087.7,
            "count": 1
           }
          ],
          "max": "6006401.0",
          "min": "363268.0",
          "nan_count": 0,
          "unique_count": 5
         }
        },
        {
         "dtype": "float64",
         "name": "Unnamed: 4",
         "stats": {
          "histogram": [
           {
            "bin_end": 964643.7,
            "bin_start": 389547,
            "count": 3
           },
           {
            "bin_end": 1539740.4,
            "bin_start": 964643.7,
            "count": 1
           },
           {
            "bin_end": 2114837.0999999996,
            "bin_start": 1539740.4,
            "count": 0
           },
           {
            "bin_end": 2689933.8,
            "bin_start": 2114837.0999999996,
            "count": 0
           },
           {
            "bin_end": 3265030.5,
            "bin_start": 2689933.8,
            "count": 0
           },
           {
            "bin_end": 3840127.1999999997,
            "bin_start": 3265030.5,
            "count": 0
           },
           {
            "bin_end": 4415223.899999999,
            "bin_start": 3840127.1999999997,
            "count": 0
           },
           {
            "bin_end": 4990320.6,
            "bin_start": 4415223.899999999,
            "count": 0
           },
           {
            "bin_end": 5565417.3,
            "bin_start": 4990320.6,
            "count": 0
           },
           {
            "bin_end": 6140514,
            "bin_start": 5565417.3,
            "count": 1
           }
          ],
          "max": "6140514.0",
          "min": "389547.0",
          "nan_count": 0,
          "unique_count": 5
         }
        },
        {
         "dtype": "object",
         "name": "Unnamed: 5",
         "stats": {
          "categories": [
           {
            "count": 1,
            "name": "24"
           },
           {
            "count": 1,
            "name": "7"
           },
           {
            "count": 3,
            "name": "3 others"
           }
          ],
          "nan_count": 0,
          "unique_count": 5
         }
        },
        {
         "dtype": "object",
         "name": "Unnamed: 6",
         "stats": {
          "categories": [
           {
            "count": 1,
            "name": "-5.5"
           },
           {
            "count": 1,
            "name": "2.3"
           },
           {
            "count": 3,
            "name": "3 others"
           }
          ],
          "nan_count": 0,
          "unique_count": 5
         }
        },
        {
         "dtype": "float64",
         "name": "Unnamed: 7",
         "stats": {
          "histogram": [
           {
            "bin_end": 2.33,
            "bin_start": 2.1,
            "count": 2
           },
           {
            "bin_end": 2.56,
            "bin_start": 2.33,
            "count": 0
           },
           {
            "bin_end": 2.79,
            "bin_start": 2.56,
            "count": 0
           },
           {
            "bin_end": 3.0200000000000005,
            "bin_start": 2.79,
            "count": 1
           },
           {
            "bin_end": 3.25,
            "bin_start": 3.0200000000000005,
            "count": 0
           },
           {
            "bin_end": 3.4800000000000004,
            "bin_start": 3.25,
            "count": 0
           },
           {
            "bin_end": 3.7100000000000004,
            "bin_start": 3.4800000000000004,
            "count": 0
           },
           {
            "bin_end": 3.9400000000000004,
            "bin_start": 3.7100000000000004,
            "count": 1
           },
           {
            "bin_end": 4.17,
            "bin_start": 3.9400000000000004,
            "count": 0
           },
           {
            "bin_end": 4.4,
            "bin_start": 4.17,
            "count": 1
           }
          ],
          "max": "4.4",
          "min": "2.1",
          "nan_count": 0,
          "unique_count": 5
         }
        },
        {
         "dtype": "float64",
         "name": "Unnamed: 8",
         "stats": {
          "histogram": [
           {
            "bin_end": -1.98,
            "bin_start": -3,
            "count": 2
           },
           {
            "bin_end": -0.96,
            "bin_start": -1.98,
            "count": 1
           },
           {
            "bin_end": 0.06000000000000005,
            "bin_start": -0.96,
            "count": 0
           },
           {
            "bin_end": 1.08,
            "bin_start": 0.06000000000000005,
            "count": 0
           },
           {
            "bin_end": 2.0999999999999996,
            "bin_start": 1.08,
            "count": 0
           },
           {
            "bin_end": 3.12,
            "bin_start": 2.0999999999999996,
            "count": 1
           },
           {
            "bin_end": 4.140000000000001,
            "bin_start": 3.12,
            "count": 0
           },
           {
            "bin_end": 5.16,
            "bin_start": 4.140000000000001,
            "count": 0
           },
           {
            "bin_end": 6.18,
            "bin_start": 5.16,
            "count": 0
           },
           {
            "bin_end": 7.2,
            "bin_start": 6.18,
            "count": 1
           }
          ],
          "max": "7.2",
          "min": "-3.0",
          "nan_count": 0,
          "unique_count": 5
         }
        },
        {
         "dtype": "object",
         "name": "Unnamed: 9",
         "stats": {
          "categories": [
           {
            "count": 1,
            "name": "61"
           },
           {
            "count": 1,
            "name": "28"
           },
           {
            "count": 3,
            "name": "3 others"
           }
          ],
          "nan_count": 0,
          "unique_count": 5
         }
        },
        {
         "dtype": "int64",
         "name": "_deepnote_index_column"
        }
       ],
       "row_count": 5,
       "rows_bottom": null,
       "rows_top": [
        {
         "Table 1. Real Gross Domestic Product by County, 2016–2019": "Autauga",
         "Unnamed: 1": 1581893,
         "Unnamed: 2": 1494278,
         "Unnamed: 3": 1537059,
         "Unnamed: 4": 1501769,
         "Unnamed: 5": 24,
         "Unnamed: 6": -5.5,
         "Unnamed: 7": 2.9,
         "Unnamed: 8": -2.3,
         "Unnamed: 9": 61,
         "_deepnote_index_column": 0
        },
        {
         "Table 1. Real Gross Domestic Product by County, 2016–2019": "Baldwin",
         "Unnamed: 1": 5625966,
         "Unnamed: 2": 5754579,
         "Unnamed: 3": 6006401,
         "Unnamed: 4": 6140514,
         "Unnamed: 5": 7,
         "Unnamed: 6": 2.3,
         "Unnamed: 7": 4.4,
         "Unnamed: 8": 2.2,
         "Unnamed: 9": 28,
         "_deepnote_index_column": 1
        },
        {
         "Table 1. Real Gross Domestic Product by County, 2016–2019": "Barbour",
         "Unnamed: 1": 739860,
         "Unnamed: 2": 743441,
         "Unnamed: 3": 771536,
         "Unnamed: 4": 762856,
         "Unnamed: 5": 40,
         "Unnamed: 6": 0.5,
         "Unnamed: 7": 3.8,
         "Unnamed: 8": -1.1,
         "Unnamed: 9": 58,
         "_deepnote_index_column": 2
        },
        {
         "Table 1. Real Gross Domestic Product by County, 2016–2019": "Bibb",
         "Unnamed: 1": 355874,
         "Unnamed: 2": 355890,
         "Unnamed: 3": 363268,
         "Unnamed: 4": 389547,
         "Unnamed: 5": 58,
         "Unnamed: 6": 0,
         "Unnamed: 7": 2.1,
         "Unnamed: 8": 7.2,
         "Unnamed: 9": 2,
         "_deepnote_index_column": 3
        },
        {
         "Table 1. Real Gross Domestic Product by County, 2016–2019": "Blount",
         "Unnamed: 1": 829566,
         "Unnamed: 2": 876376,
         "Unnamed: 3": 896074,
         "Unnamed: 4": 869049,
         "Unnamed: 5": 35,
         "Unnamed: 6": 5.6,
         "Unnamed: 7": 2.2,
         "Unnamed: 8": -3,
         "Unnamed: 9": 62,
         "_deepnote_index_column": 4
        }
       ]
      },
      "text/html": [
       "<div>\n",
       "<style scoped>\n",
       "    .dataframe tbody tr th:only-of-type {\n",
       "        vertical-align: middle;\n",
       "    }\n",
       "\n",
       "    .dataframe tbody tr th {\n",
       "        vertical-align: top;\n",
       "    }\n",
       "\n",
       "    .dataframe thead th {\n",
       "        text-align: right;\n",
       "    }\n",
       "</style>\n",
       "<table border=\"1\" class=\"dataframe\">\n",
       "  <thead>\n",
       "    <tr style=\"text-align: right;\">\n",
       "      <th></th>\n",
       "      <th>Table 1. Real Gross Domestic Product by County, 2016–2019</th>\n",
       "      <th>Unnamed: 1</th>\n",
       "      <th>Unnamed: 2</th>\n",
       "      <th>Unnamed: 3</th>\n",
       "      <th>Unnamed: 4</th>\n",
       "      <th>Unnamed: 5</th>\n",
       "      <th>Unnamed: 6</th>\n",
       "      <th>Unnamed: 7</th>\n",
       "      <th>Unnamed: 8</th>\n",
       "      <th>Unnamed: 9</th>\n",
       "    </tr>\n",
       "  </thead>\n",
       "  <tbody>\n",
       "    <tr>\n",
       "      <th>0</th>\n",
       "      <td>Autauga</td>\n",
       "      <td>1581893</td>\n",
       "      <td>1494278.0</td>\n",
       "      <td>1537059.0</td>\n",
       "      <td>1501769.0</td>\n",
       "      <td>24</td>\n",
       "      <td>-5.5</td>\n",
       "      <td>2.9</td>\n",
       "      <td>-2.3</td>\n",
       "      <td>61</td>\n",
       "    </tr>\n",
       "    <tr>\n",
       "      <th>1</th>\n",
       "      <td>Baldwin</td>\n",
       "      <td>5625966</td>\n",
       "      <td>5754579.0</td>\n",
       "      <td>6006401.0</td>\n",
       "      <td>6140514.0</td>\n",
       "      <td>7</td>\n",
       "      <td>2.3</td>\n",
       "      <td>4.4</td>\n",
       "      <td>2.2</td>\n",
       "      <td>28</td>\n",
       "    </tr>\n",
       "    <tr>\n",
       "      <th>2</th>\n",
       "      <td>Barbour</td>\n",
       "      <td>739860</td>\n",
       "      <td>743441.0</td>\n",
       "      <td>771536.0</td>\n",
       "      <td>762856.0</td>\n",
       "      <td>40</td>\n",
       "      <td>0.5</td>\n",
       "      <td>3.8</td>\n",
       "      <td>-1.1</td>\n",
       "      <td>58</td>\n",
       "    </tr>\n",
       "    <tr>\n",
       "      <th>3</th>\n",
       "      <td>Bibb</td>\n",
       "      <td>355874</td>\n",
       "      <td>355890.0</td>\n",
       "      <td>363268.0</td>\n",
       "      <td>389547.0</td>\n",
       "      <td>58</td>\n",
       "      <td>0</td>\n",
       "      <td>2.1</td>\n",
       "      <td>7.2</td>\n",
       "      <td>2</td>\n",
       "    </tr>\n",
       "    <tr>\n",
       "      <th>4</th>\n",
       "      <td>Blount</td>\n",
       "      <td>829566</td>\n",
       "      <td>876376.0</td>\n",
       "      <td>896074.0</td>\n",
       "      <td>869049.0</td>\n",
       "      <td>35</td>\n",
       "      <td>5.6</td>\n",
       "      <td>2.2</td>\n",
       "      <td>-3.0</td>\n",
       "      <td>62</td>\n",
       "    </tr>\n",
       "  </tbody>\n",
       "</table>\n",
       "</div>"
      ],
      "text/plain": [
       "  Table 1. Real Gross Domestic Product by County, 2016–2019 Unnamed: 1  \\\n",
       "0                                            Autauga           1581893   \n",
       "1                                            Baldwin           5625966   \n",
       "2                                            Barbour            739860   \n",
       "3                                               Bibb            355874   \n",
       "4                                             Blount            829566   \n",
       "\n",
       "   Unnamed: 2  Unnamed: 3  Unnamed: 4 Unnamed: 5 Unnamed: 6  Unnamed: 7  \\\n",
       "0   1494278.0   1537059.0   1501769.0         24       -5.5         2.9   \n",
       "1   5754579.0   6006401.0   6140514.0          7        2.3         4.4   \n",
       "2    743441.0    771536.0    762856.0         40        0.5         3.8   \n",
       "3    355890.0    363268.0    389547.0         58          0         2.1   \n",
       "4    876376.0    896074.0    869049.0         35        5.6         2.2   \n",
       "\n",
       "   Unnamed: 8 Unnamed: 9  \n",
       "0        -2.3         61  \n",
       "1         2.2         28  \n",
       "2        -1.1         58  \n",
       "3         7.2          2  \n",
       "4        -3.0         62  "
      ]
     },
     "execution_count": 2,
     "metadata": {},
     "output_type": "execute_result"
    }
   ],
   "source": [
    "gdp_data = gdp_data.dropna(how='any')\n",
    "gdp_data = gdp_data.reset_index(drop=True)\n",
    "gdp_data = gdp_data[gdp_data['Unnamed: 5'] != '--']\n",
    "gdp_data = gdp_data.reset_index(drop=True)\n",
    "gdp_data.head()"
   ]
  },
  {
   "cell_type": "markdown",
   "metadata": {
    "cell_id": "00011-9b5b7a40-e3e1-446c-8058-534ca7a0daa5",
    "deepnote_cell_type": "markdown",
    "tags": []
   },
   "source": [
    "Next, since GDP would not change drastically in a few years, we only wanted the GDP for the year 2019 since it its the most recent. Thus, we dropped the columns for 2016, 2017, and 2018. We are also comparing the changes in GDP since we are focused on the changes in air quality. So we are dropping the columns regarding the percent change as well."
   ]
  },
  {
   "cell_type": "code",
   "execution_count": null,
   "metadata": {
    "cell_id": "00013-d24d02aa-1570-4956-8d05-e54240710991",
    "deepnote_cell_type": "code",
    "deepnote_to_be_reexecuted": false,
    "execution_millis": 33,
    "execution_start": 1620351235657,
    "source_hash": "d0f996f4",
    "tags": []
   },
   "outputs": [
    {
     "data": {
      "application/vnd.deepnote.dataframe.v2+json": {
       "column_count": 2,
       "columns": [
        {
         "dtype": "object",
         "name": "Table 1. Real Gross Domestic Product by County, 2016–2019",
         "stats": {
          "categories": [
           {
            "count": 1,
            "name": "Autauga"
           },
           {
            "count": 1,
            "name": "Baldwin"
           },
           {
            "count": 3,
            "name": "3 others"
           }
          ],
          "nan_count": 0,
          "unique_count": 5
         }
        },
        {
         "dtype": "float64",
         "name": "Unnamed: 4",
         "stats": {
          "histogram": [
           {
            "bin_end": 964643.7,
            "bin_start": 389547,
            "count": 3
           },
           {
            "bin_end": 1539740.4,
            "bin_start": 964643.7,
            "count": 1
           },
           {
            "bin_end": 2114837.0999999996,
            "bin_start": 1539740.4,
            "count": 0
           },
           {
            "bin_end": 2689933.8,
            "bin_start": 2114837.0999999996,
            "count": 0
           },
           {
            "bin_end": 3265030.5,
            "bin_start": 2689933.8,
            "count": 0
           },
           {
            "bin_end": 3840127.1999999997,
            "bin_start": 3265030.5,
            "count": 0
           },
           {
            "bin_end": 4415223.899999999,
            "bin_start": 3840127.1999999997,
            "count": 0
           },
           {
            "bin_end": 4990320.6,
            "bin_start": 4415223.899999999,
            "count": 0
           },
           {
            "bin_end": 5565417.3,
            "bin_start": 4990320.6,
            "count": 0
           },
           {
            "bin_end": 6140514,
            "bin_start": 5565417.3,
            "count": 1
           }
          ],
          "max": "6140514.0",
          "min": "389547.0",
          "nan_count": 0,
          "unique_count": 5
         }
        },
        {
         "dtype": "int64",
         "name": "_deepnote_index_column"
        }
       ],
       "row_count": 5,
       "rows_bottom": null,
       "rows_top": [
        {
         "Table 1. Real Gross Domestic Product by County, 2016–2019": "Autauga",
         "Unnamed: 4": 1501769,
         "_deepnote_index_column": 0
        },
        {
         "Table 1. Real Gross Domestic Product by County, 2016–2019": "Baldwin",
         "Unnamed: 4": 6140514,
         "_deepnote_index_column": 1
        },
        {
         "Table 1. Real Gross Domestic Product by County, 2016–2019": "Barbour",
         "Unnamed: 4": 762856,
         "_deepnote_index_column": 2
        },
        {
         "Table 1. Real Gross Domestic Product by County, 2016–2019": "Bibb",
         "Unnamed: 4": 389547,
         "_deepnote_index_column": 3
        },
        {
         "Table 1. Real Gross Domestic Product by County, 2016–2019": "Blount",
         "Unnamed: 4": 869049,
         "_deepnote_index_column": 4
        }
       ]
      },
      "text/html": [
       "<div>\n",
       "<style scoped>\n",
       "    .dataframe tbody tr th:only-of-type {\n",
       "        vertical-align: middle;\n",
       "    }\n",
       "\n",
       "    .dataframe tbody tr th {\n",
       "        vertical-align: top;\n",
       "    }\n",
       "\n",
       "    .dataframe thead th {\n",
       "        text-align: right;\n",
       "    }\n",
       "</style>\n",
       "<table border=\"1\" class=\"dataframe\">\n",
       "  <thead>\n",
       "    <tr style=\"text-align: right;\">\n",
       "      <th></th>\n",
       "      <th>Table 1. Real Gross Domestic Product by County, 2016–2019</th>\n",
       "      <th>Unnamed: 4</th>\n",
       "    </tr>\n",
       "  </thead>\n",
       "  <tbody>\n",
       "    <tr>\n",
       "      <th>0</th>\n",
       "      <td>Autauga</td>\n",
       "      <td>1501769.0</td>\n",
       "    </tr>\n",
       "    <tr>\n",
       "      <th>1</th>\n",
       "      <td>Baldwin</td>\n",
       "      <td>6140514.0</td>\n",
       "    </tr>\n",
       "    <tr>\n",
       "      <th>2</th>\n",
       "      <td>Barbour</td>\n",
       "      <td>762856.0</td>\n",
       "    </tr>\n",
       "    <tr>\n",
       "      <th>3</th>\n",
       "      <td>Bibb</td>\n",
       "      <td>389547.0</td>\n",
       "    </tr>\n",
       "    <tr>\n",
       "      <th>4</th>\n",
       "      <td>Blount</td>\n",
       "      <td>869049.0</td>\n",
       "    </tr>\n",
       "  </tbody>\n",
       "</table>\n",
       "</div>"
      ],
      "text/plain": [
       "  Table 1. Real Gross Domestic Product by County, 2016–2019  Unnamed: 4\n",
       "0                                            Autauga          1501769.0\n",
       "1                                            Baldwin          6140514.0\n",
       "2                                            Barbour           762856.0\n",
       "3                                               Bibb           389547.0\n",
       "4                                             Blount           869049.0"
      ]
     },
     "execution_count": 3,
     "metadata": {},
     "output_type": "execute_result"
    }
   ],
   "source": [
    "gdp_data = gdp_data.drop(columns=['Unnamed: 1', 'Unnamed: 2','Unnamed: 3','Unnamed: 5', 'Unnamed: 6','Unnamed: 7','Unnamed: 8','Unnamed: 9'])\n",
    "gdp_data.head()"
   ]
  },
  {
   "cell_type": "markdown",
   "metadata": {
    "cell_id": "00014-7acfbe53-2ef5-479f-aca8-3f861348147e",
    "deepnote_cell_type": "markdown",
    "tags": []
   },
   "source": [
    "Then we change the column names so that they are more descriptive and intuitive.  "
   ]
  },
  {
   "cell_type": "code",
   "execution_count": null,
   "metadata": {
    "cell_id": "00014-58f5ce18-4ed7-4e4e-bff0-cbe37e65a0d3",
    "deepnote_cell_type": "code",
    "deepnote_to_be_reexecuted": false,
    "execution_millis": 50,
    "execution_start": 1620351235690,
    "source_hash": "790839da",
    "tags": []
   },
   "outputs": [
    {
     "data": {
      "application/vnd.deepnote.dataframe.v2+json": {
       "column_count": 2,
       "columns": [
        {
         "dtype": "object",
         "name": "County",
         "stats": {
          "categories": [
           {
            "count": 1,
            "name": "Autauga"
           },
           {
            "count": 1,
            "name": "Baldwin"
           },
           {
            "count": 3,
            "name": "3 others"
           }
          ],
          "nan_count": 0,
          "unique_count": 5
         }
        },
        {
         "dtype": "float64",
         "name": "2019 Real GDP",
         "stats": {
          "histogram": [
           {
            "bin_end": 964643.7,
            "bin_start": 389547,
            "count": 3
           },
           {
            "bin_end": 1539740.4,
            "bin_start": 964643.7,
            "count": 1
           },
           {
            "bin_end": 2114837.0999999996,
            "bin_start": 1539740.4,
            "count": 0
           },
           {
            "bin_end": 2689933.8,
            "bin_start": 2114837.0999999996,
            "count": 0
           },
           {
            "bin_end": 3265030.5,
            "bin_start": 2689933.8,
            "count": 0
           },
           {
            "bin_end": 3840127.1999999997,
            "bin_start": 3265030.5,
            "count": 0
           },
           {
            "bin_end": 4415223.899999999,
            "bin_start": 3840127.1999999997,
            "count": 0
           },
           {
            "bin_end": 4990320.6,
            "bin_start": 4415223.899999999,
            "count": 0
           },
           {
            "bin_end": 5565417.3,
            "bin_start": 4990320.6,
            "count": 0
           },
           {
            "bin_end": 6140514,
            "bin_start": 5565417.3,
            "count": 1
           }
          ],
          "max": "6140514.0",
          "min": "389547.0",
          "nan_count": 0,
          "unique_count": 5
         }
        },
        {
         "dtype": "int64",
         "name": "_deepnote_index_column"
        }
       ],
       "row_count": 5,
       "rows_bottom": null,
       "rows_top": [
        {
         "2019 Real GDP": 1501769,
         "County": "Autauga",
         "_deepnote_index_column": 0
        },
        {
         "2019 Real GDP": 6140514,
         "County": "Baldwin",
         "_deepnote_index_column": 1
        },
        {
         "2019 Real GDP": 762856,
         "County": "Barbour",
         "_deepnote_index_column": 2
        },
        {
         "2019 Real GDP": 389547,
         "County": "Bibb",
         "_deepnote_index_column": 3
        },
        {
         "2019 Real GDP": 869049,
         "County": "Blount",
         "_deepnote_index_column": 4
        }
       ]
      },
      "text/html": [
       "<div>\n",
       "<style scoped>\n",
       "    .dataframe tbody tr th:only-of-type {\n",
       "        vertical-align: middle;\n",
       "    }\n",
       "\n",
       "    .dataframe tbody tr th {\n",
       "        vertical-align: top;\n",
       "    }\n",
       "\n",
       "    .dataframe thead th {\n",
       "        text-align: right;\n",
       "    }\n",
       "</style>\n",
       "<table border=\"1\" class=\"dataframe\">\n",
       "  <thead>\n",
       "    <tr style=\"text-align: right;\">\n",
       "      <th></th>\n",
       "      <th>County</th>\n",
       "      <th>2019 Real GDP</th>\n",
       "    </tr>\n",
       "  </thead>\n",
       "  <tbody>\n",
       "    <tr>\n",
       "      <th>0</th>\n",
       "      <td>Autauga</td>\n",
       "      <td>1501769.0</td>\n",
       "    </tr>\n",
       "    <tr>\n",
       "      <th>1</th>\n",
       "      <td>Baldwin</td>\n",
       "      <td>6140514.0</td>\n",
       "    </tr>\n",
       "    <tr>\n",
       "      <th>2</th>\n",
       "      <td>Barbour</td>\n",
       "      <td>762856.0</td>\n",
       "    </tr>\n",
       "    <tr>\n",
       "      <th>3</th>\n",
       "      <td>Bibb</td>\n",
       "      <td>389547.0</td>\n",
       "    </tr>\n",
       "    <tr>\n",
       "      <th>4</th>\n",
       "      <td>Blount</td>\n",
       "      <td>869049.0</td>\n",
       "    </tr>\n",
       "  </tbody>\n",
       "</table>\n",
       "</div>"
      ],
      "text/plain": [
       "    County  2019 Real GDP\n",
       "0  Autauga      1501769.0\n",
       "1  Baldwin      6140514.0\n",
       "2  Barbour       762856.0\n",
       "3     Bibb       389547.0\n",
       "4   Blount       869049.0"
      ]
     },
     "execution_count": 4,
     "metadata": {},
     "output_type": "execute_result"
    }
   ],
   "source": [
    "gdp_data.columns = ['County','2019 Real GDP']\n",
    "gdp_data.head()"
   ]
  },
  {
   "cell_type": "markdown",
   "metadata": {
    "cell_id": "00000-a1dec3c3-6637-4965-bd7a-846665fa733c",
    "deepnote_cell_type": "markdown",
    "id": "FFEA3TS_cM77"
   },
   "source": [
    "**Data** \n",
    "\n",
    "We pulled the data from the EPA website for the Dail AQI values for all the couties across America for the years of 2018, 2019, and 2020. Each of these datasets came seperately so the first task was to concatenate them together"
   ]
  },
  {
   "cell_type": "code",
   "execution_count": null,
   "metadata": {
    "cell_id": "00001-828a1f2f-5dfc-48c1-80df-629220fce81f",
    "colab": {
     "base_uri": "https://localhost:8080/",
     "height": 191
    },
    "deepnote_cell_type": "code",
    "id": "2B2o0ihuO_9z",
    "outputId": "c0897165-44e5-4692-c1ff-e8d76932b7b5"
   },
   "outputs": [
    {
     "data": {
      "text/html": [
       "<div>\n",
       "<style scoped>\n",
       "    .dataframe tbody tr th:only-of-type {\n",
       "        vertical-align: middle;\n",
       "    }\n",
       "\n",
       "    .dataframe tbody tr th {\n",
       "        vertical-align: top;\n",
       "    }\n",
       "\n",
       "    .dataframe thead th {\n",
       "        text-align: right;\n",
       "    }\n",
       "</style>\n",
       "<table border=\"1\" class=\"dataframe\">\n",
       "  <thead>\n",
       "    <tr style=\"text-align: right;\">\n",
       "      <th></th>\n",
       "      <th>State Name</th>\n",
       "      <th>county Name</th>\n",
       "      <th>State Code</th>\n",
       "      <th>County Code</th>\n",
       "      <th>Date</th>\n",
       "      <th>AQI</th>\n",
       "      <th>Category</th>\n",
       "      <th>Defining Parameter</th>\n",
       "      <th>Defining Site</th>\n",
       "      <th>Number of Sites Reporting</th>\n",
       "    </tr>\n",
       "  </thead>\n",
       "  <tbody>\n",
       "    <tr>\n",
       "      <th>0</th>\n",
       "      <td>Alabama</td>\n",
       "      <td>Baldwin</td>\n",
       "      <td>1</td>\n",
       "      <td>3</td>\n",
       "      <td>2018-01-02</td>\n",
       "      <td>32</td>\n",
       "      <td>Good</td>\n",
       "      <td>PM2.5</td>\n",
       "      <td>01-003-0010</td>\n",
       "      <td>1</td>\n",
       "    </tr>\n",
       "    <tr>\n",
       "      <th>1</th>\n",
       "      <td>Alabama</td>\n",
       "      <td>Baldwin</td>\n",
       "      <td>1</td>\n",
       "      <td>3</td>\n",
       "      <td>2018-01-05</td>\n",
       "      <td>34</td>\n",
       "      <td>Good</td>\n",
       "      <td>PM2.5</td>\n",
       "      <td>01-003-0010</td>\n",
       "      <td>1</td>\n",
       "    </tr>\n",
       "    <tr>\n",
       "      <th>2</th>\n",
       "      <td>Alabama</td>\n",
       "      <td>Baldwin</td>\n",
       "      <td>1</td>\n",
       "      <td>3</td>\n",
       "      <td>2018-01-08</td>\n",
       "      <td>15</td>\n",
       "      <td>Good</td>\n",
       "      <td>PM2.5</td>\n",
       "      <td>01-003-0010</td>\n",
       "      <td>1</td>\n",
       "    </tr>\n",
       "    <tr>\n",
       "      <th>3</th>\n",
       "      <td>Alabama</td>\n",
       "      <td>Baldwin</td>\n",
       "      <td>1</td>\n",
       "      <td>3</td>\n",
       "      <td>2018-01-11</td>\n",
       "      <td>19</td>\n",
       "      <td>Good</td>\n",
       "      <td>PM2.5</td>\n",
       "      <td>01-003-0010</td>\n",
       "      <td>1</td>\n",
       "    </tr>\n",
       "    <tr>\n",
       "      <th>4</th>\n",
       "      <td>Alabama</td>\n",
       "      <td>Baldwin</td>\n",
       "      <td>1</td>\n",
       "      <td>3</td>\n",
       "      <td>2018-01-14</td>\n",
       "      <td>25</td>\n",
       "      <td>Good</td>\n",
       "      <td>PM2.5</td>\n",
       "      <td>01-003-0010</td>\n",
       "      <td>1</td>\n",
       "    </tr>\n",
       "  </tbody>\n",
       "</table>\n",
       "</div>"
      ],
      "text/plain": [
       "  State Name county Name  ...  Defining Site  Number of Sites Reporting\n",
       "0    Alabama     Baldwin  ...    01-003-0010                          1\n",
       "1    Alabama     Baldwin  ...    01-003-0010                          1\n",
       "2    Alabama     Baldwin  ...    01-003-0010                          1\n",
       "3    Alabama     Baldwin  ...    01-003-0010                          1\n",
       "4    Alabama     Baldwin  ...    01-003-0010                          1\n",
       "\n",
       "[5 rows x 10 columns]"
      ]
     },
     "execution_count": 48,
     "metadata": {
      "tags": []
     },
     "output_type": "execute_result"
    }
   ],
   "source": [
    "import pandas as pd \n",
    "AQI_2018_path = \"/content/drive/MyDrive/Colab Notebooks/COGS108/daily_aqi_by_county_2018.csv\"\n",
    "AQI_2019_path = \"/content/drive/MyDrive/Colab Notebooks/COGS108/daily_aqi_by_county_2019.csv\"\n",
    "AQI_2020_path = \"/content/drive/MyDrive/Colab Notebooks/COGS108/daily_aqi_by_county_2020.csv\"\n",
    "\n",
    "\n",
    "df_19 = pd.read_csv(AQI_2019_path)\n",
    "df_20 = pd.read_csv(AQI_2020_path)\n",
    "df_18 = pd.read_csv(AQI_2018_path)\n",
    "\n",
    "df_18.head()"
   ]
  },
  {
   "cell_type": "code",
   "execution_count": null,
   "metadata": {
    "cell_id": "00002-58c27912-c850-41bb-93e8-94ce28eb50e0",
    "colab": {
     "base_uri": "https://localhost:8080/",
     "height": 191
    },
    "deepnote_cell_type": "code",
    "id": "rLcsIBVFSEcU",
    "outputId": "b32bb6a4-1a6b-433c-b30b-23a818013205",
    "scrolled": true
   },
   "outputs": [
    {
     "data": {
      "text/html": [
       "<div>\n",
       "<style scoped>\n",
       "    .dataframe tbody tr th:only-of-type {\n",
       "        vertical-align: middle;\n",
       "    }\n",
       "\n",
       "    .dataframe tbody tr th {\n",
       "        vertical-align: top;\n",
       "    }\n",
       "\n",
       "    .dataframe thead th {\n",
       "        text-align: right;\n",
       "    }\n",
       "</style>\n",
       "<table border=\"1\" class=\"dataframe\">\n",
       "  <thead>\n",
       "    <tr style=\"text-align: right;\">\n",
       "      <th></th>\n",
       "      <th>State Name</th>\n",
       "      <th>county Name</th>\n",
       "      <th>State Code</th>\n",
       "      <th>County Code</th>\n",
       "      <th>Date</th>\n",
       "      <th>AQI</th>\n",
       "      <th>Category</th>\n",
       "      <th>Defining Parameter</th>\n",
       "      <th>Defining Site</th>\n",
       "      <th>Number of Sites Reporting</th>\n",
       "    </tr>\n",
       "  </thead>\n",
       "  <tbody>\n",
       "    <tr>\n",
       "      <th>0</th>\n",
       "      <td>Alabama</td>\n",
       "      <td>Baldwin</td>\n",
       "      <td>1</td>\n",
       "      <td>3</td>\n",
       "      <td>2019-01-03</td>\n",
       "      <td>18</td>\n",
       "      <td>Good</td>\n",
       "      <td>PM2.5</td>\n",
       "      <td>01-003-0010</td>\n",
       "      <td>1</td>\n",
       "    </tr>\n",
       "    <tr>\n",
       "      <th>1</th>\n",
       "      <td>Alabama</td>\n",
       "      <td>Baldwin</td>\n",
       "      <td>1</td>\n",
       "      <td>3</td>\n",
       "      <td>2019-01-06</td>\n",
       "      <td>35</td>\n",
       "      <td>Good</td>\n",
       "      <td>PM2.5</td>\n",
       "      <td>01-003-0010</td>\n",
       "      <td>1</td>\n",
       "    </tr>\n",
       "    <tr>\n",
       "      <th>2</th>\n",
       "      <td>Alabama</td>\n",
       "      <td>Baldwin</td>\n",
       "      <td>1</td>\n",
       "      <td>3</td>\n",
       "      <td>2019-01-09</td>\n",
       "      <td>14</td>\n",
       "      <td>Good</td>\n",
       "      <td>PM2.5</td>\n",
       "      <td>01-003-0010</td>\n",
       "      <td>1</td>\n",
       "    </tr>\n",
       "    <tr>\n",
       "      <th>3</th>\n",
       "      <td>Alabama</td>\n",
       "      <td>Baldwin</td>\n",
       "      <td>1</td>\n",
       "      <td>3</td>\n",
       "      <td>2019-01-12</td>\n",
       "      <td>36</td>\n",
       "      <td>Good</td>\n",
       "      <td>PM2.5</td>\n",
       "      <td>01-003-0010</td>\n",
       "      <td>1</td>\n",
       "    </tr>\n",
       "    <tr>\n",
       "      <th>4</th>\n",
       "      <td>Alabama</td>\n",
       "      <td>Baldwin</td>\n",
       "      <td>1</td>\n",
       "      <td>3</td>\n",
       "      <td>2019-01-15</td>\n",
       "      <td>38</td>\n",
       "      <td>Good</td>\n",
       "      <td>PM2.5</td>\n",
       "      <td>01-003-0010</td>\n",
       "      <td>1</td>\n",
       "    </tr>\n",
       "  </tbody>\n",
       "</table>\n",
       "</div>"
      ],
      "text/plain": [
       "  State Name county Name  ...  Defining Site  Number of Sites Reporting\n",
       "0    Alabama     Baldwin  ...    01-003-0010                          1\n",
       "1    Alabama     Baldwin  ...    01-003-0010                          1\n",
       "2    Alabama     Baldwin  ...    01-003-0010                          1\n",
       "3    Alabama     Baldwin  ...    01-003-0010                          1\n",
       "4    Alabama     Baldwin  ...    01-003-0010                          1\n",
       "\n",
       "[5 rows x 10 columns]"
      ]
     },
     "execution_count": 49,
     "metadata": {
      "tags": []
     },
     "output_type": "execute_result"
    }
   ],
   "source": [
    "df_19.head()"
   ]
  },
  {
   "cell_type": "code",
   "execution_count": null,
   "metadata": {
    "cell_id": "00003-ac4ddcbf-3054-43d3-a423-760f619d3bd5",
    "colab": {
     "base_uri": "https://localhost:8080/",
     "height": 191
    },
    "deepnote_cell_type": "code",
    "id": "hqYtJ8c_SHqv",
    "outputId": "235a2893-2f6b-44f2-b8ba-1f586586a15d",
    "scrolled": true
   },
   "outputs": [
    {
     "data": {
      "text/html": [
       "<div>\n",
       "<style scoped>\n",
       "    .dataframe tbody tr th:only-of-type {\n",
       "        vertical-align: middle;\n",
       "    }\n",
       "\n",
       "    .dataframe tbody tr th {\n",
       "        vertical-align: top;\n",
       "    }\n",
       "\n",
       "    .dataframe thead th {\n",
       "        text-align: right;\n",
       "    }\n",
       "</style>\n",
       "<table border=\"1\" class=\"dataframe\">\n",
       "  <thead>\n",
       "    <tr style=\"text-align: right;\">\n",
       "      <th></th>\n",
       "      <th>State Name</th>\n",
       "      <th>county Name</th>\n",
       "      <th>State Code</th>\n",
       "      <th>County Code</th>\n",
       "      <th>Date</th>\n",
       "      <th>AQI</th>\n",
       "      <th>Category</th>\n",
       "      <th>Defining Parameter</th>\n",
       "      <th>Defining Site</th>\n",
       "      <th>Number of Sites Reporting</th>\n",
       "    </tr>\n",
       "  </thead>\n",
       "  <tbody>\n",
       "    <tr>\n",
       "      <th>0</th>\n",
       "      <td>Alabama</td>\n",
       "      <td>Baldwin</td>\n",
       "      <td>1</td>\n",
       "      <td>3</td>\n",
       "      <td>2020-01-01</td>\n",
       "      <td>48</td>\n",
       "      <td>Good</td>\n",
       "      <td>PM2.5</td>\n",
       "      <td>01-003-0010</td>\n",
       "      <td>1</td>\n",
       "    </tr>\n",
       "    <tr>\n",
       "      <th>1</th>\n",
       "      <td>Alabama</td>\n",
       "      <td>Baldwin</td>\n",
       "      <td>1</td>\n",
       "      <td>3</td>\n",
       "      <td>2020-01-04</td>\n",
       "      <td>13</td>\n",
       "      <td>Good</td>\n",
       "      <td>PM2.5</td>\n",
       "      <td>01-003-0010</td>\n",
       "      <td>1</td>\n",
       "    </tr>\n",
       "    <tr>\n",
       "      <th>2</th>\n",
       "      <td>Alabama</td>\n",
       "      <td>Baldwin</td>\n",
       "      <td>1</td>\n",
       "      <td>3</td>\n",
       "      <td>2020-01-07</td>\n",
       "      <td>14</td>\n",
       "      <td>Good</td>\n",
       "      <td>PM2.5</td>\n",
       "      <td>01-003-0010</td>\n",
       "      <td>1</td>\n",
       "    </tr>\n",
       "    <tr>\n",
       "      <th>3</th>\n",
       "      <td>Alabama</td>\n",
       "      <td>Baldwin</td>\n",
       "      <td>1</td>\n",
       "      <td>3</td>\n",
       "      <td>2020-01-10</td>\n",
       "      <td>39</td>\n",
       "      <td>Good</td>\n",
       "      <td>PM2.5</td>\n",
       "      <td>01-003-0010</td>\n",
       "      <td>1</td>\n",
       "    </tr>\n",
       "    <tr>\n",
       "      <th>4</th>\n",
       "      <td>Alabama</td>\n",
       "      <td>Baldwin</td>\n",
       "      <td>1</td>\n",
       "      <td>3</td>\n",
       "      <td>2020-01-13</td>\n",
       "      <td>29</td>\n",
       "      <td>Good</td>\n",
       "      <td>PM2.5</td>\n",
       "      <td>01-003-0010</td>\n",
       "      <td>1</td>\n",
       "    </tr>\n",
       "  </tbody>\n",
       "</table>\n",
       "</div>"
      ],
      "text/plain": [
       "  State Name county Name  ...  Defining Site  Number of Sites Reporting\n",
       "0    Alabama     Baldwin  ...    01-003-0010                          1\n",
       "1    Alabama     Baldwin  ...    01-003-0010                          1\n",
       "2    Alabama     Baldwin  ...    01-003-0010                          1\n",
       "3    Alabama     Baldwin  ...    01-003-0010                          1\n",
       "4    Alabama     Baldwin  ...    01-003-0010                          1\n",
       "\n",
       "[5 rows x 10 columns]"
      ]
     },
     "execution_count": 50,
     "metadata": {
      "tags": []
     },
     "output_type": "execute_result"
    }
   ],
   "source": [
    "df_20.head()"
   ]
  },
  {
   "cell_type": "markdown",
   "metadata": {
    "cell_id": "00004-2a095a86-7d8b-431c-b427-dc5ddd639439",
    "deepnote_cell_type": "markdown",
    "id": "1DfCAA0bdS4k"
   },
   "source": [
    "**Step 2**\n",
    "\n",
    "The next course of action would be to convert the date column of the new df into a dattime type to allow for easier queries."
   ]
  },
  {
   "cell_type": "code",
   "execution_count": null,
   "metadata": {
    "cell_id": "00005-e15daf50-088d-4d1b-a073-f663331cf805",
    "colab": {
     "base_uri": "https://localhost:8080/",
     "height": 191
    },
    "deepnote_cell_type": "code",
    "id": "En6iyArcSOl7",
    "outputId": "fee09c77-8b85-43a7-bd16-530b093876a5"
   },
   "outputs": [
    {
     "data": {
      "text/html": [
       "<div>\n",
       "<style scoped>\n",
       "    .dataframe tbody tr th:only-of-type {\n",
       "        vertical-align: middle;\n",
       "    }\n",
       "\n",
       "    .dataframe tbody tr th {\n",
       "        vertical-align: top;\n",
       "    }\n",
       "\n",
       "    .dataframe thead th {\n",
       "        text-align: right;\n",
       "    }\n",
       "</style>\n",
       "<table border=\"1\" class=\"dataframe\">\n",
       "  <thead>\n",
       "    <tr style=\"text-align: right;\">\n",
       "      <th></th>\n",
       "      <th>State Name</th>\n",
       "      <th>county Name</th>\n",
       "      <th>State Code</th>\n",
       "      <th>County Code</th>\n",
       "      <th>Date</th>\n",
       "      <th>AQI</th>\n",
       "      <th>Category</th>\n",
       "      <th>Defining Parameter</th>\n",
       "      <th>Defining Site</th>\n",
       "      <th>Number of Sites Reporting</th>\n",
       "    </tr>\n",
       "  </thead>\n",
       "  <tbody>\n",
       "    <tr>\n",
       "      <th>0</th>\n",
       "      <td>Alabama</td>\n",
       "      <td>Baldwin</td>\n",
       "      <td>1</td>\n",
       "      <td>3</td>\n",
       "      <td>2018-01-02</td>\n",
       "      <td>32</td>\n",
       "      <td>Good</td>\n",
       "      <td>PM2.5</td>\n",
       "      <td>01-003-0010</td>\n",
       "      <td>1</td>\n",
       "    </tr>\n",
       "    <tr>\n",
       "      <th>1</th>\n",
       "      <td>Alabama</td>\n",
       "      <td>Baldwin</td>\n",
       "      <td>1</td>\n",
       "      <td>3</td>\n",
       "      <td>2018-01-05</td>\n",
       "      <td>34</td>\n",
       "      <td>Good</td>\n",
       "      <td>PM2.5</td>\n",
       "      <td>01-003-0010</td>\n",
       "      <td>1</td>\n",
       "    </tr>\n",
       "    <tr>\n",
       "      <th>2</th>\n",
       "      <td>Alabama</td>\n",
       "      <td>Baldwin</td>\n",
       "      <td>1</td>\n",
       "      <td>3</td>\n",
       "      <td>2018-01-08</td>\n",
       "      <td>15</td>\n",
       "      <td>Good</td>\n",
       "      <td>PM2.5</td>\n",
       "      <td>01-003-0010</td>\n",
       "      <td>1</td>\n",
       "    </tr>\n",
       "    <tr>\n",
       "      <th>3</th>\n",
       "      <td>Alabama</td>\n",
       "      <td>Baldwin</td>\n",
       "      <td>1</td>\n",
       "      <td>3</td>\n",
       "      <td>2018-01-11</td>\n",
       "      <td>19</td>\n",
       "      <td>Good</td>\n",
       "      <td>PM2.5</td>\n",
       "      <td>01-003-0010</td>\n",
       "      <td>1</td>\n",
       "    </tr>\n",
       "    <tr>\n",
       "      <th>4</th>\n",
       "      <td>Alabama</td>\n",
       "      <td>Baldwin</td>\n",
       "      <td>1</td>\n",
       "      <td>3</td>\n",
       "      <td>2018-01-14</td>\n",
       "      <td>25</td>\n",
       "      <td>Good</td>\n",
       "      <td>PM2.5</td>\n",
       "      <td>01-003-0010</td>\n",
       "      <td>1</td>\n",
       "    </tr>\n",
       "  </tbody>\n",
       "</table>\n",
       "</div>"
      ],
      "text/plain": [
       "  State Name county Name  ...  Defining Site  Number of Sites Reporting\n",
       "0    Alabama     Baldwin  ...    01-003-0010                          1\n",
       "1    Alabama     Baldwin  ...    01-003-0010                          1\n",
       "2    Alabama     Baldwin  ...    01-003-0010                          1\n",
       "3    Alabama     Baldwin  ...    01-003-0010                          1\n",
       "4    Alabama     Baldwin  ...    01-003-0010                          1\n",
       "\n",
       "[5 rows x 10 columns]"
      ]
     },
     "execution_count": 51,
     "metadata": {
      "tags": []
     },
     "output_type": "execute_result"
    }
   ],
   "source": [
    "from google.colab import files\n",
    "# concatenating 3 years data & dropping null records\n",
    "frames = [df_18,df_19,df_20]\n",
    "df = pd.concat(frames).dropna()\n",
    "\n",
    "#converting Date col to date_time type\n",
    "df['Date'] = pd.to_datetime(df['Date'])\n",
    "df.head()\n",
    "#"
   ]
  },
  {
   "cell_type": "markdown",
   "metadata": {
    "cell_id": "00006-1d83d493-de9e-4a06-90cc-a1f6ef8d6b2c",
    "deepnote_cell_type": "markdown",
    "id": "aEG3flL-ckeX"
   },
   "source": [
    "**Step 3**\n",
    "\n",
    "The next step would be to drop any unwanted columns from the dataset. here we found that the columns for Defining_site, State Code, and County Code were irrelevant to the scope of our project since the location of the record can easily be accessed through the state and county name columns and the defining site at which the the AQI is recorded is not pertinent to the actual AQI since this value is not easily parsable "
   ]
  },
  {
   "cell_type": "code",
   "execution_count": null,
   "metadata": {
    "cell_id": "00007-def82989-4eb9-4122-a21d-7642c40379a3",
    "colab": {
     "base_uri": "https://localhost:8080/",
     "height": 191
    },
    "deepnote_cell_type": "code",
    "id": "OKl8yL2qYe7k",
    "outputId": "647fd17c-c17a-4d78-c0ce-678ab01035c8"
   },
   "outputs": [
    {
     "data": {
      "text/html": [
       "<div>\n",
       "<style scoped>\n",
       "    .dataframe tbody tr th:only-of-type {\n",
       "        vertical-align: middle;\n",
       "    }\n",
       "\n",
       "    .dataframe tbody tr th {\n",
       "        vertical-align: top;\n",
       "    }\n",
       "\n",
       "    .dataframe thead th {\n",
       "        text-align: right;\n",
       "    }\n",
       "</style>\n",
       "<table border=\"1\" class=\"dataframe\">\n",
       "  <thead>\n",
       "    <tr style=\"text-align: right;\">\n",
       "      <th></th>\n",
       "      <th>State Name</th>\n",
       "      <th>county Name</th>\n",
       "      <th>Date</th>\n",
       "      <th>AQI</th>\n",
       "      <th>Category</th>\n",
       "      <th>Defining Parameter</th>\n",
       "      <th>Number of Sites Reporting</th>\n",
       "    </tr>\n",
       "  </thead>\n",
       "  <tbody>\n",
       "    <tr>\n",
       "      <th>0</th>\n",
       "      <td>Alabama</td>\n",
       "      <td>Baldwin</td>\n",
       "      <td>2018-01-02</td>\n",
       "      <td>32</td>\n",
       "      <td>Good</td>\n",
       "      <td>PM2.5</td>\n",
       "      <td>1</td>\n",
       "    </tr>\n",
       "    <tr>\n",
       "      <th>1</th>\n",
       "      <td>Alabama</td>\n",
       "      <td>Baldwin</td>\n",
       "      <td>2018-01-05</td>\n",
       "      <td>34</td>\n",
       "      <td>Good</td>\n",
       "      <td>PM2.5</td>\n",
       "      <td>1</td>\n",
       "    </tr>\n",
       "    <tr>\n",
       "      <th>2</th>\n",
       "      <td>Alabama</td>\n",
       "      <td>Baldwin</td>\n",
       "      <td>2018-01-08</td>\n",
       "      <td>15</td>\n",
       "      <td>Good</td>\n",
       "      <td>PM2.5</td>\n",
       "      <td>1</td>\n",
       "    </tr>\n",
       "    <tr>\n",
       "      <th>3</th>\n",
       "      <td>Alabama</td>\n",
       "      <td>Baldwin</td>\n",
       "      <td>2018-01-11</td>\n",
       "      <td>19</td>\n",
       "      <td>Good</td>\n",
       "      <td>PM2.5</td>\n",
       "      <td>1</td>\n",
       "    </tr>\n",
       "    <tr>\n",
       "      <th>4</th>\n",
       "      <td>Alabama</td>\n",
       "      <td>Baldwin</td>\n",
       "      <td>2018-01-14</td>\n",
       "      <td>25</td>\n",
       "      <td>Good</td>\n",
       "      <td>PM2.5</td>\n",
       "      <td>1</td>\n",
       "    </tr>\n",
       "  </tbody>\n",
       "</table>\n",
       "</div>"
      ],
      "text/plain": [
       "  State Name county Name  ... Defining Parameter  Number of Sites Reporting\n",
       "0    Alabama     Baldwin  ...              PM2.5                          1\n",
       "1    Alabama     Baldwin  ...              PM2.5                          1\n",
       "2    Alabama     Baldwin  ...              PM2.5                          1\n",
       "3    Alabama     Baldwin  ...              PM2.5                          1\n",
       "4    Alabama     Baldwin  ...              PM2.5                          1\n",
       "\n",
       "[5 rows x 7 columns]"
      ]
     },
     "execution_count": 52,
     "metadata": {
      "tags": []
     },
     "output_type": "execute_result"
    }
   ],
   "source": [
    "#Dropping unwanted columns\n",
    "df = df.drop(df[['Defining Site', 'State Code','County Code']], axis = 1)\n",
    "df.head()"
   ]
  },
  {
   "cell_type": "code",
   "execution_count": null,
   "metadata": {
    "cell_id": "00008-7006daaa-9965-4d1f-a18d-deafad48baab",
    "colab": {
     "base_uri": "https://localhost:8080/",
     "height": 17
    },
    "deepnote_cell_type": "code",
    "id": "n2ssbY2KZ1K-",
    "outputId": "f959e151-c4ad-4500-822f-c568b9ec00ef"
   },
   "outputs": [
    {
     "data": {
      "application/javascript": [
       "\n",
       "    async function download(id, filename, size) {\n",
       "      if (!google.colab.kernel.accessAllowed) {\n",
       "        return;\n",
       "      }\n",
       "      const div = document.createElement('div');\n",
       "      const label = document.createElement('label');\n",
       "      label.textContent = `Downloading \"${filename}\": `;\n",
       "      div.appendChild(label);\n",
       "      const progress = document.createElement('progress');\n",
       "      progress.max = size;\n",
       "      div.appendChild(progress);\n",
       "      document.body.appendChild(div);\n",
       "\n",
       "      const buffers = [];\n",
       "      let downloaded = 0;\n",
       "\n",
       "      const channel = await google.colab.kernel.comms.open(id);\n",
       "      // Send a message to notify the kernel that we're ready.\n",
       "      channel.send({})\n",
       "\n",
       "      for await (const message of channel.messages) {\n",
       "        // Send a message to notify the kernel that we're ready.\n",
       "        channel.send({})\n",
       "        if (message.buffers) {\n",
       "          for (const buffer of message.buffers) {\n",
       "            buffers.push(buffer);\n",
       "            downloaded += buffer.byteLength;\n",
       "            progress.value = downloaded;\n",
       "          }\n",
       "        }\n",
       "      }\n",
       "      const blob = new Blob(buffers, {type: 'application/binary'});\n",
       "      const a = document.createElement('a');\n",
       "      a.href = window.URL.createObjectURL(blob);\n",
       "      a.download = filename;\n",
       "      div.appendChild(a);\n",
       "      a.click();\n",
       "      div.remove();\n",
       "    }\n",
       "  "
      ],
      "text/plain": [
       "<IPython.core.display.Javascript object>"
      ]
     },
     "metadata": {
      "tags": []
     },
     "output_type": "display_data"
    },
    {
     "data": {
      "application/javascript": [
       "download(\"download_8979eb76-5cf8-4ba1-920f-c3a789a2ea56\", \"AQI.csv\", 46898940)"
      ],
      "text/plain": [
       "<IPython.core.display.Javascript object>"
      ]
     },
     "metadata": {
      "tags": []
     },
     "output_type": "display_data"
    }
   ],
   "source": [
    "df.to_csv(\"AQI.csv\")\n",
    "files.download(\"AQI.csv\")"
   ]
  },
  {
   "cell_type": "markdown",
   "metadata": {
    "cell_id": "00000-a1dec3c3-6637-4965-bd7a-846665fa733c",
    "deepnote_cell_type": "markdown",
    "id": "FFEA3TS_cM77"
   },
   "source": [
    "**Data** \n",
    "\n",
    "We pulled the data from the EPA website for the Dail AQI values for all the couties across America for the years of 2018, 2019, and 2020. Each of these datasets came seperately so the first task was to concatenate them together"
   ]
  },
  {
   "cell_type": "code",
   "execution_count": null,
   "metadata": {
    "cell_id": "00001-828a1f2f-5dfc-48c1-80df-629220fce81f",
    "colab": {
     "base_uri": "https://localhost:8080/",
     "height": 191
    },
    "deepnote_cell_type": "code",
    "id": "2B2o0ihuO_9z",
    "outputId": "c0897165-44e5-4692-c1ff-e8d76932b7b5"
   },
   "outputs": [
    {
     "data": {
      "text/html": [
       "<div>\n",
       "<style scoped>\n",
       "    .dataframe tbody tr th:only-of-type {\n",
       "        vertical-align: middle;\n",
       "    }\n",
       "\n",
       "    .dataframe tbody tr th {\n",
       "        vertical-align: top;\n",
       "    }\n",
       "\n",
       "    .dataframe thead th {\n",
       "        text-align: right;\n",
       "    }\n",
       "</style>\n",
       "<table border=\"1\" class=\"dataframe\">\n",
       "  <thead>\n",
       "    <tr style=\"text-align: right;\">\n",
       "      <th></th>\n",
       "      <th>State Name</th>\n",
       "      <th>county Name</th>\n",
       "      <th>State Code</th>\n",
       "      <th>County Code</th>\n",
       "      <th>Date</th>\n",
       "      <th>AQI</th>\n",
       "      <th>Category</th>\n",
       "      <th>Defining Parameter</th>\n",
       "      <th>Defining Site</th>\n",
       "      <th>Number of Sites Reporting</th>\n",
       "    </tr>\n",
       "  </thead>\n",
       "  <tbody>\n",
       "    <tr>\n",
       "      <th>0</th>\n",
       "      <td>Alabama</td>\n",
       "      <td>Baldwin</td>\n",
       "      <td>1</td>\n",
       "      <td>3</td>\n",
       "      <td>2018-01-02</td>\n",
       "      <td>32</td>\n",
       "      <td>Good</td>\n",
       "      <td>PM2.5</td>\n",
       "      <td>01-003-0010</td>\n",
       "      <td>1</td>\n",
       "    </tr>\n",
       "    <tr>\n",
       "      <th>1</th>\n",
       "      <td>Alabama</td>\n",
       "      <td>Baldwin</td>\n",
       "      <td>1</td>\n",
       "      <td>3</td>\n",
       "      <td>2018-01-05</td>\n",
       "      <td>34</td>\n",
       "      <td>Good</td>\n",
       "      <td>PM2.5</td>\n",
       "      <td>01-003-0010</td>\n",
       "      <td>1</td>\n",
       "    </tr>\n",
       "    <tr>\n",
       "      <th>2</th>\n",
       "      <td>Alabama</td>\n",
       "      <td>Baldwin</td>\n",
       "      <td>1</td>\n",
       "      <td>3</td>\n",
       "      <td>2018-01-08</td>\n",
       "      <td>15</td>\n",
       "      <td>Good</td>\n",
       "      <td>PM2.5</td>\n",
       "      <td>01-003-0010</td>\n",
       "      <td>1</td>\n",
       "    </tr>\n",
       "    <tr>\n",
       "      <th>3</th>\n",
       "      <td>Alabama</td>\n",
       "      <td>Baldwin</td>\n",
       "      <td>1</td>\n",
       "      <td>3</td>\n",
       "      <td>2018-01-11</td>\n",
       "      <td>19</td>\n",
       "      <td>Good</td>\n",
       "      <td>PM2.5</td>\n",
       "      <td>01-003-0010</td>\n",
       "      <td>1</td>\n",
       "    </tr>\n",
       "    <tr>\n",
       "      <th>4</th>\n",
       "      <td>Alabama</td>\n",
       "      <td>Baldwin</td>\n",
       "      <td>1</td>\n",
       "      <td>3</td>\n",
       "      <td>2018-01-14</td>\n",
       "      <td>25</td>\n",
       "      <td>Good</td>\n",
       "      <td>PM2.5</td>\n",
       "      <td>01-003-0010</td>\n",
       "      <td>1</td>\n",
       "    </tr>\n",
       "  </tbody>\n",
       "</table>\n",
       "</div>"
      ],
      "text/plain": [
       "  State Name county Name  ...  Defining Site  Number of Sites Reporting\n",
       "0    Alabama     Baldwin  ...    01-003-0010                          1\n",
       "1    Alabama     Baldwin  ...    01-003-0010                          1\n",
       "2    Alabama     Baldwin  ...    01-003-0010                          1\n",
       "3    Alabama     Baldwin  ...    01-003-0010                          1\n",
       "4    Alabama     Baldwin  ...    01-003-0010                          1\n",
       "\n",
       "[5 rows x 10 columns]"
      ]
     },
     "execution_count": 48,
     "metadata": {
      "tags": []
     },
     "output_type": "execute_result"
    }
   ],
   "source": [
    "import pandas as pd \n",
    "AQI_2018_path = \"/content/drive/MyDrive/Colab Notebooks/COGS108/daily_aqi_by_county_2018.csv\"\n",
    "AQI_2019_path = \"/content/drive/MyDrive/Colab Notebooks/COGS108/daily_aqi_by_county_2019.csv\"\n",
    "AQI_2020_path = \"/content/drive/MyDrive/Colab Notebooks/COGS108/daily_aqi_by_county_2020.csv\"\n",
    "\n",
    "\n",
    "df_19 = pd.read_csv(AQI_2019_path)\n",
    "df_20 = pd.read_csv(AQI_2020_path)\n",
    "df_18 = pd.read_csv(AQI_2018_path)\n",
    "\n",
    "df_18.head()"
   ]
  },
  {
   "cell_type": "code",
   "execution_count": null,
   "metadata": {
    "cell_id": "00002-58c27912-c850-41bb-93e8-94ce28eb50e0",
    "colab": {
     "base_uri": "https://localhost:8080/",
     "height": 191
    },
    "deepnote_cell_type": "code",
    "id": "rLcsIBVFSEcU",
    "outputId": "b32bb6a4-1a6b-433c-b30b-23a818013205",
    "scrolled": true
   },
   "outputs": [
    {
     "data": {
      "text/html": [
       "<div>\n",
       "<style scoped>\n",
       "    .dataframe tbody tr th:only-of-type {\n",
       "        vertical-align: middle;\n",
       "    }\n",
       "\n",
       "    .dataframe tbody tr th {\n",
       "        vertical-align: top;\n",
       "    }\n",
       "\n",
       "    .dataframe thead th {\n",
       "        text-align: right;\n",
       "    }\n",
       "</style>\n",
       "<table border=\"1\" class=\"dataframe\">\n",
       "  <thead>\n",
       "    <tr style=\"text-align: right;\">\n",
       "      <th></th>\n",
       "      <th>State Name</th>\n",
       "      <th>county Name</th>\n",
       "      <th>State Code</th>\n",
       "      <th>County Code</th>\n",
       "      <th>Date</th>\n",
       "      <th>AQI</th>\n",
       "      <th>Category</th>\n",
       "      <th>Defining Parameter</th>\n",
       "      <th>Defining Site</th>\n",
       "      <th>Number of Sites Reporting</th>\n",
       "    </tr>\n",
       "  </thead>\n",
       "  <tbody>\n",
       "    <tr>\n",
       "      <th>0</th>\n",
       "      <td>Alabama</td>\n",
       "      <td>Baldwin</td>\n",
       "      <td>1</td>\n",
       "      <td>3</td>\n",
       "      <td>2019-01-03</td>\n",
       "      <td>18</td>\n",
       "      <td>Good</td>\n",
       "      <td>PM2.5</td>\n",
       "      <td>01-003-0010</td>\n",
       "      <td>1</td>\n",
       "    </tr>\n",
       "    <tr>\n",
       "      <th>1</th>\n",
       "      <td>Alabama</td>\n",
       "      <td>Baldwin</td>\n",
       "      <td>1</td>\n",
       "      <td>3</td>\n",
       "      <td>2019-01-06</td>\n",
       "      <td>35</td>\n",
       "      <td>Good</td>\n",
       "      <td>PM2.5</td>\n",
       "      <td>01-003-0010</td>\n",
       "      <td>1</td>\n",
       "    </tr>\n",
       "    <tr>\n",
       "      <th>2</th>\n",
       "      <td>Alabama</td>\n",
       "      <td>Baldwin</td>\n",
       "      <td>1</td>\n",
       "      <td>3</td>\n",
       "      <td>2019-01-09</td>\n",
       "      <td>14</td>\n",
       "      <td>Good</td>\n",
       "      <td>PM2.5</td>\n",
       "      <td>01-003-0010</td>\n",
       "      <td>1</td>\n",
       "    </tr>\n",
       "    <tr>\n",
       "      <th>3</th>\n",
       "      <td>Alabama</td>\n",
       "      <td>Baldwin</td>\n",
       "      <td>1</td>\n",
       "      <td>3</td>\n",
       "      <td>2019-01-12</td>\n",
       "      <td>36</td>\n",
       "      <td>Good</td>\n",
       "      <td>PM2.5</td>\n",
       "      <td>01-003-0010</td>\n",
       "      <td>1</td>\n",
       "    </tr>\n",
       "    <tr>\n",
       "      <th>4</th>\n",
       "      <td>Alabama</td>\n",
       "      <td>Baldwin</td>\n",
       "      <td>1</td>\n",
       "      <td>3</td>\n",
       "      <td>2019-01-15</td>\n",
       "      <td>38</td>\n",
       "      <td>Good</td>\n",
       "      <td>PM2.5</td>\n",
       "      <td>01-003-0010</td>\n",
       "      <td>1</td>\n",
       "    </tr>\n",
       "  </tbody>\n",
       "</table>\n",
       "</div>"
      ],
      "text/plain": [
       "  State Name county Name  ...  Defining Site  Number of Sites Reporting\n",
       "0    Alabama     Baldwin  ...    01-003-0010                          1\n",
       "1    Alabama     Baldwin  ...    01-003-0010                          1\n",
       "2    Alabama     Baldwin  ...    01-003-0010                          1\n",
       "3    Alabama     Baldwin  ...    01-003-0010                          1\n",
       "4    Alabama     Baldwin  ...    01-003-0010                          1\n",
       "\n",
       "[5 rows x 10 columns]"
      ]
     },
     "execution_count": 49,
     "metadata": {
      "tags": []
     },
     "output_type": "execute_result"
    }
   ],
   "source": [
    "df_19.head()"
   ]
  },
  {
   "cell_type": "code",
   "execution_count": null,
   "metadata": {
    "cell_id": "00003-ac4ddcbf-3054-43d3-a423-760f619d3bd5",
    "colab": {
     "base_uri": "https://localhost:8080/",
     "height": 191
    },
    "deepnote_cell_type": "code",
    "id": "hqYtJ8c_SHqv",
    "outputId": "235a2893-2f6b-44f2-b8ba-1f586586a15d",
    "scrolled": true
   },
   "outputs": [
    {
     "data": {
      "text/html": [
       "<div>\n",
       "<style scoped>\n",
       "    .dataframe tbody tr th:only-of-type {\n",
       "        vertical-align: middle;\n",
       "    }\n",
       "\n",
       "    .dataframe tbody tr th {\n",
       "        vertical-align: top;\n",
       "    }\n",
       "\n",
       "    .dataframe thead th {\n",
       "        text-align: right;\n",
       "    }\n",
       "</style>\n",
       "<table border=\"1\" class=\"dataframe\">\n",
       "  <thead>\n",
       "    <tr style=\"text-align: right;\">\n",
       "      <th></th>\n",
       "      <th>State Name</th>\n",
       "      <th>county Name</th>\n",
       "      <th>State Code</th>\n",
       "      <th>County Code</th>\n",
       "      <th>Date</th>\n",
       "      <th>AQI</th>\n",
       "      <th>Category</th>\n",
       "      <th>Defining Parameter</th>\n",
       "      <th>Defining Site</th>\n",
       "      <th>Number of Sites Reporting</th>\n",
       "    </tr>\n",
       "  </thead>\n",
       "  <tbody>\n",
       "    <tr>\n",
       "      <th>0</th>\n",
       "      <td>Alabama</td>\n",
       "      <td>Baldwin</td>\n",
       "      <td>1</td>\n",
       "      <td>3</td>\n",
       "      <td>2020-01-01</td>\n",
       "      <td>48</td>\n",
       "      <td>Good</td>\n",
       "      <td>PM2.5</td>\n",
       "      <td>01-003-0010</td>\n",
       "      <td>1</td>\n",
       "    </tr>\n",
       "    <tr>\n",
       "      <th>1</th>\n",
       "      <td>Alabama</td>\n",
       "      <td>Baldwin</td>\n",
       "      <td>1</td>\n",
       "      <td>3</td>\n",
       "      <td>2020-01-04</td>\n",
       "      <td>13</td>\n",
       "      <td>Good</td>\n",
       "      <td>PM2.5</td>\n",
       "      <td>01-003-0010</td>\n",
       "      <td>1</td>\n",
       "    </tr>\n",
       "    <tr>\n",
       "      <th>2</th>\n",
       "      <td>Alabama</td>\n",
       "      <td>Baldwin</td>\n",
       "      <td>1</td>\n",
       "      <td>3</td>\n",
       "      <td>2020-01-07</td>\n",
       "      <td>14</td>\n",
       "      <td>Good</td>\n",
       "      <td>PM2.5</td>\n",
       "      <td>01-003-0010</td>\n",
       "      <td>1</td>\n",
       "    </tr>\n",
       "    <tr>\n",
       "      <th>3</th>\n",
       "      <td>Alabama</td>\n",
       "      <td>Baldwin</td>\n",
       "      <td>1</td>\n",
       "      <td>3</td>\n",
       "      <td>2020-01-10</td>\n",
       "      <td>39</td>\n",
       "      <td>Good</td>\n",
       "      <td>PM2.5</td>\n",
       "      <td>01-003-0010</td>\n",
       "      <td>1</td>\n",
       "    </tr>\n",
       "    <tr>\n",
       "      <th>4</th>\n",
       "      <td>Alabama</td>\n",
       "      <td>Baldwin</td>\n",
       "      <td>1</td>\n",
       "      <td>3</td>\n",
       "      <td>2020-01-13</td>\n",
       "      <td>29</td>\n",
       "      <td>Good</td>\n",
       "      <td>PM2.5</td>\n",
       "      <td>01-003-0010</td>\n",
       "      <td>1</td>\n",
       "    </tr>\n",
       "  </tbody>\n",
       "</table>\n",
       "</div>"
      ],
      "text/plain": [
       "  State Name county Name  ...  Defining Site  Number of Sites Reporting\n",
       "0    Alabama     Baldwin  ...    01-003-0010                          1\n",
       "1    Alabama     Baldwin  ...    01-003-0010                          1\n",
       "2    Alabama     Baldwin  ...    01-003-0010                          1\n",
       "3    Alabama     Baldwin  ...    01-003-0010                          1\n",
       "4    Alabama     Baldwin  ...    01-003-0010                          1\n",
       "\n",
       "[5 rows x 10 columns]"
      ]
     },
     "execution_count": 50,
     "metadata": {
      "tags": []
     },
     "output_type": "execute_result"
    }
   ],
   "source": [
    "df_20.head()"
   ]
  },
  {
   "cell_type": "markdown",
   "metadata": {
    "cell_id": "00004-2a095a86-7d8b-431c-b427-dc5ddd639439",
    "deepnote_cell_type": "markdown",
    "id": "1DfCAA0bdS4k"
   },
   "source": [
    "**Step 2**\n",
    "\n",
    "The next course of action would be to convert the date column of the new df into a dattime type to allow for easier queries."
   ]
  },
  {
   "cell_type": "code",
   "execution_count": null,
   "metadata": {
    "cell_id": "00005-e15daf50-088d-4d1b-a073-f663331cf805",
    "colab": {
     "base_uri": "https://localhost:8080/",
     "height": 191
    },
    "deepnote_cell_type": "code",
    "id": "En6iyArcSOl7",
    "outputId": "fee09c77-8b85-43a7-bd16-530b093876a5"
   },
   "outputs": [
    {
     "data": {
      "text/html": [
       "<div>\n",
       "<style scoped>\n",
       "    .dataframe tbody tr th:only-of-type {\n",
       "        vertical-align: middle;\n",
       "    }\n",
       "\n",
       "    .dataframe tbody tr th {\n",
       "        vertical-align: top;\n",
       "    }\n",
       "\n",
       "    .dataframe thead th {\n",
       "        text-align: right;\n",
       "    }\n",
       "</style>\n",
       "<table border=\"1\" class=\"dataframe\">\n",
       "  <thead>\n",
       "    <tr style=\"text-align: right;\">\n",
       "      <th></th>\n",
       "      <th>State Name</th>\n",
       "      <th>county Name</th>\n",
       "      <th>State Code</th>\n",
       "      <th>County Code</th>\n",
       "      <th>Date</th>\n",
       "      <th>AQI</th>\n",
       "      <th>Category</th>\n",
       "      <th>Defining Parameter</th>\n",
       "      <th>Defining Site</th>\n",
       "      <th>Number of Sites Reporting</th>\n",
       "    </tr>\n",
       "  </thead>\n",
       "  <tbody>\n",
       "    <tr>\n",
       "      <th>0</th>\n",
       "      <td>Alabama</td>\n",
       "      <td>Baldwin</td>\n",
       "      <td>1</td>\n",
       "      <td>3</td>\n",
       "      <td>2018-01-02</td>\n",
       "      <td>32</td>\n",
       "      <td>Good</td>\n",
       "      <td>PM2.5</td>\n",
       "      <td>01-003-0010</td>\n",
       "      <td>1</td>\n",
       "    </tr>\n",
       "    <tr>\n",
       "      <th>1</th>\n",
       "      <td>Alabama</td>\n",
       "      <td>Baldwin</td>\n",
       "      <td>1</td>\n",
       "      <td>3</td>\n",
       "      <td>2018-01-05</td>\n",
       "      <td>34</td>\n",
       "      <td>Good</td>\n",
       "      <td>PM2.5</td>\n",
       "      <td>01-003-0010</td>\n",
       "      <td>1</td>\n",
       "    </tr>\n",
       "    <tr>\n",
       "      <th>2</th>\n",
       "      <td>Alabama</td>\n",
       "      <td>Baldwin</td>\n",
       "      <td>1</td>\n",
       "      <td>3</td>\n",
       "      <td>2018-01-08</td>\n",
       "      <td>15</td>\n",
       "      <td>Good</td>\n",
       "      <td>PM2.5</td>\n",
       "      <td>01-003-0010</td>\n",
       "      <td>1</td>\n",
       "    </tr>\n",
       "    <tr>\n",
       "      <th>3</th>\n",
       "      <td>Alabama</td>\n",
       "      <td>Baldwin</td>\n",
       "      <td>1</td>\n",
       "      <td>3</td>\n",
       "      <td>2018-01-11</td>\n",
       "      <td>19</td>\n",
       "      <td>Good</td>\n",
       "      <td>PM2.5</td>\n",
       "      <td>01-003-0010</td>\n",
       "      <td>1</td>\n",
       "    </tr>\n",
       "    <tr>\n",
       "      <th>4</th>\n",
       "      <td>Alabama</td>\n",
       "      <td>Baldwin</td>\n",
       "      <td>1</td>\n",
       "      <td>3</td>\n",
       "      <td>2018-01-14</td>\n",
       "      <td>25</td>\n",
       "      <td>Good</td>\n",
       "      <td>PM2.5</td>\n",
       "      <td>01-003-0010</td>\n",
       "      <td>1</td>\n",
       "    </tr>\n",
       "  </tbody>\n",
       "</table>\n",
       "</div>"
      ],
      "text/plain": [
       "  State Name county Name  ...  Defining Site  Number of Sites Reporting\n",
       "0    Alabama     Baldwin  ...    01-003-0010                          1\n",
       "1    Alabama     Baldwin  ...    01-003-0010                          1\n",
       "2    Alabama     Baldwin  ...    01-003-0010                          1\n",
       "3    Alabama     Baldwin  ...    01-003-0010                          1\n",
       "4    Alabama     Baldwin  ...    01-003-0010                          1\n",
       "\n",
       "[5 rows x 10 columns]"
      ]
     },
     "execution_count": 51,
     "metadata": {
      "tags": []
     },
     "output_type": "execute_result"
    }
   ],
   "source": [
    "from google.colab import files\n",
    "# concatenating 3 years data & dropping null records\n",
    "frames = [df_18,df_19,df_20]\n",
    "df = pd.concat(frames).dropna()\n",
    "\n",
    "#converting Date col to date_time type\n",
    "df['Date'] = pd.to_datetime(df['Date'])\n",
    "df.head()\n",
    "#"
   ]
  },
  {
   "cell_type": "markdown",
   "metadata": {
    "cell_id": "00006-1d83d493-de9e-4a06-90cc-a1f6ef8d6b2c",
    "deepnote_cell_type": "markdown",
    "id": "aEG3flL-ckeX"
   },
   "source": [
    "**Step 3**\n",
    "\n",
    "The next step would be to drop any unwanted columns from the dataset. here we found that the columns for Defining_site, State Code, and County Code were irrelevant to the scope of our project since the location of the record can easily be accessed through the state and county name columns and the defining site at which the the AQI is recorded is not pertinent to the actual AQI since this value is not easily parsable "
   ]
  },
  {
   "cell_type": "code",
   "execution_count": null,
   "metadata": {
    "cell_id": "00007-def82989-4eb9-4122-a21d-7642c40379a3",
    "colab": {
     "base_uri": "https://localhost:8080/",
     "height": 191
    },
    "deepnote_cell_type": "code",
    "id": "OKl8yL2qYe7k",
    "outputId": "647fd17c-c17a-4d78-c0ce-678ab01035c8"
   },
   "outputs": [
    {
     "data": {
      "text/html": [
       "<div>\n",
       "<style scoped>\n",
       "    .dataframe tbody tr th:only-of-type {\n",
       "        vertical-align: middle;\n",
       "    }\n",
       "\n",
       "    .dataframe tbody tr th {\n",
       "        vertical-align: top;\n",
       "    }\n",
       "\n",
       "    .dataframe thead th {\n",
       "        text-align: right;\n",
       "    }\n",
       "</style>\n",
       "<table border=\"1\" class=\"dataframe\">\n",
       "  <thead>\n",
       "    <tr style=\"text-align: right;\">\n",
       "      <th></th>\n",
       "      <th>State Name</th>\n",
       "      <th>county Name</th>\n",
       "      <th>Date</th>\n",
       "      <th>AQI</th>\n",
       "      <th>Category</th>\n",
       "      <th>Defining Parameter</th>\n",
       "      <th>Number of Sites Reporting</th>\n",
       "    </tr>\n",
       "  </thead>\n",
       "  <tbody>\n",
       "    <tr>\n",
       "      <th>0</th>\n",
       "      <td>Alabama</td>\n",
       "      <td>Baldwin</td>\n",
       "      <td>2018-01-02</td>\n",
       "      <td>32</td>\n",
       "      <td>Good</td>\n",
       "      <td>PM2.5</td>\n",
       "      <td>1</td>\n",
       "    </tr>\n",
       "    <tr>\n",
       "      <th>1</th>\n",
       "      <td>Alabama</td>\n",
       "      <td>Baldwin</td>\n",
       "      <td>2018-01-05</td>\n",
       "      <td>34</td>\n",
       "      <td>Good</td>\n",
       "      <td>PM2.5</td>\n",
       "      <td>1</td>\n",
       "    </tr>\n",
       "    <tr>\n",
       "      <th>2</th>\n",
       "      <td>Alabama</td>\n",
       "      <td>Baldwin</td>\n",
       "      <td>2018-01-08</td>\n",
       "      <td>15</td>\n",
       "      <td>Good</td>\n",
       "      <td>PM2.5</td>\n",
       "      <td>1</td>\n",
       "    </tr>\n",
       "    <tr>\n",
       "      <th>3</th>\n",
       "      <td>Alabama</td>\n",
       "      <td>Baldwin</td>\n",
       "      <td>2018-01-11</td>\n",
       "      <td>19</td>\n",
       "      <td>Good</td>\n",
       "      <td>PM2.5</td>\n",
       "      <td>1</td>\n",
       "    </tr>\n",
       "    <tr>\n",
       "      <th>4</th>\n",
       "      <td>Alabama</td>\n",
       "      <td>Baldwin</td>\n",
       "      <td>2018-01-14</td>\n",
       "      <td>25</td>\n",
       "      <td>Good</td>\n",
       "      <td>PM2.5</td>\n",
       "      <td>1</td>\n",
       "    </tr>\n",
       "  </tbody>\n",
       "</table>\n",
       "</div>"
      ],
      "text/plain": [
       "  State Name county Name  ... Defining Parameter  Number of Sites Reporting\n",
       "0    Alabama     Baldwin  ...              PM2.5                          1\n",
       "1    Alabama     Baldwin  ...              PM2.5                          1\n",
       "2    Alabama     Baldwin  ...              PM2.5                          1\n",
       "3    Alabama     Baldwin  ...              PM2.5                          1\n",
       "4    Alabama     Baldwin  ...              PM2.5                          1\n",
       "\n",
       "[5 rows x 7 columns]"
      ]
     },
     "execution_count": 52,
     "metadata": {
      "tags": []
     },
     "output_type": "execute_result"
    }
   ],
   "source": [
    "#Dropping unwanted columns\n",
    "df = df.drop(df[['Defining Site', 'State Code','County Code']], axis = 1)\n",
    "df.head()"
   ]
  },
  {
   "cell_type": "code",
   "execution_count": null,
   "metadata": {
    "cell_id": "00008-7006daaa-9965-4d1f-a18d-deafad48baab",
    "colab": {
     "base_uri": "https://localhost:8080/",
     "height": 17
    },
    "deepnote_cell_type": "code",
    "id": "n2ssbY2KZ1K-",
    "outputId": "f959e151-c4ad-4500-822f-c568b9ec00ef"
   },
   "outputs": [
    {
     "data": {
      "application/javascript": [
       "\n",
       "    async function download(id, filename, size) {\n",
       "      if (!google.colab.kernel.accessAllowed) {\n",
       "        return;\n",
       "      }\n",
       "      const div = document.createElement('div');\n",
       "      const label = document.createElement('label');\n",
       "      label.textContent = `Downloading \"${filename}\": `;\n",
       "      div.appendChild(label);\n",
       "      const progress = document.createElement('progress');\n",
       "      progress.max = size;\n",
       "      div.appendChild(progress);\n",
       "      document.body.appendChild(div);\n",
       "\n",
       "      const buffers = [];\n",
       "      let downloaded = 0;\n",
       "\n",
       "      const channel = await google.colab.kernel.comms.open(id);\n",
       "      // Send a message to notify the kernel that we're ready.\n",
       "      channel.send({})\n",
       "\n",
       "      for await (const message of channel.messages) {\n",
       "        // Send a message to notify the kernel that we're ready.\n",
       "        channel.send({})\n",
       "        if (message.buffers) {\n",
       "          for (const buffer of message.buffers) {\n",
       "            buffers.push(buffer);\n",
       "            downloaded += buffer.byteLength;\n",
       "            progress.value = downloaded;\n",
       "          }\n",
       "        }\n",
       "      }\n",
       "      const blob = new Blob(buffers, {type: 'application/binary'});\n",
       "      const a = document.createElement('a');\n",
       "      a.href = window.URL.createObjectURL(blob);\n",
       "      a.download = filename;\n",
       "      div.appendChild(a);\n",
       "      a.click();\n",
       "      div.remove();\n",
       "    }\n",
       "  "
      ],
      "text/plain": [
       "<IPython.core.display.Javascript object>"
      ]
     },
     "metadata": {
      "tags": []
     },
     "output_type": "display_data"
    },
    {
     "data": {
      "application/javascript": [
       "download(\"download_8979eb76-5cf8-4ba1-920f-c3a789a2ea56\", \"AQI.csv\", 46898940)"
      ],
      "text/plain": [
       "<IPython.core.display.Javascript object>"
      ]
     },
     "metadata": {
      "tags": []
     },
     "output_type": "display_data"
    }
   ],
   "source": [
    "df.to_csv(\"AQI.csv\")\n",
    "files.download(\"AQI.csv\")"
   ]
  }
 ],
 "metadata": {
  "deepnote": {},
  "deepnote_execution_queue": [],
  "deepnote_notebook_id": "14569f16-8606-4e9a-aacd-0264a9d1523c",
  "kernelspec": {
   "display_name": "Python 3",
   "language": "python",
   "name": "python3"
  },
  "language_info": {
   "codemirror_mode": {
    "name": "ipython",
    "version": 3
   },
   "file_extension": ".py",
   "mimetype": "text/x-python",
   "name": "python",
   "nbconvert_exporter": "python",
   "pygments_lexer": "ipython3",
   "version": "3.7.1"
  }
 },
 "nbformat": 4,
 "nbformat_minor": 2
}
