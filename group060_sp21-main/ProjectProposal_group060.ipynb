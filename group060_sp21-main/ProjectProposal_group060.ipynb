{
  "cells": [
    {
      "cell_type": "markdown",
      "source": "# COGS 108 - Final Project Proposal",
      "metadata": {
        "cell_id": "00000-38091813-af72-403f-b527-53bd1bc4b1a0",
        "deepnote_cell_type": "markdown"
      }
    },
    {
      "cell_type": "markdown",
      "source": "# Names\n\n- Fione Huynh\n- Lara Pellon\n- Khulan Hoshartsaga\n- Rafael Ubriaco\n- Ezhil Thaenraj",
      "metadata": {
        "cell_id": "00001-109dae71-7cfd-4bff-a9a0-2ead5b2a2357",
        "deepnote_cell_type": "markdown"
      }
    },
    {
      "cell_type": "markdown",
      "source": "# Research Question",
      "metadata": {
        "cell_id": "00002-b43fb223-c4e9-4861-b09d-2183f096277d",
        "deepnote_cell_type": "markdown"
      }
    },
    {
      "cell_type": "markdown",
      "source": "How has COVID-19 impacted affluent cities’ air quality in comparison to less affluent ones?",
      "metadata": {
        "cell_id": "00003-b2770292-05cc-452a-8dbe-a05deb2571f3",
        "deepnote_cell_type": "markdown"
      }
    },
    {
      "cell_type": "markdown",
      "source": "## Background and Prior Work",
      "metadata": {
        "cell_id": "00004-87360283-1a13-4496-b9c0-41a0e3e86534",
        "deepnote_cell_type": "markdown"
      }
    },
    {
      "cell_type": "markdown",
      "source": "Climate change has been an ongoing issue throughout the world, and it is a topic that has conflicted and divided many groups within society. The subject of climate change has gained popularity over the years as extreme weather conditions have impacted our daily lives and infected the projected use of energy consumption. To us, the severity of this issue pressures us as young adults to scrutinize why there is still a slow improvement towards addressing global warming, and how this may be associated with how individuals tie-in towards the issue. \n\nOur interest in this topic is narrowed down to air quality in the United States. More specifically, how a county’s wealth can work in favor or against air quality. In addition to this, our group wanted to explore the effects of COVID-19 on this issue. It is well known that the pandemic has forced many individuals to work from home, decreasing commuting rates and temporarily shutting off offices, which in turn decreased energy consumption. However, this was not the case for everyone. Jobs that require in person attendance were still being demanded, and in places where there is a lot of manual workforce, the belief is that there is not a lot of wealth found there.\n\nAs a result, this project will inspect how COVID-19 impacted affluent county’s air quality in comparison to less affluent ones. According to the U.S Energy Information Administration, we can already see that CO2 emissions had a decline of nearly 11% in 2020, which can be resulted from the stay-at-home orders and the decrease in transportation rate (1). However, this figure does not illustrate which counties aided this improvement. It is therefore, our aim to provide this information in order to better understand how 2020 had an impact in this issue.\n\nScholars Hai-Ahn H. Dang, Haishan Fu, and Umar Serajuddin have previously conducted research on how GDP growth relates to the environment degradation, but they took a more macro perspective and focused on this relationship across countries. The researchers found out that while '[...] GDP per capita increased by half between 1990 and 2016, global trends for air pollution [...] followed a similar upward trajectory.' (2). However, another study conducted by Guillaume Vandenbroucke and Heting Zhul had findings that indicated  ' Pollution in the United States rises with economic activity, but at a noticeably lower pace.' (3) \n\nWe will conduct this project by correlating each county’s GDP with their locations’ climate analysis pre and post the start of the pandemic. \n\nReferences (include links):\n- 1) 'U.S. Energy Information Administration - EIA - Independent Statistics and Analysis. After 2020 Decline, EIA Expects Energy-Related CO2 Emissions to Increase in 2021 and 2022 - Today in Energy - U.S. Energy Information Administration (EIA), www.eia.gov/todayinenergy/detail.php?id=46537 \n- 2) https://blogs.worldbank.org/opendata/does-gdp-growth-necessitate-environmental-degradation \n- 3) https://research.stlouisfed.org/publications/economic-synopses/2017/06/23/measures-of-pollution/ ",
      "metadata": {
        "cell_id": "00005-f82c24f9-d3c5-4be6-9c22-2a52903fbfda",
        "deepnote_cell_type": "markdown"
      }
    },
    {
      "cell_type": "markdown",
      "source": "# Hypothesis\n",
      "metadata": {
        "cell_id": "00006-14f5dbce-5f9b-4f22-89ee-74fc318717fc",
        "deepnote_cell_type": "markdown"
      }
    },
    {
      "cell_type": "markdown",
      "source": "*We hypothesize that there will be a bigger improvement in air quality from wealthier cities in comparison to less ones. The main reason we perceive this is from the convenience wealthier citizens have in working from home, closing their offices, and therefore spending less in commuting. In contrast, poorer cities are expected to have maintained a high manual labor workforce that still contributed towards a polluted climate.",
      "metadata": {
        "cell_id": "00007-006299d5-2a8f-4904-b485-da11d1379e13",
        "deepnote_cell_type": "markdown"
      }
    },
    {
      "cell_type": "markdown",
      "source": "# Data",
      "metadata": {
        "cell_id": "00008-0fda6d7d-aa46-4c5e-93f2-9fb2a639e14e",
        "deepnote_cell_type": "markdown"
      }
    },
    {
      "cell_type": "markdown",
      "source": "*Explain what the ideal dataset you would want to answer this question. (This should include: What variables? How many observations? Who/what/how would these data be collected? How would these data be stored/organized?)*\n\n**Ideal Datasets**: (Idealy we would want datasets from a few years prior to COVID-19 and from the year during COVID-19)\n* Gross domestic product(GDP) of each county\n* Air quality data of each county\n* Average income level of each county\n\n**Variables**:\n* name: county name\n* gdp : gross domestic product\n* avg_income : average income\n* quality : air quality\n* year: the year that the data is collected from\n\nThe data would ideally be structured in table format with each row representing a different county and the variables would be the columms.",
      "metadata": {
        "cell_id": "00009-ed540b76-d573-4aaa-8dc4-4398dd201d56",
        "deepnote_cell_type": "markdown"
      }
    },
    {
      "cell_type": "markdown",
      "source": "# Ethics & Privacy",
      "metadata": {
        "cell_id": "00010-c1eae820-5938-476d-8a60-b1ab3ccd253f",
        "deepnote_cell_type": "markdown"
      }
    },
    {
      "cell_type": "markdown",
      "source": "The data we have collected is widely available so we are free to utilize this data for our project. Additionally, the datasets would be collected by and released by the government. Thus, there should not be any biases in the data nor should the data have been collected in an unethical manner. The data also does not include any information that is specific to a single individual so there is no leak in privacy.",
      "metadata": {
        "cell_id": "00011-29caf6d3-4177-4c9a-889a-7c08e5618b72",
        "deepnote_cell_type": "markdown"
      }
    },
    {
      "cell_type": "markdown",
      "source": "# Team Expectations ",
      "metadata": {
        "cell_id": "00012-53f53b96-0685-480b-9148-2faf95e5ab99",
        "deepnote_cell_type": "markdown"
      }
    },
    {
      "cell_type": "markdown",
      "source": "1. Committing to meeting at reasonable and set times\n2. We expect people to take responsibility for their parts (esp if they say they will do it)\n3. Expect group members to be nice and respectful\n4. Groups members are organized\n5. Actively participating in group discussions\n",
      "metadata": {
        "cell_id": "00013-e78dbfe3-d865-427f-a2b0-a0f6764e1be7",
        "deepnote_cell_type": "markdown"
      }
    },
    {
      "cell_type": "markdown",
      "source": "# Project Timeline Proposal",
      "metadata": {
        "cell_id": "00014-2ca861a8-bcec-45d5-b4c7-75bff3e75c95",
        "deepnote_cell_type": "markdown"
      }
    },
    {
      "cell_type": "markdown",
      "source": "| Meeting Date  | Meeting Time| Completed Before Meeting  | Discuss at Meeting |\n|---|---|---|---|\n| 4/20 |  5 PM PST | N/A  | Discuss and establish team expectations; Brainstorm and discuss on final project topic; Start background research | \n| 4/22  |   5 PM PST |  Brainstorm additional team expectations; Complete additional background research and prior work (Lara & Rafael) | Discuss ideal dataset(s) and ethics; Discuss what the hypothesis will be; Draft, edit, and submit project proposal | \n| 4/27  |  5 PM PST  | Search for datasets | Discuss about datasets; Discuss Wrangling and possible analytical approaches; Assign group members to lead each specific part |\n| 4/29  |  5 PM PST  | Import & Wrangle Data; EDA  | Review/Edit wrangling/EDA; Discuss Analysis Plan |\n| 5/4  |  5 PM PST  | TBD | TBD |\n| 5/6  |  5 PM PST  | TBD | Submit \"Checkpoint #1: Data\" |\n| 5/11  |  5 PM PST  | TBD | Discuss/edit full project |\n| 5/13  |  5 PM PST  | TBD | Discuss/edit full project |\n| 5/18  |  5 PM PST  | TBD | Discuss/edit Analysis; Complete project check-in |\n| 5/20  |  5 PM PST  | TBD | Submit \"Checkpoint #2: EDA\" |\n| 5/25  |  5 PM PST  | TBD | Discuss/edit full project |\n| 5/27  |  5 PM PST  | Complete analysis; Draft results/conclusion/discussion (TBD) | Discuss/edit full project |\n| 6/1  |  5 PM PST  | TBD | Discuss/edit full project |\n| 6/3  |  5 PM PST  | TBD | Discuss/edit full project |\n| 6/8  |  5 PM PST  | Make final edits and think about if anything needs to be modified| Discuss/edit full project; Turn in Final Project & Group Project Surveys |\n| 6/9  | Before 11:59 PM  | NA | Turn in Final Project & Group Project Surveys |",
      "metadata": {
        "cell_id": "00015-1283d13a-7919-4413-a978-c945dccba1b5",
        "deepnote_cell_type": "markdown"
      }
    },
    {
      "cell_type": "markdown",
      "source": "<a style='text-decoration:none;line-height:16px;display:flex;color:#5B5B62;padding:10px;justify-content:end;' href='https://deepnote.com?utm_source=created-in-deepnote-cell&projectId=1b50cd74-4071-48c9-8830-d3f32d4f149d' target=\"_blank\">\n<img alt='Created in deepnote.com' style='display:inline;max-height:16px;margin:0px;margin-right:7.5px;' src='data:image/svg+xml;base64,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' > </img>\nCreated in <span style='font-weight:600;margin-left:4px;'>Deepnote</span></a>",
      "metadata": {
        "tags": [],
        "created_in_deepnote_cell": true,
        "deepnote_cell_type": "markdown"
      }
    }
  ],
  "nbformat": 4,
  "nbformat_minor": 2,
  "metadata": {
    "kernelspec": {
      "display_name": "Python 3",
      "language": "python",
      "name": "python3"
    },
    "language_info": {
      "codemirror_mode": {
        "name": "ipython",
        "version": 3
      },
      "file_extension": ".py",
      "mimetype": "text/x-python",
      "name": "python",
      "nbconvert_exporter": "python",
      "pygments_lexer": "ipython3",
      "version": "3.7.9"
    },
    "deepnote_notebook_id": "8f5a4f01-b5a7-4033-b4a0-ffc7bea4ff7b",
    "deepnote": {},
    "deepnote_execution_queue": []
  }
}
