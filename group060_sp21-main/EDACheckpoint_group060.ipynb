{
 "cells": [
  {
   "cell_type": "markdown",
   "source": "# COGS 108 - EDA Checkpoint",
   "metadata": {
    "tags": [],
    "cell_id": "00000-911f1f82-8e85-465f-ad19-d80fd1d6b790",
    "deepnote_cell_type": "markdown"
   }
  },
  {
   "cell_type": "markdown",
   "source": "# Names\n\n- Khulan Hoshartsaga\n- Fione Huynh\n- Lara Pellon\n- Ezhil Thaenraj\n- Rafael Ubriaco",
   "metadata": {
    "tags": [],
    "cell_id": "00001-7acee64f-9d6b-4813-bfa4-8ddd4cf4b1b4",
    "deepnote_cell_type": "markdown"
   }
  },
  {
   "cell_type": "markdown",
   "source": "<a id='research_question'></a>\n# Research Question",
   "metadata": {
    "tags": [],
    "cell_id": "00002-f5a03aac-2b04-4954-9483-478e55e8a388",
    "deepnote_cell_type": "markdown"
   }
  },
  {
   "cell_type": "markdown",
   "source": "How has COVID-19 impacted high-income counties air quality in comparison to middle-income and low-income counties?",
   "metadata": {
    "tags": [],
    "cell_id": "00003-1ee163e0-2140-4e32-a231-c5d1072763f4",
    "deepnote_cell_type": "markdown"
   }
  },
  {
   "cell_type": "markdown",
   "source": "# Dataset(s)",
   "metadata": {
    "tags": [],
    "cell_id": "00004-929711fc-a888-4be1-a02c-199a12dff5a3",
    "deepnote_cell_type": "markdown"
   }
  },
  {
   "cell_type": "markdown",
   "source": "Dataset Name: County GDP Capita 2009-2018\n\nLink to the dataset: https://ssti.org/blog/useful-stats-capita-county-level-gdp\n\nNumber of observations: 3116 (before data cleaning)\n\nColumns in the dataset for each observation:\n- State\n- County\n- GDP Per Capita 2018\n\nDescription: This dataset is from the State Science & Technology Institute site from a national nonprofit organization. It contains the gross domestic product (GDP) per capita for all of the counties and states in the United States from 2009 to 2018. It also includes information about each counties' rankings in their state and the percent change during those years.\n\n\n\nDataset Name: Daily AQI By County 2018-2020\n\nLink to the dataset: https://aqs.epa.gov/aqsweb/documents/data_api.html\n\nNumber of observations: 903067 (before data cleaning)\n\nColumns in the dataset for each observation:\n- State Name\n- County Name\n- State Code\n- County Code\n- Date\n- AQI\n- Category\n- Defining Parameter\n- Defining Site\n- Number of Sites Reporting\n\nDescription: This dataset is from the United States Enviromental Protection Agency. This dataset has the daily AQI for all of the counties in the United States from 2018 to 2020. (We split the data into the seperate years, but all of the data on AQI is from this one dataset). It also contains information specific to how the data was gathered like the number of sites and the code for the defining site.\n\nHow we plan to combine our datasets: We are using the first dataset on GDP to determine which county is consider affluent. Then we are using the the second dataset to see the changes in air quality before and after COVID-19. \n",
   "metadata": {
    "tags": [],
    "cell_id": "00005-77b23a19-dc9c-4180-aae6-fe2efac57d00",
    "deepnote_cell_type": "markdown"
   }
  },
  {
   "cell_type": "markdown",
   "source": "# Setup",
   "metadata": {
    "tags": [],
    "cell_id": "00006-4a3c3161-d4c4-47fc-8391-e2c3454dc0d0",
    "deepnote_cell_type": "markdown"
   }
  },
  {
   "cell_type": "code",
   "metadata": {
    "tags": [],
    "cell_id": "00007-1d7c3764-9b12-4088-bdf8-ba84282062db",
    "deepnote_to_be_reexecuted": false,
    "source_hash": "15c0f97a",
    "execution_start": 1621642092825,
    "execution_millis": 7737,
    "deepnote_cell_type": "code"
   },
   "source": "import pandas as pd\nfrom datetime import datetime\nimport seaborn as sns\nimport numpy as np\n!pip install xlrd\n!pip install openpyxl",
   "execution_count": 1,
   "outputs": [
    {
     "name": "stdout",
     "text": "Collecting xlrd\n  Downloading xlrd-2.0.1-py2.py3-none-any.whl (96 kB)\n\u001b[K     |████████████████████████████████| 96 kB 9.7 MB/s \n\u001b[?25hInstalling collected packages: xlrd\nSuccessfully installed xlrd-2.0.1\nCollecting openpyxl\n  Downloading openpyxl-3.0.7-py2.py3-none-any.whl (243 kB)\n\u001b[K     |████████████████████████████████| 243 kB 15.9 MB/s \n\u001b[?25hCollecting et-xmlfile\n  Downloading et_xmlfile-1.1.0-py3-none-any.whl (4.7 kB)\nInstalling collected packages: et-xmlfile, openpyxl\nSuccessfully installed et-xmlfile-1.1.0 openpyxl-3.0.7\n",
     "output_type": "stream"
    }
   ]
  },
  {
   "cell_type": "code",
   "metadata": {
    "tags": [],
    "cell_id": "00008-bf1b9323-4d59-42b8-b3c4-ba3e281354b1",
    "deepnote_to_be_reexecuted": false,
    "source_hash": "d6acddd9",
    "execution_start": 1621642100570,
    "execution_millis": 4179,
    "deepnote_cell_type": "code"
   },
   "source": "# read in the data\n\ngdp_data = pd.read_excel('beareal-county-gdp-capita-2009-2018.xlsx', engine='openpyxl')\naqi_data = pd.read_csv('AQI.csv')",
   "execution_count": 2,
   "outputs": []
  },
  {
   "cell_type": "markdown",
   "source": "# Data Cleaning",
   "metadata": {
    "tags": [],
    "cell_id": "00009-d825546f-bada-4724-a192-1f79be4a88f6",
    "deepnote_cell_type": "markdown"
   }
  },
  {
   "cell_type": "markdown",
   "source": "### GDP Data Cleaning",
   "metadata": {
    "tags": [],
    "cell_id": "00010-57db5f25-e61a-48fd-a2fc-9a49fa8ba05c",
    "deepnote_cell_type": "markdown"
   }
  },
  {
   "cell_type": "markdown",
   "source": "Since there are an excess amount of columns that we would not like to use, we dropped every column except for <mark>State</mark>, <mark>County</mark>, and <mark>GDP per Capita 2018</mark>.",
   "metadata": {
    "tags": [],
    "cell_id": "00010-be8b6e86-2c28-4245-be3a-dab5836df9b6",
    "deepnote_cell_type": "markdown"
   }
  },
  {
   "cell_type": "code",
   "metadata": {
    "tags": [],
    "cell_id": "00010-e2968a24-d5f8-493a-9fb9-661bfef7f802",
    "deepnote_to_be_reexecuted": false,
    "source_hash": "8eef0eac",
    "execution_start": 1621642104756,
    "execution_millis": 54,
    "deepnote_cell_type": "code"
   },
   "source": "gdp_data.drop(gdp_data.columns.difference(['State','County', 'GDP per Capita 2018']), 1, inplace=True)\n\ngdp_data",
   "execution_count": 3,
   "outputs": [
    {
     "output_type": "execute_result",
     "execution_count": 3,
     "data": {
      "application/vnd.deepnote.dataframe.v2+json": {
       "row_count": 3116,
       "column_count": 3,
       "columns": [
        {
         "name": "State",
         "dtype": "object",
         "stats": {
          "unique_count": 53,
          "nan_count": 0,
          "categories": [
           {
            "name": "Texas",
            "count": 254
           },
           {
            "name": "Georgia",
            "count": 159
           },
           {
            "name": "51 others",
            "count": 2703
           }
          ]
         }
        },
        {
         "name": "County",
         "dtype": "object",
         "stats": {
          "unique_count": 1835,
          "nan_count": 0,
          "categories": [
           {
            "name": "Washington",
            "count": 30
           },
           {
            "name": "Jefferson",
            "count": 26
           },
           {
            "name": "1833 others",
            "count": 3060
           }
          ]
         }
        },
        {
         "name": "GDP per Capita 2018",
         "dtype": "float64",
         "stats": {
          "unique_count": 3113,
          "nan_count": 3,
          "min": "6.66231548799295",
          "max": "93698.38235294117",
          "histogram": [
           {
            "bin_start": 6.66231548799295,
            "bin_end": 9375.83431923331,
            "count": 3112
           },
           {
            "bin_start": 9375.83431923331,
            "bin_end": 18745.00632297863,
            "count": 0
           },
           {
            "bin_start": 18745.00632297863,
            "bin_end": 28114.178326723944,
            "count": 0
           },
           {
            "bin_start": 28114.178326723944,
            "bin_end": 37483.350330469264,
            "count": 0
           },
           {
            "bin_start": 37483.350330469264,
            "bin_end": 46852.522334214584,
            "count": 0
           },
           {
            "bin_start": 46852.522334214584,
            "bin_end": 56221.694337959896,
            "count": 0
           },
           {
            "bin_start": 56221.694337959896,
            "bin_end": 65590.86634170522,
            "count": 0
           },
           {
            "bin_start": 65590.86634170522,
            "bin_end": 74960.03834545054,
            "count": 0
           },
           {
            "bin_start": 74960.03834545054,
            "bin_end": 84329.21034919586,
            "count": 0
           },
           {
            "bin_start": 84329.21034919586,
            "bin_end": 93698.38235294117,
            "count": 1
           }
          ]
         }
        },
        {
         "name": "_deepnote_index_column",
         "dtype": "int64"
        }
       ],
       "rows_top": [
        {
         "State": "Alabama",
         "County": "Autauga",
         "GDP per Capita 2018": "26.873442028985508",
         "_deepnote_index_column": 0
        },
        {
         "State": "Alabama",
         "County": "Baldwin",
         "GDP per Capita 2018": "27.746731248828727",
         "_deepnote_index_column": 1
        },
        {
         "State": "Alabama",
         "County": "Barbour",
         "GDP per Capita 2018": "30.541656969979055",
         "_deepnote_index_column": 2
        },
        {
         "State": "Alabama",
         "County": "Bibb",
         "GDP per Capita 2018": "16.16713277400453",
         "_deepnote_index_column": 3
        },
        {
         "State": "Alabama",
         "County": "Blount",
         "GDP per Capita 2018": "14.730054644808742",
         "_deepnote_index_column": 4
        },
        {
         "State": "Alabama",
         "County": "Bullock",
         "GDP per Capita 2018": "23.588002318392583",
         "_deepnote_index_column": 5
        },
        {
         "State": "Alabama",
         "County": "Butler",
         "GDP per Capita 2018": "28.498676654182272",
         "_deepnote_index_column": 6
        },
        {
         "State": "Alabama",
         "County": "Calhoun",
         "GDP per Capita 2018": "34.3223687640098",
         "_deepnote_index_column": 7
        },
        {
         "State": "Alabama",
         "County": "Chambers",
         "GDP per Capita 2018": "57.38831076686572",
         "_deepnote_index_column": 8
        },
        {
         "State": "Alabama",
         "County": "Cherokee",
         "GDP per Capita 2018": "19.26325764901559",
         "_deepnote_index_column": 9
        },
        {
         "State": "Alabama",
         "County": "Chilton",
         "GDP per Capita 2018": "19.073230138857273",
         "_deepnote_index_column": 10
        },
        {
         "State": "Alabama",
         "County": "Choctaw",
         "GDP per Capita 2018": "41.8946845124283",
         "_deepnote_index_column": 11
        },
        {
         "State": "Alabama",
         "County": "Clarke",
         "GDP per Capita 2018": "32.169557551154305",
         "_deepnote_index_column": 12
        },
        {
         "State": "Alabama",
         "County": "Clay",
         "GDP per Capita 2018": "25.358499028255345",
         "_deepnote_index_column": 13
        },
        {
         "State": "Alabama",
         "County": "Cleburne",
         "GDP per Capita 2018": "19.68262150220913",
         "_deepnote_index_column": 14
        },
        {
         "State": "Alabama",
         "County": "Coffee",
         "GDP per Capita 2018": "28.666783653096243",
         "_deepnote_index_column": 15
        },
        {
         "State": "Alabama",
         "County": "Colbert",
         "GDP per Capita 2018": "50.570474355445455",
         "_deepnote_index_column": 16
        },
        {
         "State": "Alabama",
         "County": "Conecuh",
         "GDP per Capita 2018": "35.93143679079431",
         "_deepnote_index_column": 17
        },
        {
         "State": "Alabama",
         "County": "Coosa",
         "GDP per Capita 2018": "16.315338553661906",
         "_deepnote_index_column": 18
        },
        {
         "State": "Alabama",
         "County": "Covington",
         "GDP per Capita 2018": "30.705978420925813",
         "_deepnote_index_column": 19
        },
        {
         "State": "Alabama",
         "County": "Crenshaw",
         "GDP per Capita 2018": "29.442408943382617",
         "_deepnote_index_column": 20
        },
        {
         "State": "Alabama",
         "County": "Cullman",
         "GDP per Capita 2018": "30.96165854725256",
         "_deepnote_index_column": 21
        },
        {
         "State": "Alabama",
         "County": "Dale",
         "GDP per Capita 2018": "50.864155923256526",
         "_deepnote_index_column": 22
        },
        {
         "State": "Alabama",
         "County": "Dallas",
         "GDP per Capita 2018": "29.35199480376727",
         "_deepnote_index_column": 23
        },
        {
         "State": "Alabama",
         "County": "DeKalb",
         "GDP per Capita 2018": "24.837275280898876",
         "_deepnote_index_column": 24
        },
        {
         "State": "Alabama",
         "County": "Elmore",
         "GDP per Capita 2018": "20.861301285524306",
         "_deepnote_index_column": 25
        },
        {
         "State": "Alabama",
         "County": "Escambia",
         "GDP per Capita 2018": "31.397503214744965",
         "_deepnote_index_column": 26
        },
        {
         "State": "Alabama",
         "County": "Etowah",
         "GDP per Capita 2018": "27.23428438201265",
         "_deepnote_index_column": 27
        },
        {
         "State": "Alabama",
         "County": "Fayette",
         "GDP per Capita 2018": "20.008260476334037",
         "_deepnote_index_column": 28
        },
        {
         "State": "Alabama",
         "County": "Franklin",
         "GDP per Capita 2018": "28.09051423498827",
         "_deepnote_index_column": 29
        },
        {
         "State": "Alabama",
         "County": "Geneva",
         "GDP per Capita 2018": "19.615114567211506",
         "_deepnote_index_column": 30
        },
        {
         "State": "Alabama",
         "County": "Greene",
         "GDP per Capita 2018": "27.99121765962497",
         "_deepnote_index_column": 31
        },
        {
         "State": "Alabama",
         "County": "Hale",
         "GDP per Capita 2018": "18.811110364747766",
         "_deepnote_index_column": 32
        },
        {
         "State": "Alabama",
         "County": "Henry",
         "GDP per Capita 2018": "19.13764307404812",
         "_deepnote_index_column": 33
        },
        {
         "State": "Alabama",
         "County": "Houston",
         "GDP per Capita 2018": "41.6809356792395",
         "_deepnote_index_column": 34
        },
        {
         "State": "Alabama",
         "County": "Jackson",
         "GDP per Capita 2018": "25.32650593158521",
         "_deepnote_index_column": 35
        },
        {
         "State": "Alabama",
         "County": "Jefferson",
         "GDP per Capita 2018": "63.30483624593115",
         "_deepnote_index_column": 36
        },
        {
         "State": "Alabama",
         "County": "Lamar",
         "GDP per Capita 2018": "21.248403071843825",
         "_deepnote_index_column": 37
        },
        {
         "State": "Alabama",
         "County": "Lauderdale",
         "GDP per Capita 2018": "26.646713830534104",
         "_deepnote_index_column": 38
        },
        {
         "State": "Alabama",
         "County": "Lawrence",
         "GDP per Capita 2018": "16.97892737632269",
         "_deepnote_index_column": 39
        },
        {
         "State": "Alabama",
         "County": "Lee",
         "GDP per Capita 2018": "37.75309347278811",
         "_deepnote_index_column": 40
        },
        {
         "State": "Alabama",
         "County": "Limestone",
         "GDP per Capita 2018": "35.3405300262219",
         "_deepnote_index_column": 41
        },
        {
         "State": "Alabama",
         "County": "Lowndes",
         "GDP per Capita 2018": "40.38042203985932",
         "_deepnote_index_column": 42
        },
        {
         "State": "Alabama",
         "County": "Macon",
         "GDP per Capita 2018": "22.95082397396872",
         "_deepnote_index_column": 43
        },
        {
         "State": "Alabama",
         "County": "Madison",
         "GDP per Capita 2018": "60.71023045083343",
         "_deepnote_index_column": 44
        },
        {
         "State": "Alabama",
         "County": "Marengo",
         "GDP per Capita 2018": "33.652728017197255",
         "_deepnote_index_column": 45
        },
        {
         "State": "Alabama",
         "County": "Marion",
         "GDP per Capita 2018": "26.839646253962957",
         "_deepnote_index_column": 46
        },
        {
         "State": "Alabama",
         "County": "Marshall",
         "GDP per Capita 2018": "32.17968364075884",
         "_deepnote_index_column": 47
        },
        {
         "State": "Alabama",
         "County": "Mobile",
         "GDP per Capita 2018": "43.12677645969339",
         "_deepnote_index_column": 48
        },
        {
         "State": "Alabama",
         "County": "Monroe",
         "GDP per Capita 2018": "28.740330978058758",
         "_deepnote_index_column": 49
        },
        {
         "State": "Alabama",
         "County": "Montgomery",
         "GDP per Capita 2018": "55.66790487395402",
         "_deepnote_index_column": 50
        },
        {
         "State": "Alabama",
         "County": "Morgan",
         "GDP per Capita 2018": "41.80659324054331",
         "_deepnote_index_column": 51
        },
        {
         "State": "Alabama",
         "County": "Perry",
         "GDP per Capita 2018": "19.337128399746994",
         "_deepnote_index_column": 52
        },
        {
         "State": "Alabama",
         "County": "Pickens",
         "GDP per Capita 2018": "19.25145334515716",
         "_deepnote_index_column": 53
        },
        {
         "State": "Alabama",
         "County": "Pike",
         "GDP per Capita 2018": "39.19115049546448",
         "_deepnote_index_column": 54
        },
        {
         "State": "Alabama",
         "County": "Randolph",
         "GDP per Capita 2018": "18.951182776645698",
         "_deepnote_index_column": 55
        },
        {
         "State": "Alabama",
         "County": "Russell",
         "GDP per Capita 2018": "25.30125573325546",
         "_deepnote_index_column": 56
        },
        {
         "State": "Alabama",
         "County": "Shelby",
         "GDP per Capita 2018": "48.83685583235903",
         "_deepnote_index_column": 57
        },
        {
         "State": "Alabama",
         "County": "St. Clair",
         "GDP per Capita 2018": "20.21570109728999",
         "_deepnote_index_column": 58
        },
        {
         "State": "Alabama",
         "County": "Sumter",
         "GDP per Capita 2018": "25.160261840585292",
         "_deepnote_index_column": 59
        },
        {
         "State": "Alabama",
         "County": "Talladega",
         "GDP per Capita 2018": "35.25344752684168",
         "_deepnote_index_column": 60
        },
        {
         "State": "Alabama",
         "County": "Tallapoosa",
         "GDP per Capita 2018": "29.18936411064081",
         "_deepnote_index_column": 61
        },
        {
         "State": "Alabama",
         "County": "Tuscaloosa",
         "GDP per Capita 2018": "43.85056228268829",
         "_deepnote_index_column": 62
        },
        {
         "State": "Alabama",
         "County": "Walker",
         "GDP per Capita 2018": "31.916890205138543",
         "_deepnote_index_column": 63
        },
        {
         "State": "Alabama",
         "County": "Washington",
         "GDP per Capita 2018": "48.02559634681247",
         "_deepnote_index_column": 64
        },
        {
         "State": "Alabama",
         "County": "Wilcox",
         "GDP per Capita 2018": "35.0095290961236",
         "_deepnote_index_column": 65
        },
        {
         "State": "Alabama",
         "County": "Winston",
         "GDP per Capita 2018": "27.956230366492147",
         "_deepnote_index_column": 66
        },
        {
         "State": "Alaska",
         "County": "Aleutians East Borough",
         "GDP per Capita 2018": "58.864817518248174",
         "_deepnote_index_column": 67
        },
        {
         "State": "Alaska",
         "County": "Aleutians West Census Area",
         "GDP per Capita 2018": "61.42173913043478",
         "_deepnote_index_column": 68
        },
        {
         "State": "Alaska",
         "County": "Anchorage Municipality",
         "GDP per Capita 2018": "68.6562584427514",
         "_deepnote_index_column": 69
        },
        {
         "State": "Alaska",
         "County": "Bethel Census Area",
         "GDP per Capita 2018": "34.65576496674058",
         "_deepnote_index_column": 70
        },
        {
         "State": "Alaska",
         "County": "Bristol Bay Borough",
         "GDP per Capita 2018": "146.4505617977528",
         "_deepnote_index_column": 71
        },
        {
         "State": "Alaska",
         "County": "Denali Borough",
         "GDP per Capita 2018": "106.30062724014337",
         "_deepnote_index_column": 72
        },
        {
         "State": "Alaska",
         "County": "Dillingham Census Area",
         "GDP per Capita 2018": "49.93608040201005",
         "_deepnote_index_column": 73
        },
        {
         "State": "Alaska",
         "County": "Fairbanks North Star Borough",
         "GDP per Capita 2018": "56.737770062115544",
         "_deepnote_index_column": 74
        },
        {
         "State": "Alaska",
         "County": "Haines Borough",
         "GDP per Capita 2018": "39.30063542494043",
         "_deepnote_index_column": 75
        },
        {
         "State": "Alaska",
         "County": "Hoonah-Angoon Census Area",
         "GDP per Capita 2018": "39.031894934333955",
         "_deepnote_index_column": 76
        },
        {
         "State": "Alaska",
         "County": "Juneau City and Borough",
         "GDP per Capita 2018": "71.08611197030622",
         "_deepnote_index_column": 77
        },
        {
         "State": "Alaska",
         "County": "Kenai Peninsula Borough",
         "GDP per Capita 2018": "48.240106492614224",
         "_deepnote_index_column": 78
        },
        {
         "State": "Alaska",
         "County": "Ketchikan Gateway Borough",
         "GDP per Capita 2018": "58.00666473485946",
         "_deepnote_index_column": 79
        },
        {
         "State": "Alaska",
         "County": "Kodiak Island Borough",
         "GDP per Capita 2018": "52.38794050846216",
         "_deepnote_index_column": 80
        },
        {
         "State": "Alaska",
         "County": "Kusilvak Census Area",
         "GDP per Capita 2018": "17.68675286655282",
         "_deepnote_index_column": 81
        },
        {
         "State": "Alaska",
         "County": "Lake and Peninsula Borough",
         "GDP per Capita 2018": "64.09018181818182",
         "_deepnote_index_column": 82
        },
        {
         "State": "Alaska",
         "County": "Matanuska-Susitna Borough",
         "GDP per Capita 2018": "21.905281063944948",
         "_deepnote_index_column": 83
        },
        {
         "State": "Alaska",
         "County": "Nome Census Area",
         "GDP per Capita 2018": "39.96916876574307",
         "_deepnote_index_column": 84
        },
        {
         "State": "Alaska",
         "County": "North Slope Borough",
         "GDP per Capita 2018": "1068.6478513830764",
         "_deepnote_index_column": 85
        },
        {
         "State": "Alaska",
         "County": "Northwest Arctic Borough",
         "GDP per Capita 2018": "90.09115593483321",
         "_deepnote_index_column": 86
        },
        {
         "State": "Alaska",
         "County": "Petersburg Borough",
         "GDP per Capita 2018": "52.89646697388633",
         "_deepnote_index_column": 87
        },
        {
         "State": "Alaska",
         "County": "Prince of Wales-Hyder Census Area",
         "GDP per Capita 2018": "33.86700648748842",
         "_deepnote_index_column": 88
        },
        {
         "State": "Alaska",
         "County": "Prince of Wales-Outer Ketchikan Census Area",
         "GDP per Capita 2018": "nan",
         "_deepnote_index_column": 89
        },
        {
         "State": "Alaska",
         "County": "Sitka City and Borough",
         "GDP per Capita 2018": "50.75829709315633",
         "_deepnote_index_column": 90
        },
        {
         "State": "Alaska",
         "County": "Skagway Municipality",
         "GDP per Capita 2018": "89.86427898209237",
         "_deepnote_index_column": 91
        },
        {
         "State": "Alaska",
         "County": "Skagway-Hoonah-Angoon Census Area",
         "GDP per Capita 2018": "nan",
         "_deepnote_index_column": 92
        },
        {
         "State": "Alaska",
         "County": "Southeast Fairbanks Census Area",
         "GDP per Capita 2018": "92.7782140779523",
         "_deepnote_index_column": 93
        },
        {
         "State": "Alaska",
         "County": "Valdez-Cordova Census Area",
         "GDP per Capita 2018": "250.6842275024191",
         "_deepnote_index_column": 94
        },
        {
         "State": "Alaska",
         "County": "Wrangell City and Borough",
         "GDP per Capita 2018": "37.890499194847024",
         "_deepnote_index_column": 95
        },
        {
         "State": "Alaska",
         "County": "Wrangell-Petersburg Census Area",
         "GDP per Capita 2018": "nan",
         "_deepnote_index_column": 96
        },
        {
         "State": "Alaska",
         "County": "Yakutat City and Borough",
         "GDP per Capita 2018": "41.24818577648767",
         "_deepnote_index_column": 97
        },
        {
         "State": "Alaska",
         "County": "Yukon-Koyukuk Census Area",
         "GDP per Capita 2018": "50.51320406278855",
         "_deepnote_index_column": 98
        },
        {
         "State": "Arizona",
         "County": "Apache",
         "GDP per Capita 2018": "36.62466094348592",
         "_deepnote_index_column": 99
        },
        {
         "State": "Arizona",
         "County": "Cochise",
         "GDP per Capita 2018": "34.876218531980776",
         "_deepnote_index_column": 100
        },
        {
         "State": "Arizona",
         "County": "Coconino",
         "GDP per Capita 2018": "48.28545754081174",
         "_deepnote_index_column": 101
        },
        {
         "State": "Arizona",
         "County": "Gila",
         "GDP per Capita 2018": "37.17859550561798",
         "_deepnote_index_column": 102
        },
        {
         "State": "Arizona",
         "County": "Graham",
         "GDP per Capita 2018": "28.98650967554582",
         "_deepnote_index_column": 103
        },
        {
         "State": "Arizona",
         "County": "Greenlee",
         "GDP per Capita 2018": "186.35921717171718",
         "_deepnote_index_column": 104
        },
        {
         "State": "Arizona",
         "County": "La Paz",
         "GDP per Capita 2018": "29.100478237766293",
         "_deepnote_index_column": 105
        },
        {
         "State": "Arizona",
         "County": "Maricopa",
         "GDP per Capita 2018": "51.90278527087884",
         "_deepnote_index_column": 106
        },
        {
         "State": "Arizona",
         "County": "Mohave",
         "GDP per Capita 2018": "24.594363886947743",
         "_deepnote_index_column": 107
        },
        {
         "State": "Arizona",
         "County": "Navajo",
         "GDP per Capita 2018": "32.524226116553976",
         "_deepnote_index_column": 108
        },
        {
         "State": "Arizona",
         "County": "Pima",
         "GDP per Capita 2018": "39.237509831110835",
         "_deepnote_index_column": 109
        },
        {
         "State": "Arizona",
         "County": "Pinal",
         "GDP per Capita 2018": "16.526926220036643",
         "_deepnote_index_column": 110
        },
        {
         "State": "Arizona",
         "County": "Santa Cruz",
         "GDP per Capita 2018": "36.519470204362015",
         "_deepnote_index_column": 111
        },
        {
         "State": "Arizona",
         "County": "Yavapai",
         "GDP per Capita 2018": "28.853818246566806",
         "_deepnote_index_column": 112
        },
        {
         "State": "Arizona",
         "County": "Yuma",
         "GDP per Capita 2018": "37.88878837890766",
         "_deepnote_index_column": 113
        },
        {
         "State": "Arkansas",
         "County": "Arkansas",
         "GDP per Capita 2018": "56.76975281394836",
         "_deepnote_index_column": 114
        },
        {
         "State": "Arkansas",
         "County": "Ashley",
         "GDP per Capita 2018": "44.20684618006525",
         "_deepnote_index_column": 115
        },
        {
         "State": "Arkansas",
         "County": "Baxter",
         "GDP per Capita 2018": "27.445546956500642",
         "_deepnote_index_column": 116
        },
        {
         "State": "Arkansas",
         "County": "Benton",
         "GDP per Capita 2018": "51.1431963858213",
         "_deepnote_index_column": 117
        },
        {
         "State": "Arkansas",
         "County": "Boone",
         "GDP per Capita 2018": "30.844668526067366",
         "_deepnote_index_column": 118
        },
        {
         "State": "Arkansas",
         "County": "Bradley",
         "GDP per Capita 2018": "30.168341249543296",
         "_deepnote_index_column": 119
        },
        {
         "State": "Arkansas",
         "County": "Calhoun",
         "GDP per Capita 2018": "66.30026912725874",
         "_deepnote_index_column": 120
        },
        {
         "State": "Arkansas",
         "County": "Carroll",
         "GDP per Capita 2018": "28.268046042959085",
         "_deepnote_index_column": 121
        },
        {
         "State": "Arkansas",
         "County": "Chicot",
         "GDP per Capita 2018": "22.547385922778496",
         "_deepnote_index_column": 122
        },
        {
         "State": "Arkansas",
         "County": "Clark",
         "GDP per Capita 2018": "32.7905740451195",
         "_deepnote_index_column": 123
        },
        {
         "State": "Arkansas",
         "County": "Clay",
         "GDP per Capita 2018": "20.235243343735476",
         "_deepnote_index_column": 124
        },
        {
         "State": "Arkansas",
         "County": "Cleburne",
         "GDP per Capita 2018": "35.28426476416964",
         "_deepnote_index_column": 125
        },
        {
         "State": "Arkansas",
         "County": "Cleveland",
         "GDP per Capita 2018": "20.64600048626307",
         "_deepnote_index_column": 126
        },
        {
         "State": "Arkansas",
         "County": "Columbia",
         "GDP per Capita 2018": "34.67750711535242",
         "_deepnote_index_column": 127
        },
        {
         "State": "Arkansas",
         "County": "Conway",
         "GDP per Capita 2018": "46.04209317899168",
         "_deepnote_index_column": 128
        },
        {
         "State": "Arkansas",
         "County": "Craighead",
         "GDP per Capita 2018": "38.13889177964258",
         "_deepnote_index_column": 129
        },
        {
         "State": "Arkansas",
         "County": "Crawford",
         "GDP per Capita 2018": "25.088711742860802",
         "_deepnote_index_column": 130
        },
        {
         "State": "Arkansas",
         "County": "Crittenden",
         "GDP per Capita 2018": "30.226776569481565",
         "_deepnote_index_column": 131
        },
        {
         "State": "Arkansas",
         "County": "Cross",
         "GDP per Capita 2018": "25.940757736204258",
         "_deepnote_index_column": 132
        },
        {
         "State": "Arkansas",
         "County": "Dallas",
         "GDP per Capita 2018": "25.8772874058127",
         "_deepnote_index_column": 133
        },
        {
         "State": "Arkansas",
         "County": "Desha",
         "GDP per Capita 2018": "41.898292252040044",
         "_deepnote_index_column": 134
        },
        {
         "State": "Arkansas",
         "County": "Drew",
         "GDP per Capita 2018": "31.05550751270133",
         "_deepnote_index_column": 135
        },
        {
         "State": "Arkansas",
         "County": "Faulkner",
         "GDP per Capita 2018": "30.091809894131487",
         "_deepnote_index_column": 136
        },
        {
         "State": "Arkansas",
         "County": "Franklin",
         "GDP per Capita 2018": "26.99302587176603",
         "_deepnote_index_column": 137
        },
        {
         "State": "Arkansas",
         "County": "Fulton",
         "GDP per Capita 2018": "15.469972814894144",
         "_deepnote_index_column": 138
        },
        {
         "State": "Arkansas",
         "County": "Garland",
         "GDP per Capita 2018": "31.047295922519737",
         "_deepnote_index_column": 139
        },
        {
         "State": "Arkansas",
         "County": "Grant",
         "GDP per Capita 2018": "21.59217073979874",
         "_deepnote_index_column": 140
        },
        {
         "State": "Arkansas",
         "County": "Greene",
         "GDP per Capita 2018": "30.09262039755283",
         "_deepnote_index_column": 141
        },
        {
         "State": "Arkansas",
         "County": "Hempstead",
         "GDP per Capita 2018": "39.84094831501499",
         "_deepnote_index_column": 142
        },
        {
         "State": "Arkansas",
         "County": "Hot Spring",
         "GDP per Capita 2018": "25.76399164677804",
         "_deepnote_index_column": 143
        },
        {
         "State": "Arkansas",
         "County": "Howard",
         "GDP per Capita 2018": "44.63104040630368",
         "_deepnote_index_column": 144
        },
        {
         "State": "Arkansas",
         "County": "Independence",
         "GDP per Capita 2018": "44.834209961356805",
         "_deepnote_index_column": 145
        },
        {
         "State": "Arkansas",
         "County": "Izard",
         "GDP per Capita 2018": "20.14978980750793",
         "_deepnote_index_column": 146
        },
        {
         "State": "Arkansas",
         "County": "Jackson",
         "GDP per Capita 2018": "30.665486211901307",
         "_deepnote_index_column": 147
        },
        {
         "State": "Arkansas",
         "County": "Jefferson",
         "GDP per Capita 2018": "41.421646029762584",
         "_deepnote_index_column": 148
        },
        {
         "State": "Arkansas",
         "County": "Johnson",
         "GDP per Capita 2018": "26.559887413943937",
         "_deepnote_index_column": 149
        },
        {
         "State": "Arkansas",
         "County": "Lafayette",
         "GDP per Capita 2018": "25.229790310918293",
         "_deepnote_index_column": 150
        },
        {
         "State": "Arkansas",
         "County": "Lawrence",
         "GDP per Capita 2018": "26.63681084648149",
         "_deepnote_index_column": 151
        },
        {
         "State": "Arkansas",
         "County": "Lee",
         "GDP per Capita 2018": "18.94637156841881",
         "_deepnote_index_column": 152
        },
        {
         "State": "Arkansas",
         "County": "Lincoln",
         "GDP per Capita 2018": "19.06695874406718",
         "_deepnote_index_column": 153
        },
        {
         "State": "Arkansas",
         "County": "Little River",
         "GDP per Capita 2018": "30.51123459772892",
         "_deepnote_index_column": 154
        },
        {
         "State": "Arkansas",
         "County": "Logan",
         "GDP per Capita 2018": "27.615434113158983",
         "_deepnote_index_column": 155
        },
        {
         "State": "Arkansas",
         "County": "Lonoke",
         "GDP per Capita 2018": "16.051754701825335",
         "_deepnote_index_column": 156
        },
        {
         "State": "Arkansas",
         "County": "Madison",
         "GDP per Capita 2018": "25.6162602637472",
         "_deepnote_index_column": 157
        },
        {
         "State": "Arkansas",
         "County": "Marion",
         "GDP per Capita 2018": "30.067283124467696",
         "_deepnote_index_column": 158
        },
        {
         "State": "Arkansas",
         "County": "Miller",
         "GDP per Capita 2018": "25.189743824127607",
         "_deepnote_index_column": 159
        },
        {
         "State": "Arkansas",
         "County": "Mississippi",
         "GDP per Capita 2018": "51.49104620485163",
         "_deepnote_index_column": 160
        },
        {
         "State": "Arkansas",
         "County": "Monroe",
         "GDP per Capita 2018": "26.053248723961925",
         "_deepnote_index_column": 161
        },
        {
         "State": "Arkansas",
         "County": "Montgomery",
         "GDP per Capita 2018": "17.47603691760258",
         "_deepnote_index_column": 162
        },
        {
         "State": "Arkansas",
         "County": "Nevada",
         "GDP per Capita 2018": "32.34111374407583",
         "_deepnote_index_column": 163
        },
        {
         "State": "Arkansas",
         "County": "Newton",
         "GDP per Capita 2018": "12.355122324159021",
         "_deepnote_index_column": 164
        },
        {
         "State": "Arkansas",
         "County": "Ouachita",
         "GDP per Capita 2018": "25.49614203932631",
         "_deepnote_index_column": 165
        }
       ],
       "rows_bottom": [
        {
         "State": "Washington",
         "County": "Mason",
         "GDP per Capita 2018": 23.917112427547224,
         "_deepnote_index_column": 2949
        },
        {
         "State": "Washington",
         "County": "Okanogan",
         "GDP per Capita 2018": 33.81540900139296,
         "_deepnote_index_column": 2950
        },
        {
         "State": "Washington",
         "County": "Pacific",
         "GDP per Capita 2018": 32.80367463934965,
         "_deepnote_index_column": 2951
        },
        {
         "State": "Washington",
         "County": "Pend Oreille",
         "GDP per Capita 2018": 45.777517210076404,
         "_deepnote_index_column": 2952
        },
        {
         "State": "Washington",
         "County": "Pierce",
         "GDP per Capita 2018": 46.07367533494604,
         "_deepnote_index_column": 2953
        },
        {
         "State": "Washington",
         "County": "San Juan",
         "GDP per Capita 2018": 40.49790566381351,
         "_deepnote_index_column": 2954
        },
        {
         "State": "Washington",
         "County": "Skagit",
         "GDP per Capita 2018": 60.282607116627794,
         "_deepnote_index_column": 2955
        },
        {
         "State": "Washington",
         "County": "Skamania",
         "GDP per Capita 2018": 23.728657487091223,
         "_deepnote_index_column": 2956
        },
        {
         "State": "Washington",
         "County": "Snohomish",
         "GDP per Capita 2018": 49.59193511479494,
         "_deepnote_index_column": 2957
        },
        {
         "State": "Washington",
         "County": "Spokane",
         "GDP per Capita 2018": 47.151911624403716,
         "_deepnote_index_column": 2958
        },
        {
         "State": "Washington",
         "County": "Stevens",
         "GDP per Capita 2018": 25.120798841995747,
         "_deepnote_index_column": 2959
        },
        {
         "State": "Washington",
         "County": "Thurston",
         "GDP per Capita 2018": 45.13644041880852,
         "_deepnote_index_column": 2960
        },
        {
         "State": "Washington",
         "County": "Wahkiakum",
         "GDP per Capita 2018": 24.97899259966579,
         "_deepnote_index_column": 2961
        },
        {
         "State": "Washington",
         "County": "Walla Walla",
         "GDP per Capita 2018": 50.94587954047414,
         "_deepnote_index_column": 2962
        },
        {
         "State": "Washington",
         "County": "Whatcom",
         "GDP per Capita 2018": 62.3385098610778,
         "_deepnote_index_column": 2963
        },
        {
         "State": "Washington",
         "County": "Whitman",
         "GDP per Capita 2018": 52.468297902990145,
         "_deepnote_index_column": 2964
        },
        {
         "State": "Washington",
         "County": "Yakima",
         "GDP per Capita 2018": 39.64002005414619,
         "_deepnote_index_column": 2965
        },
        {
         "State": "West Virginia",
         "County": "Barbour",
         "GDP per Capita 2018": 23.238792588164973,
         "_deepnote_index_column": 2966
        },
        {
         "State": "West Virginia",
         "County": "Berkeley",
         "GDP per Capita 2018": 27.259976210405746,
         "_deepnote_index_column": 2967
        },
        {
         "State": "West Virginia",
         "County": "Boone",
         "GDP per Capita 2018": 29.06727440066617,
         "_deepnote_index_column": 2968
        },
        {
         "State": "West Virginia",
         "County": "Braxton",
         "GDP per Capita 2018": 19.638005881529196,
         "_deepnote_index_column": 2969
        },
        {
         "State": "West Virginia",
         "County": "Brooke",
         "GDP per Capita 2018": 37.770858949587215,
         "_deepnote_index_column": 2970
        },
        {
         "State": "West Virginia",
         "County": "Cabell",
         "GDP per Capita 2018": 46.041282863677374,
         "_deepnote_index_column": 2971
        },
        {
         "State": "West Virginia",
         "County": "Calhoun",
         "GDP per Capita 2018": 15.920227149810708,
         "_deepnote_index_column": 2972
        },
        {
         "State": "West Virginia",
         "County": "Clay",
         "GDP per Capita 2018": 12.368127490039841,
         "_deepnote_index_column": 2973
        },
        {
         "State": "West Virginia",
         "County": "Doddridge",
         "GDP per Capita 2018": 159.3855435801312,
         "_deepnote_index_column": 2974
        },
        {
         "State": "West Virginia",
         "County": "Fayette",
         "GDP per Capita 2018": 22.58088201967094,
         "_deepnote_index_column": 2975
        },
        {
         "State": "West Virginia",
         "County": "Gilmer",
         "GDP per Capita 2018": 22.091773308957954,
         "_deepnote_index_column": 2976
        },
        {
         "State": "West Virginia",
         "County": "Grant",
         "GDP per Capita 2018": 35.81410531741259,
         "_deepnote_index_column": 2977
        },
        {
         "State": "West Virginia",
         "County": "Greenbrier",
         "GDP per Capita 2018": 29.52615497779161,
         "_deepnote_index_column": 2978
        },
        {
         "State": "West Virginia",
         "County": "Hampshire",
         "GDP per Capita 2018": 13.458502760775586,
         "_deepnote_index_column": 2979
        },
        {
         "State": "West Virginia",
         "County": "Hancock",
         "GDP per Capita 2018": 43.99696765498652,
         "_deepnote_index_column": 2980
        },
        {
         "State": "West Virginia",
         "County": "Hardy",
         "GDP per Capita 2018": 26.98034966045369,
         "_deepnote_index_column": 2981
        },
        {
         "State": "West Virginia",
         "County": "Harrison",
         "GDP per Capita 2018": 64.11589379700627,
         "_deepnote_index_column": 2982
        },
        {
         "State": "West Virginia",
         "County": "Jackson",
         "GDP per Capita 2018": 46.88751809221862,
         "_deepnote_index_column": 2983
        },
        {
         "State": "West Virginia",
         "County": "Jefferson",
         "GDP per Capita 2018": 25.03953434557397,
         "_deepnote_index_column": 2984
        },
        {
         "State": "West Virginia",
         "County": "Kanawha",
         "GDP per Capita 2018": 52.31447418017339,
         "_deepnote_index_column": 2985
        },
        {
         "State": "West Virginia",
         "County": "Lewis",
         "GDP per Capita 2018": 40.85082329810764,
         "_deepnote_index_column": 2986
        },
        {
         "State": "West Virginia",
         "County": "Lincoln",
         "GDP per Capita 2018": 10.61087389695417,
         "_deepnote_index_column": 2987
        },
        {
         "State": "West Virginia",
         "County": "Logan",
         "GDP per Capita 2018": 37.77139729593799,
         "_deepnote_index_column": 2988
        },
        {
         "State": "West Virginia",
         "County": "Marion",
         "GDP per Capita 2018": 38.09368639042781,
         "_deepnote_index_column": 2989
        },
        {
         "State": "West Virginia",
         "County": "Marshall",
         "GDP per Capita 2018": 89.31287723179017,
         "_deepnote_index_column": 2990
        },
        {
         "State": "West Virginia",
         "County": "Mason",
         "GDP per Capita 2018": 29.653921823378745,
         "_deepnote_index_column": 2991
        },
        {
         "State": "West Virginia",
         "County": "McDowell",
         "GDP per Capita 2018": 29.27891970650986,
         "_deepnote_index_column": 2992
        },
        {
         "State": "West Virginia",
         "County": "Mercer",
         "GDP per Capita 2018": 25.6069999669345,
         "_deepnote_index_column": 2993
        },
        {
         "State": "West Virginia",
         "County": "Mineral",
         "GDP per Capita 2018": 27.325573722413665,
         "_deepnote_index_column": 2994
        },
        {
         "State": "West Virginia",
         "County": "Mingo",
         "GDP per Capita 2018": 28.252576694555597,
         "_deepnote_index_column": 2995
        },
        {
         "State": "West Virginia",
         "County": "Monongalia",
         "GDP per Capita 2018": 59.324981948086496,
         "_deepnote_index_column": 2996
        },
        {
         "State": "West Virginia",
         "County": "Monroe",
         "GDP per Capita 2018": 15.099725254325389,
         "_deepnote_index_column": 2997
        },
        {
         "State": "West Virginia",
         "County": "Morgan",
         "GDP per Capita 2018": 14.25510667271902,
         "_deepnote_index_column": 2998
        },
        {
         "State": "West Virginia",
         "County": "Nicholas",
         "GDP per Capita 2018": 23.319617753909334,
         "_deepnote_index_column": 2999
        },
        {
         "State": "West Virginia",
         "County": "Ohio",
         "GDP per Capita 2018": 71.55785366770866,
         "_deepnote_index_column": 3000
        },
        {
         "State": "West Virginia",
         "County": "Pendleton",
         "GDP per Capita 2018": 18.271541950113377,
         "_deepnote_index_column": 3001
        },
        {
         "State": "West Virginia",
         "County": "Pleasants",
         "GDP per Capita 2018": 57.82736112961236,
         "_deepnote_index_column": 3002
        },
        {
         "State": "West Virginia",
         "County": "Pocahontas",
         "GDP per Capita 2018": 27.95533935060368,
         "_deepnote_index_column": 3003
        },
        {
         "State": "West Virginia",
         "County": "Preston",
         "GDP per Capita 2018": 18.516682921062742,
         "_deepnote_index_column": 3004
        },
        {
         "State": "West Virginia",
         "County": "Putnam",
         "GDP per Capita 2018": 48.32201864011862,
         "_deepnote_index_column": 3005
        },
        {
         "State": "West Virginia",
         "County": "Raleigh",
         "GDP per Capita 2018": 37.04082275160038,
         "_deepnote_index_column": 3006
        },
        {
         "State": "West Virginia",
         "County": "Randolph",
         "GDP per Capita 2018": 26.937209702391193,
         "_deepnote_index_column": 3007
        },
        {
         "State": "West Virginia",
         "County": "Ritchie",
         "GDP per Capita 2018": 68.28342730567861,
         "_deepnote_index_column": 3008
        },
        {
         "State": "West Virginia",
         "County": "Roane",
         "GDP per Capita 2018": 19.529602252727912,
         "_deepnote_index_column": 3009
        },
        {
         "State": "West Virginia",
         "County": "Summers",
         "GDP per Capita 2018": 15.120371792902136,
         "_deepnote_index_column": 3010
        },
        {
         "State": "West Virginia",
         "County": "Taylor",
         "GDP per Capita 2018": 28.62987434369654,
         "_deepnote_index_column": 3011
        },
        {
         "State": "West Virginia",
         "County": "Tucker",
         "GDP per Capita 2018": 37.659171766045255,
         "_deepnote_index_column": 3012
        },
        {
         "State": "West Virginia",
         "County": "Tyler",
         "GDP per Capita 2018": 74.7894264227186,
         "_deepnote_index_column": 3013
        },
        {
         "State": "West Virginia",
         "County": "Upshur",
         "GDP per Capita 2018": 27.325177809388336,
         "_deepnote_index_column": 3014
        },
        {
         "State": "West Virginia",
         "County": "Wayne",
         "GDP per Capita 2018": 22.727989584356884,
         "_deepnote_index_column": 3015
        },
        {
         "State": "West Virginia",
         "County": "Webster",
         "GDP per Capita 2018": 18.154261563747358,
         "_deepnote_index_column": 3016
        },
        {
         "State": "West Virginia",
         "County": "Wetzel",
         "GDP per Capita 2018": 60.75739720763418,
         "_deepnote_index_column": 3017
        },
        {
         "State": "West Virginia",
         "County": "Wirt",
         "GDP per Capita 2018": 10.029843022252889,
         "_deepnote_index_column": 3018
        },
        {
         "State": "West Virginia",
         "County": "Wood",
         "GDP per Capita 2018": 39.15656412174482,
         "_deepnote_index_column": 3019
        },
        {
         "State": "West Virginia",
         "County": "Wyoming",
         "GDP per Capita 2018": 27.067200958039702,
         "_deepnote_index_column": 3020
        },
        {
         "State": "Wisconsin",
         "County": "Adams",
         "GDP per Capita 2018": 22.358192597020874,
         "_deepnote_index_column": 3021
        },
        {
         "State": "Wisconsin",
         "County": "Ashland",
         "GDP per Capita 2018": 43.23771639511202,
         "_deepnote_index_column": 3022
        },
        {
         "State": "Wisconsin",
         "County": "Barron",
         "GDP per Capita 2018": 44.04583222840979,
         "_deepnote_index_column": 3023
        },
        {
         "State": "Wisconsin",
         "County": "Bayfield",
         "GDP per Capita 2018": 26.61379402347919,
         "_deepnote_index_column": 3024
        },
        {
         "State": "Wisconsin",
         "County": "Brown",
         "GDP per Capita 2018": 64.9175744651367,
         "_deepnote_index_column": 3025
        },
        {
         "State": "Wisconsin",
         "County": "Buffalo",
         "GDP per Capita 2018": 42.159033948507634,
         "_deepnote_index_column": 3026
        },
        {
         "State": "Wisconsin",
         "County": "Burnett",
         "GDP per Capita 2018": 31.303512911259666,
         "_deepnote_index_column": 3027
        },
        {
         "State": "Wisconsin",
         "County": "Calumet",
         "GDP per Capita 2018": 31.340976168008513,
         "_deepnote_index_column": 3028
        },
        {
         "State": "Wisconsin",
         "County": "Chippewa",
         "GDP per Capita 2018": 40.22138760116288,
         "_deepnote_index_column": 3029
        },
        {
         "State": "Wisconsin",
         "County": "Clark",
         "GDP per Capita 2018": 38.79029311994433,
         "_deepnote_index_column": 3030
        },
        {
         "State": "Wisconsin",
         "County": "Columbia",
         "GDP per Capita 2018": 48.90413316009411,
         "_deepnote_index_column": 3031
        },
        {
         "State": "Wisconsin",
         "County": "Crawford",
         "GDP per Capita 2018": 42.63887524557957,
         "_deepnote_index_column": 3032
        },
        {
         "State": "Wisconsin",
         "County": "Dane",
         "GDP per Capita 2018": 77.6411974868027,
         "_deepnote_index_column": 3033
        },
        {
         "State": "Wisconsin",
         "County": "Dodge",
         "GDP per Capita 2018": 37.364313707619395,
         "_deepnote_index_column": 3034
        },
        {
         "State": "Wisconsin",
         "County": "Door",
         "GDP per Capita 2018": 42.86770654907249,
         "_deepnote_index_column": 3035
        },
        {
         "State": "Wisconsin",
         "County": "Douglas",
         "GDP per Capita 2018": 42.02073637159578,
         "_deepnote_index_column": 3036
        },
        {
         "State": "Wisconsin",
         "County": "Dunn",
         "GDP per Capita 2018": 38.8803766461414,
         "_deepnote_index_column": 3037
        },
        {
         "State": "Wisconsin",
         "County": "Eau Claire",
         "GDP per Capita 2018": 57.4832461088833,
         "_deepnote_index_column": 3038
        },
        {
         "State": "Wisconsin",
         "County": "Florence",
         "GDP per Capita 2018": 28.489047728844824,
         "_deepnote_index_column": 3039
        },
        {
         "State": "Wisconsin",
         "County": "Fond du Lac",
         "GDP per Capita 2018": 46.71411816449201,
         "_deepnote_index_column": 3040
        },
        {
         "State": "Wisconsin",
         "County": "Forest",
         "GDP per Capita 2018": 32.09858061654469,
         "_deepnote_index_column": 3041
        },
        {
         "State": "Wisconsin",
         "County": "Grant",
         "GDP per Capita 2018": 39.48377324998071,
         "_deepnote_index_column": 3042
        },
        {
         "State": "Wisconsin",
         "County": "Green",
         "GDP per Capita 2018": 41.149441189236114,
         "_deepnote_index_column": 3043
        },
        {
         "State": "Wisconsin",
         "County": "Green Lake",
         "GDP per Capita 2018": 34.97483606120382,
         "_deepnote_index_column": 3044
        },
        {
         "State": "Wisconsin",
         "County": "Iowa",
         "GDP per Capita 2018": 46.08577476714649,
         "_deepnote_index_column": 3045
        },
        {
         "State": "Wisconsin",
         "County": "Iron",
         "GDP per Capita 2018": 30.99440069991251,
         "_deepnote_index_column": 3046
        },
        {
         "State": "Wisconsin",
         "County": "Jackson",
         "GDP per Capita 2018": 44.217643616502485,
         "_deepnote_index_column": 3047
        },
        {
         "State": "Wisconsin",
         "County": "Jefferson",
         "GDP per Capita 2018": 48.843441383546754,
         "_deepnote_index_column": 3048
        },
        {
         "State": "Wisconsin",
         "County": "Juneau",
         "GDP per Capita 2018": 30.028842878231575,
         "_deepnote_index_column": 3049
        },
        {
         "State": "Wisconsin",
         "County": "Kenosha",
         "GDP per Capita 2018": 36.486217548862356,
         "_deepnote_index_column": 3050
        },
        {
         "State": "Wisconsin",
         "County": "Kewaunee",
         "GDP per Capita 2018": 38.77057956777996,
         "_deepnote_index_column": 3051
        },
        {
         "State": "Wisconsin",
         "County": "La Crosse",
         "GDP per Capita 2018": 54.904293593551124,
         "_deepnote_index_column": 3052
        },
        {
         "State": "Wisconsin",
         "County": "Lafayette",
         "GDP per Capita 2018": 39.69650433223782,
         "_deepnote_index_column": 3053
        },
        {
         "State": "Wisconsin",
         "County": "Langlade",
         "GDP per Capita 2018": 35.150073053642245,
         "_deepnote_index_column": 3054
        },
        {
         "State": "Wisconsin",
         "County": "Lincoln",
         "GDP per Capita 2018": 37.75265728239012,
         "_deepnote_index_column": 3055
        },
        {
         "State": "Wisconsin",
         "County": "Manitowoc",
         "GDP per Capita 2018": 48.9286838691803,
         "_deepnote_index_column": 3056
        },
        {
         "State": "Wisconsin",
         "County": "Marathon",
         "GDP per Capita 2018": 59.56364590726283,
         "_deepnote_index_column": 3057
        },
        {
         "State": "Wisconsin",
         "County": "Marinette",
         "GDP per Capita 2018": 47.8824530675679,
         "_deepnote_index_column": 3058
        },
        {
         "State": "Wisconsin",
         "County": "Marquette",
         "GDP per Capita 2018": 25.578417833892285,
         "_deepnote_index_column": 3059
        },
        {
         "State": "Wisconsin",
         "County": "Menominee",
         "GDP per Capita 2018": 35.06071194583971,
         "_deepnote_index_column": 3060
        },
        {
         "State": "Wisconsin",
         "County": "Milwaukee",
         "GDP per Capita 2018": 56.87352875523077,
         "_deepnote_index_column": 3061
        },
        {
         "State": "Wisconsin",
         "County": "Monroe",
         "GDP per Capita 2018": 49.396092479451454,
         "_deepnote_index_column": 3062
        },
        {
         "State": "Wisconsin",
         "County": "Oconto",
         "GDP per Capita 2018": 24.665699222494407,
         "_deepnote_index_column": 3063
        },
        {
         "State": "Wisconsin",
         "County": "Oneida",
         "GDP per Capita 2018": 41.87036355920215,
         "_deepnote_index_column": 3064
        },
        {
         "State": "Wisconsin",
         "County": "Outagamie",
         "GDP per Capita 2018": 55.45377096030397,
         "_deepnote_index_column": 3065
        },
        {
         "State": "Wisconsin",
         "County": "Ozaukee",
         "GDP per Capita 2018": 52.58844184676725,
         "_deepnote_index_column": 3066
        },
        {
         "State": "Wisconsin",
         "County": "Pepin",
         "GDP per Capita 2018": 35.27843569264665,
         "_deepnote_index_column": 3067
        },
        {
         "State": "Wisconsin",
         "County": "Pierce",
         "GDP per Capita 2018": 26.2597889575271,
         "_deepnote_index_column": 3068
        },
        {
         "State": "Wisconsin",
         "County": "Polk",
         "GDP per Capita 2018": 34.16784700915823,
         "_deepnote_index_column": 3069
        },
        {
         "State": "Wisconsin",
         "County": "Portage",
         "GDP per Capita 2018": 48.369127041459514,
         "_deepnote_index_column": 3070
        },
        {
         "State": "Wisconsin",
         "County": "Price",
         "GDP per Capita 2018": 37.999703484062266,
         "_deepnote_index_column": 3071
        },
        {
         "State": "Wisconsin",
         "County": "Racine",
         "GDP per Capita 2018": 43.24607723722863,
         "_deepnote_index_column": 3072
        },
        {
         "State": "Wisconsin",
         "County": "Richland",
         "GDP per Capita 2018": 38.341581618108215,
         "_deepnote_index_column": 3073
        },
        {
         "State": "Wisconsin",
         "County": "Rock",
         "GDP per Capita 2018": 43.351964838751556,
         "_deepnote_index_column": 3074
        },
        {
         "State": "Wisconsin",
         "County": "Rusk",
         "GDP per Capita 2018": 36.187477966579706,
         "_deepnote_index_column": 3075
        },
        {
         "State": "Wisconsin",
         "County": "Sauk",
         "GDP per Capita 2018": 52.48886722435373,
         "_deepnote_index_column": 3076
        },
        {
         "State": "Wisconsin",
         "County": "Sawyer",
         "GDP per Capita 2018": 37.65803298717166,
         "_deepnote_index_column": 3077
        },
        {
         "State": "Wisconsin",
         "County": "Shawano",
         "GDP per Capita 2018": 27.750615718500818,
         "_deepnote_index_column": 3078
        },
        {
         "State": "Wisconsin",
         "County": "Sheboygan",
         "GDP per Capita 2018": 58.1589167136843,
         "_deepnote_index_column": 3079
        },
        {
         "State": "Wisconsin",
         "County": "St. Croix",
         "GDP per Capita 2018": 34.48407020257743,
         "_deepnote_index_column": 3080
        },
        {
         "State": "Wisconsin",
         "County": "Taylor",
         "GDP per Capita 2018": 40.130330123796426,
         "_deepnote_index_column": 3081
        },
        {
         "State": "Wisconsin",
         "County": "Trempealeau",
         "GDP per Capita 2018": 45.915245600923974,
         "_deepnote_index_column": 3082
        },
        {
         "State": "Wisconsin",
         "County": "Vernon",
         "GDP per Capita 2018": 30.570487613055445,
         "_deepnote_index_column": 3083
        },
        {
         "State": "Wisconsin",
         "County": "Vilas",
         "GDP per Capita 2018": 38.30014356504423,
         "_deepnote_index_column": 3084
        },
        {
         "State": "Wisconsin",
         "County": "Walworth",
         "GDP per Capita 2018": 37.46457243260559,
         "_deepnote_index_column": 3085
        },
        {
         "State": "Wisconsin",
         "County": "Washburn",
         "GDP per Capita 2018": 32.97023392185608,
         "_deepnote_index_column": 3086
        },
        {
         "State": "Wisconsin",
         "County": "Washington",
         "GDP per Capita 2018": 41.89819006206563,
         "_deepnote_index_column": 3087
        },
        {
         "State": "Wisconsin",
         "County": "Waukesha",
         "GDP per Capita 2018": 70.26818408590074,
         "_deepnote_index_column": 3088
        },
        {
         "State": "Wisconsin",
         "County": "Waupaca",
         "GDP per Capita 2018": 36.28261799238006,
         "_deepnote_index_column": 3089
        },
        {
         "State": "Wisconsin",
         "County": "Waushara",
         "GDP per Capita 2018": 23.227400895670925,
         "_deepnote_index_column": 3090
        },
        {
         "State": "Wisconsin",
         "County": "Winnebago",
         "GDP per Capita 2018": 54.57847533632287,
         "_deepnote_index_column": 3091
        },
        {
         "State": "Wisconsin",
         "County": "Wood",
         "GDP per Capita 2018": 51.10200070966509,
         "_deepnote_index_column": 3092
        },
        {
         "State": "Wyoming",
         "County": "Albany",
         "GDP per Capita 2018": 37.04456458978531,
         "_deepnote_index_column": 3093
        },
        {
         "State": "Wyoming",
         "County": "Big Horn",
         "GDP per Capita 2018": 42.40526006217965,
         "_deepnote_index_column": 3094
        },
        {
         "State": "Wyoming",
         "County": "Campbell",
         "GDP per Capita 2018": 130.05703445962942,
         "_deepnote_index_column": 3095
        },
        {
         "State": "Wyoming",
         "County": "Carbon",
         "GDP per Capita 2018": 85.56541965497189,
         "_deepnote_index_column": 3096
        },
        {
         "State": "Wyoming",
         "County": "Converse",
         "GDP per Capita 2018": 107.3451453882975,
         "_deepnote_index_column": 3097
        },
        {
         "State": "Wyoming",
         "County": "Crook",
         "GDP per Capita 2018": 41.504183535762486,
         "_deepnote_index_column": 3098
        },
        {
         "State": "Wyoming",
         "County": "Fremont",
         "GDP per Capita 2018": 39.82281165785008,
         "_deepnote_index_column": 3099
        },
        {
         "State": "Wyoming",
         "County": "Goshen",
         "GDP per Capita 2018": 44.98184253609168,
         "_deepnote_index_column": 3100
        },
        {
         "State": "Wyoming",
         "County": "Hot Springs",
         "GDP per Capita 2018": 52.66816239316239,
         "_deepnote_index_column": 3101
        },
        {
         "State": "Wyoming",
         "County": "Johnson",
         "GDP per Capita 2018": 51.55713446858485,
         "_deepnote_index_column": 3102
        },
        {
         "State": "Wyoming",
         "County": "Laramie",
         "GDP per Capita 2018": 53.60346804241903,
         "_deepnote_index_column": 3103
        },
        {
         "State": "Wyoming",
         "County": "Lincoln",
         "GDP per Capita 2018": 41.72715796118037,
         "_deepnote_index_column": 3104
        },
        {
         "State": "Wyoming",
         "County": "Natrona",
         "GDP per Capita 2018": 64.14864160774097,
         "_deepnote_index_column": 3105
        },
        {
         "State": "Wyoming",
         "County": "Niobrara",
         "GDP per Capita 2018": 53.99305555555556,
         "_deepnote_index_column": 3106
        },
        {
         "State": "Wyoming",
         "County": "Park",
         "GDP per Capita 2018": 46.231310737955425,
         "_deepnote_index_column": 3107
        },
        {
         "State": "Wyoming",
         "County": "Platte",
         "GDP per Capita 2018": 61.757753949037244,
         "_deepnote_index_column": 3108
        },
        {
         "State": "Wyoming",
         "County": "Sheridan",
         "GDP per Capita 2018": 41.72950819672131,
         "_deepnote_index_column": 3109
        },
        {
         "State": "Wyoming",
         "County": "Sublette",
         "GDP per Capita 2018": 169.2513315244699,
         "_deepnote_index_column": 3110
        },
        {
         "State": "Wyoming",
         "County": "Sweetwater",
         "GDP per Capita 2018": 86.9642768093932,
         "_deepnote_index_column": 3111
        },
        {
         "State": "Wyoming",
         "County": "Teton",
         "GDP per Capita 2018": 93.95116874105555,
         "_deepnote_index_column": 3112
        },
        {
         "State": "Wyoming",
         "County": "Uinta",
         "GDP per Capita 2018": 43.989858799553595,
         "_deepnote_index_column": 3113
        },
        {
         "State": "Wyoming",
         "County": "Washakie",
         "GDP per Capita 2018": 44.052651002583346,
         "_deepnote_index_column": 3114
        },
        {
         "State": "Wyoming",
         "County": "Weston",
         "GDP per Capita 2018": 44.49084507042254,
         "_deepnote_index_column": 3115
        }
       ]
      },
      "text/plain": "        State      County  GDP per Capita 2018\n0     Alabama     Autauga            26.873442\n1     Alabama     Baldwin            27.746731\n2     Alabama     Barbour            30.541657\n3     Alabama        Bibb            16.167133\n4     Alabama      Blount            14.730055\n...       ...         ...                  ...\n3111  Wyoming  Sweetwater            86.964277\n3112  Wyoming       Teton            93.951169\n3113  Wyoming       Uinta            43.989859\n3114  Wyoming    Washakie            44.052651\n3115  Wyoming      Weston            44.490845\n\n[3116 rows x 3 columns]",
      "text/html": "<div>\n<style scoped>\n    .dataframe tbody tr th:only-of-type {\n        vertical-align: middle;\n    }\n\n    .dataframe tbody tr th {\n        vertical-align: top;\n    }\n\n    .dataframe thead th {\n        text-align: right;\n    }\n</style>\n<table border=\"1\" class=\"dataframe\">\n  <thead>\n    <tr style=\"text-align: right;\">\n      <th></th>\n      <th>State</th>\n      <th>County</th>\n      <th>GDP per Capita 2018</th>\n    </tr>\n  </thead>\n  <tbody>\n    <tr>\n      <th>0</th>\n      <td>Alabama</td>\n      <td>Autauga</td>\n      <td>26.873442</td>\n    </tr>\n    <tr>\n      <th>1</th>\n      <td>Alabama</td>\n      <td>Baldwin</td>\n      <td>27.746731</td>\n    </tr>\n    <tr>\n      <th>2</th>\n      <td>Alabama</td>\n      <td>Barbour</td>\n      <td>30.541657</td>\n    </tr>\n    <tr>\n      <th>3</th>\n      <td>Alabama</td>\n      <td>Bibb</td>\n      <td>16.167133</td>\n    </tr>\n    <tr>\n      <th>4</th>\n      <td>Alabama</td>\n      <td>Blount</td>\n      <td>14.730055</td>\n    </tr>\n    <tr>\n      <th>...</th>\n      <td>...</td>\n      <td>...</td>\n      <td>...</td>\n    </tr>\n    <tr>\n      <th>3111</th>\n      <td>Wyoming</td>\n      <td>Sweetwater</td>\n      <td>86.964277</td>\n    </tr>\n    <tr>\n      <th>3112</th>\n      <td>Wyoming</td>\n      <td>Teton</td>\n      <td>93.951169</td>\n    </tr>\n    <tr>\n      <th>3113</th>\n      <td>Wyoming</td>\n      <td>Uinta</td>\n      <td>43.989859</td>\n    </tr>\n    <tr>\n      <th>3114</th>\n      <td>Wyoming</td>\n      <td>Washakie</td>\n      <td>44.052651</td>\n    </tr>\n    <tr>\n      <th>3115</th>\n      <td>Wyoming</td>\n      <td>Weston</td>\n      <td>44.490845</td>\n    </tr>\n  </tbody>\n</table>\n<p>3116 rows × 3 columns</p>\n</div>"
     },
     "metadata": {}
    }
   ]
  },
  {
   "cell_type": "markdown",
   "source": "A new column was created in <b>gdp_data</b> so that we can eventually merge the <b>gdp_data</b> and the <b>aqi_data</b> by state and county name.",
   "metadata": {
    "tags": [],
    "cell_id": "00012-11b9cee9-88f6-43d6-a6df-915235dacce6",
    "deepnote_cell_type": "markdown"
   }
  },
  {
   "cell_type": "code",
   "metadata": {
    "tags": [],
    "cell_id": "00011-dead7870-ba75-4f85-b98a-daca2ed593ff",
    "deepnote_to_be_reexecuted": false,
    "source_hash": "22eb2812",
    "execution_start": 1621642104807,
    "execution_millis": 6,
    "deepnote_cell_type": "code"
   },
   "source": "gdp_data['State + County'] = gdp_data['State'] +  \" \" + gdp_data['County']",
   "execution_count": 4,
   "outputs": []
  },
  {
   "cell_type": "markdown",
   "source": "### AQI Data Cleaning",
   "metadata": {
    "tags": [],
    "cell_id": "00015-d9bcd17b-0656-4199-b148-63e262a74f76",
    "deepnote_cell_type": "markdown"
   }
  },
  {
   "cell_type": "markdown",
   "source": "We will now be examining the <b>AQI.csv</b> file. We originally downloaded this through an API provided by the United States Enviromental Protection Agency. The code we used to merge and create this file can be found in the Appendix below.",
   "metadata": {
    "tags": [],
    "cell_id": "00014-5e82559a-2d00-4600-9e47-1ed12f9f2c34",
    "deepnote_cell_type": "markdown"
   }
  },
  {
   "cell_type": "code",
   "metadata": {
    "tags": [],
    "cell_id": "00015-366a83f9-f9c4-406f-9b27-e0b99be39135",
    "deepnote_to_be_reexecuted": false,
    "source_hash": "427733b7",
    "execution_start": 1621642104819,
    "execution_millis": 151,
    "deepnote_cell_type": "code"
   },
   "source": "aqi_data",
   "execution_count": 5,
   "outputs": [
    {
     "output_type": "execute_result",
     "execution_count": 5,
     "data": {
      "application/vnd.deepnote.dataframe.v2+json": {
       "row_count": 903067,
       "column_count": 8,
       "columns": [
        {
         "name": "Unnamed: 0",
         "dtype": "int64"
        },
        {
         "name": "State Name",
         "dtype": "object"
        },
        {
         "name": "county Name",
         "dtype": "object"
        },
        {
         "name": "Date",
         "dtype": "object"
        },
        {
         "name": "AQI",
         "dtype": "int64"
        },
        {
         "name": "Category",
         "dtype": "object"
        },
        {
         "name": "Defining Parameter",
         "dtype": "object"
        },
        {
         "name": "Number of Sites Reporting",
         "dtype": "int64"
        },
        {
         "name": "_deepnote_index_column",
         "dtype": "int64"
        }
       ],
       "rows_top": [
        {
         "Unnamed: 0": 0,
         "State Name": "Alabama",
         "county Name": "Baldwin",
         "Date": "2018-01-02",
         "AQI": 32,
         "Category": "Good",
         "Defining Parameter": "PM2.5",
         "Number of Sites Reporting": 1,
         "_deepnote_index_column": 0
        },
        {
         "Unnamed: 0": 1,
         "State Name": "Alabama",
         "county Name": "Baldwin",
         "Date": "2018-01-05",
         "AQI": 34,
         "Category": "Good",
         "Defining Parameter": "PM2.5",
         "Number of Sites Reporting": 1,
         "_deepnote_index_column": 1
        },
        {
         "Unnamed: 0": 2,
         "State Name": "Alabama",
         "county Name": "Baldwin",
         "Date": "2018-01-08",
         "AQI": 15,
         "Category": "Good",
         "Defining Parameter": "PM2.5",
         "Number of Sites Reporting": 1,
         "_deepnote_index_column": 2
        },
        {
         "Unnamed: 0": 3,
         "State Name": "Alabama",
         "county Name": "Baldwin",
         "Date": "2018-01-11",
         "AQI": 19,
         "Category": "Good",
         "Defining Parameter": "PM2.5",
         "Number of Sites Reporting": 1,
         "_deepnote_index_column": 3
        },
        {
         "Unnamed: 0": 4,
         "State Name": "Alabama",
         "county Name": "Baldwin",
         "Date": "2018-01-14",
         "AQI": 25,
         "Category": "Good",
         "Defining Parameter": "PM2.5",
         "Number of Sites Reporting": 1,
         "_deepnote_index_column": 4
        },
        {
         "Unnamed: 0": 5,
         "State Name": "Alabama",
         "county Name": "Baldwin",
         "Date": "2018-01-17",
         "AQI": 23,
         "Category": "Good",
         "Defining Parameter": "PM2.5",
         "Number of Sites Reporting": 1,
         "_deepnote_index_column": 5
        },
        {
         "Unnamed: 0": 6,
         "State Name": "Alabama",
         "county Name": "Baldwin",
         "Date": "2018-01-20",
         "AQI": 46,
         "Category": "Good",
         "Defining Parameter": "PM2.5",
         "Number of Sites Reporting": 1,
         "_deepnote_index_column": 6
        },
        {
         "Unnamed: 0": 7,
         "State Name": "Alabama",
         "county Name": "Baldwin",
         "Date": "2018-01-23",
         "AQI": 14,
         "Category": "Good",
         "Defining Parameter": "PM2.5",
         "Number of Sites Reporting": 1,
         "_deepnote_index_column": 7
        },
        {
         "Unnamed: 0": 8,
         "State Name": "Alabama",
         "county Name": "Baldwin",
         "Date": "2018-01-26",
         "AQI": 42,
         "Category": "Good",
         "Defining Parameter": "PM2.5",
         "Number of Sites Reporting": 1,
         "_deepnote_index_column": 8
        },
        {
         "Unnamed: 0": 9,
         "State Name": "Alabama",
         "county Name": "Baldwin",
         "Date": "2018-01-29",
         "AQI": 15,
         "Category": "Good",
         "Defining Parameter": "PM2.5",
         "Number of Sites Reporting": 1,
         "_deepnote_index_column": 9
        },
        {
         "Unnamed: 0": 10,
         "State Name": "Alabama",
         "county Name": "Baldwin",
         "Date": "2018-02-01",
         "AQI": 21,
         "Category": "Good",
         "Defining Parameter": "PM2.5",
         "Number of Sites Reporting": 1,
         "_deepnote_index_column": 10
        },
        {
         "Unnamed: 0": 11,
         "State Name": "Alabama",
         "county Name": "Baldwin",
         "Date": "2018-02-04",
         "AQI": 27,
         "Category": "Good",
         "Defining Parameter": "PM2.5",
         "Number of Sites Reporting": 1,
         "_deepnote_index_column": 11
        },
        {
         "Unnamed: 0": 12,
         "State Name": "Alabama",
         "county Name": "Baldwin",
         "Date": "2018-02-07",
         "AQI": 23,
         "Category": "Good",
         "Defining Parameter": "PM2.5",
         "Number of Sites Reporting": 1,
         "_deepnote_index_column": 12
        },
        {
         "Unnamed: 0": 13,
         "State Name": "Alabama",
         "county Name": "Baldwin",
         "Date": "2018-02-10",
         "AQI": 21,
         "Category": "Good",
         "Defining Parameter": "PM2.5",
         "Number of Sites Reporting": 1,
         "_deepnote_index_column": 13
        },
        {
         "Unnamed: 0": 14,
         "State Name": "Alabama",
         "county Name": "Baldwin",
         "Date": "2018-02-13",
         "AQI": 20,
         "Category": "Good",
         "Defining Parameter": "PM2.5",
         "Number of Sites Reporting": 1,
         "_deepnote_index_column": 14
        },
        {
         "Unnamed: 0": 15,
         "State Name": "Alabama",
         "county Name": "Baldwin",
         "Date": "2018-02-16",
         "AQI": 24,
         "Category": "Good",
         "Defining Parameter": "PM2.5",
         "Number of Sites Reporting": 1,
         "_deepnote_index_column": 15
        },
        {
         "Unnamed: 0": 16,
         "State Name": "Alabama",
         "county Name": "Baldwin",
         "Date": "2018-02-19",
         "AQI": 21,
         "Category": "Good",
         "Defining Parameter": "PM2.5",
         "Number of Sites Reporting": 1,
         "_deepnote_index_column": 16
        },
        {
         "Unnamed: 0": 17,
         "State Name": "Alabama",
         "county Name": "Baldwin",
         "Date": "2018-02-22",
         "AQI": 31,
         "Category": "Good",
         "Defining Parameter": "PM2.5",
         "Number of Sites Reporting": 1,
         "_deepnote_index_column": 17
        },
        {
         "Unnamed: 0": 18,
         "State Name": "Alabama",
         "county Name": "Baldwin",
         "Date": "2018-02-25",
         "AQI": 15,
         "Category": "Good",
         "Defining Parameter": "PM2.5",
         "Number of Sites Reporting": 1,
         "_deepnote_index_column": 18
        },
        {
         "Unnamed: 0": 19,
         "State Name": "Alabama",
         "county Name": "Baldwin",
         "Date": "2018-02-28",
         "AQI": 27,
         "Category": "Good",
         "Defining Parameter": "PM2.5",
         "Number of Sites Reporting": 1,
         "_deepnote_index_column": 19
        },
        {
         "Unnamed: 0": 20,
         "State Name": "Alabama",
         "county Name": "Baldwin",
         "Date": "2018-03-01",
         "AQI": 30,
         "Category": "Good",
         "Defining Parameter": "Ozone",
         "Number of Sites Reporting": 1,
         "_deepnote_index_column": 20
        },
        {
         "Unnamed: 0": 21,
         "State Name": "Alabama",
         "county Name": "Baldwin",
         "Date": "2018-03-02",
         "AQI": 41,
         "Category": "Good",
         "Defining Parameter": "Ozone",
         "Number of Sites Reporting": 1,
         "_deepnote_index_column": 21
        },
        {
         "Unnamed: 0": 22,
         "State Name": "Alabama",
         "county Name": "Baldwin",
         "Date": "2018-03-03",
         "AQI": 47,
         "Category": "Good",
         "Defining Parameter": "Ozone",
         "Number of Sites Reporting": 1,
         "_deepnote_index_column": 22
        },
        {
         "Unnamed: 0": 23,
         "State Name": "Alabama",
         "county Name": "Baldwin",
         "Date": "2018-03-04",
         "AQI": 45,
         "Category": "Good",
         "Defining Parameter": "Ozone",
         "Number of Sites Reporting": 1,
         "_deepnote_index_column": 23
        },
        {
         "Unnamed: 0": 24,
         "State Name": "Alabama",
         "county Name": "Baldwin",
         "Date": "2018-03-05",
         "AQI": 49,
         "Category": "Good",
         "Defining Parameter": "Ozone",
         "Number of Sites Reporting": 1,
         "_deepnote_index_column": 24
        },
        {
         "Unnamed: 0": 25,
         "State Name": "Alabama",
         "county Name": "Baldwin",
         "Date": "2018-03-06",
         "AQI": 43,
         "Category": "Good",
         "Defining Parameter": "Ozone",
         "Number of Sites Reporting": 1,
         "_deepnote_index_column": 25
        },
        {
         "Unnamed: 0": 26,
         "State Name": "Alabama",
         "county Name": "Baldwin",
         "Date": "2018-03-08",
         "AQI": 44,
         "Category": "Good",
         "Defining Parameter": "Ozone",
         "Number of Sites Reporting": 1,
         "_deepnote_index_column": 26
        },
        {
         "Unnamed: 0": 27,
         "State Name": "Alabama",
         "county Name": "Baldwin",
         "Date": "2018-03-09",
         "AQI": 47,
         "Category": "Good",
         "Defining Parameter": "Ozone",
         "Number of Sites Reporting": 1,
         "_deepnote_index_column": 27
        },
        {
         "Unnamed: 0": 28,
         "State Name": "Alabama",
         "county Name": "Baldwin",
         "Date": "2018-03-10",
         "AQI": 44,
         "Category": "Good",
         "Defining Parameter": "Ozone",
         "Number of Sites Reporting": 1,
         "_deepnote_index_column": 28
        },
        {
         "Unnamed: 0": 29,
         "State Name": "Alabama",
         "county Name": "Baldwin",
         "Date": "2018-03-11",
         "AQI": 37,
         "Category": "Good",
         "Defining Parameter": "Ozone",
         "Number of Sites Reporting": 1,
         "_deepnote_index_column": 29
        },
        {
         "Unnamed: 0": 30,
         "State Name": "Alabama",
         "county Name": "Baldwin",
         "Date": "2018-03-12",
         "AQI": 42,
         "Category": "Good",
         "Defining Parameter": "Ozone",
         "Number of Sites Reporting": 1,
         "_deepnote_index_column": 30
        },
        {
         "Unnamed: 0": 31,
         "State Name": "Alabama",
         "county Name": "Baldwin",
         "Date": "2018-03-13",
         "AQI": 44,
         "Category": "Good",
         "Defining Parameter": "Ozone",
         "Number of Sites Reporting": 1,
         "_deepnote_index_column": 31
        },
        {
         "Unnamed: 0": 32,
         "State Name": "Alabama",
         "county Name": "Baldwin",
         "Date": "2018-03-14",
         "AQI": 50,
         "Category": "Good",
         "Defining Parameter": "Ozone",
         "Number of Sites Reporting": 1,
         "_deepnote_index_column": 32
        },
        {
         "Unnamed: 0": 33,
         "State Name": "Alabama",
         "county Name": "Baldwin",
         "Date": "2018-03-15",
         "AQI": 67,
         "Category": "Moderate",
         "Defining Parameter": "Ozone",
         "Number of Sites Reporting": 1,
         "_deepnote_index_column": 33
        },
        {
         "Unnamed: 0": 34,
         "State Name": "Alabama",
         "county Name": "Baldwin",
         "Date": "2018-03-16",
         "AQI": 40,
         "Category": "Good",
         "Defining Parameter": "Ozone",
         "Number of Sites Reporting": 1,
         "_deepnote_index_column": 34
        },
        {
         "Unnamed: 0": 35,
         "State Name": "Alabama",
         "county Name": "Baldwin",
         "Date": "2018-03-17",
         "AQI": 44,
         "Category": "Good",
         "Defining Parameter": "Ozone",
         "Number of Sites Reporting": 1,
         "_deepnote_index_column": 35
        },
        {
         "Unnamed: 0": 36,
         "State Name": "Alabama",
         "county Name": "Baldwin",
         "Date": "2018-03-18",
         "AQI": 35,
         "Category": "Good",
         "Defining Parameter": "PM2.5",
         "Number of Sites Reporting": 1,
         "_deepnote_index_column": 36
        },
        {
         "Unnamed: 0": 37,
         "State Name": "Alabama",
         "county Name": "Baldwin",
         "Date": "2018-03-19",
         "AQI": 28,
         "Category": "Good",
         "Defining Parameter": "Ozone",
         "Number of Sites Reporting": 1,
         "_deepnote_index_column": 37
        },
        {
         "Unnamed: 0": 38,
         "State Name": "Alabama",
         "county Name": "Baldwin",
         "Date": "2018-03-20",
         "AQI": 37,
         "Category": "Good",
         "Defining Parameter": "Ozone",
         "Number of Sites Reporting": 1,
         "_deepnote_index_column": 38
        },
        {
         "Unnamed: 0": 39,
         "State Name": "Alabama",
         "county Name": "Baldwin",
         "Date": "2018-03-21",
         "AQI": 43,
         "Category": "Good",
         "Defining Parameter": "Ozone",
         "Number of Sites Reporting": 1,
         "_deepnote_index_column": 39
        },
        {
         "Unnamed: 0": 40,
         "State Name": "Alabama",
         "county Name": "Baldwin",
         "Date": "2018-03-22",
         "AQI": 44,
         "Category": "Good",
         "Defining Parameter": "Ozone",
         "Number of Sites Reporting": 1,
         "_deepnote_index_column": 40
        },
        {
         "Unnamed: 0": 41,
         "State Name": "Alabama",
         "county Name": "Baldwin",
         "Date": "2018-03-23",
         "AQI": 49,
         "Category": "Good",
         "Defining Parameter": "Ozone",
         "Number of Sites Reporting": 1,
         "_deepnote_index_column": 41
        },
        {
         "Unnamed: 0": 42,
         "State Name": "Alabama",
         "county Name": "Baldwin",
         "Date": "2018-03-24",
         "AQI": 54,
         "Category": "Moderate",
         "Defining Parameter": "Ozone",
         "Number of Sites Reporting": 1,
         "_deepnote_index_column": 42
        },
        {
         "Unnamed: 0": 43,
         "State Name": "Alabama",
         "county Name": "Baldwin",
         "Date": "2018-03-25",
         "AQI": 43,
         "Category": "Good",
         "Defining Parameter": "Ozone",
         "Number of Sites Reporting": 1,
         "_deepnote_index_column": 43
        },
        {
         "Unnamed: 0": 44,
         "State Name": "Alabama",
         "county Name": "Baldwin",
         "Date": "2018-03-26",
         "AQI": 31,
         "Category": "Good",
         "Defining Parameter": "Ozone",
         "Number of Sites Reporting": 1,
         "_deepnote_index_column": 44
        },
        {
         "Unnamed: 0": 45,
         "State Name": "Alabama",
         "county Name": "Baldwin",
         "Date": "2018-03-27",
         "AQI": 37,
         "Category": "Good",
         "Defining Parameter": "Ozone",
         "Number of Sites Reporting": 1,
         "_deepnote_index_column": 45
        },
        {
         "Unnamed: 0": 46,
         "State Name": "Alabama",
         "county Name": "Baldwin",
         "Date": "2018-03-28",
         "AQI": 42,
         "Category": "Good",
         "Defining Parameter": "Ozone",
         "Number of Sites Reporting": 1,
         "_deepnote_index_column": 46
        },
        {
         "Unnamed: 0": 47,
         "State Name": "Alabama",
         "county Name": "Baldwin",
         "Date": "2018-03-29",
         "AQI": 38,
         "Category": "Good",
         "Defining Parameter": "Ozone",
         "Number of Sites Reporting": 1,
         "_deepnote_index_column": 47
        },
        {
         "Unnamed: 0": 48,
         "State Name": "Alabama",
         "county Name": "Baldwin",
         "Date": "2018-03-30",
         "AQI": 34,
         "Category": "Good",
         "Defining Parameter": "Ozone",
         "Number of Sites Reporting": 1,
         "_deepnote_index_column": 48
        },
        {
         "Unnamed: 0": 49,
         "State Name": "Alabama",
         "county Name": "Baldwin",
         "Date": "2018-03-31",
         "AQI": 45,
         "Category": "Good",
         "Defining Parameter": "Ozone",
         "Number of Sites Reporting": 1,
         "_deepnote_index_column": 49
        },
        {
         "Unnamed: 0": 50,
         "State Name": "Alabama",
         "county Name": "Baldwin",
         "Date": "2018-04-01",
         "AQI": 45,
         "Category": "Good",
         "Defining Parameter": "Ozone",
         "Number of Sites Reporting": 1,
         "_deepnote_index_column": 50
        },
        {
         "Unnamed: 0": 51,
         "State Name": "Alabama",
         "county Name": "Baldwin",
         "Date": "2018-04-02",
         "AQI": 32,
         "Category": "Good",
         "Defining Parameter": "Ozone",
         "Number of Sites Reporting": 1,
         "_deepnote_index_column": 51
        },
        {
         "Unnamed: 0": 52,
         "State Name": "Alabama",
         "county Name": "Baldwin",
         "Date": "2018-04-03",
         "AQI": 28,
         "Category": "Good",
         "Defining Parameter": "Ozone",
         "Number of Sites Reporting": 1,
         "_deepnote_index_column": 52
        },
        {
         "Unnamed: 0": 53,
         "State Name": "Alabama",
         "county Name": "Baldwin",
         "Date": "2018-04-04",
         "AQI": 36,
         "Category": "Good",
         "Defining Parameter": "Ozone",
         "Number of Sites Reporting": 1,
         "_deepnote_index_column": 53
        },
        {
         "Unnamed: 0": 54,
         "State Name": "Alabama",
         "county Name": "Baldwin",
         "Date": "2018-04-05",
         "AQI": 46,
         "Category": "Good",
         "Defining Parameter": "Ozone",
         "Number of Sites Reporting": 1,
         "_deepnote_index_column": 54
        },
        {
         "Unnamed: 0": 55,
         "State Name": "Alabama",
         "county Name": "Baldwin",
         "Date": "2018-04-06",
         "AQI": 49,
         "Category": "Good",
         "Defining Parameter": "Ozone",
         "Number of Sites Reporting": 1,
         "_deepnote_index_column": 55
        },
        {
         "Unnamed: 0": 56,
         "State Name": "Alabama",
         "county Name": "Baldwin",
         "Date": "2018-04-07",
         "AQI": 35,
         "Category": "Good",
         "Defining Parameter": "Ozone",
         "Number of Sites Reporting": 1,
         "_deepnote_index_column": 56
        },
        {
         "Unnamed: 0": 57,
         "State Name": "Alabama",
         "county Name": "Baldwin",
         "Date": "2018-04-08",
         "AQI": 28,
         "Category": "Good",
         "Defining Parameter": "PM2.5",
         "Number of Sites Reporting": 1,
         "_deepnote_index_column": 57
        },
        {
         "Unnamed: 0": 58,
         "State Name": "Alabama",
         "county Name": "Baldwin",
         "Date": "2018-04-09",
         "AQI": 30,
         "Category": "Good",
         "Defining Parameter": "Ozone",
         "Number of Sites Reporting": 1,
         "_deepnote_index_column": 58
        },
        {
         "Unnamed: 0": 59,
         "State Name": "Alabama",
         "county Name": "Baldwin",
         "Date": "2018-04-10",
         "AQI": 43,
         "Category": "Good",
         "Defining Parameter": "Ozone",
         "Number of Sites Reporting": 1,
         "_deepnote_index_column": 59
        },
        {
         "Unnamed: 0": 60,
         "State Name": "Alabama",
         "county Name": "Baldwin",
         "Date": "2018-04-11",
         "AQI": 48,
         "Category": "Good",
         "Defining Parameter": "Ozone",
         "Number of Sites Reporting": 1,
         "_deepnote_index_column": 60
        },
        {
         "Unnamed: 0": 61,
         "State Name": "Alabama",
         "county Name": "Baldwin",
         "Date": "2018-04-12",
         "AQI": 48,
         "Category": "Good",
         "Defining Parameter": "Ozone",
         "Number of Sites Reporting": 1,
         "_deepnote_index_column": 61
        }
       ],
       "rows_bottom": [
        {
         "Unnamed: 0": 217651,
         "State Name": "Wyoming",
         "county Name": "Weston",
         "Date": "2020-04-29",
         "AQI": 49,
         "Category": "Good",
         "Defining Parameter": "Ozone",
         "Number of Sites Reporting": 2,
         "_deepnote_index_column": 903004
        },
        {
         "Unnamed: 0": 217652,
         "State Name": "Wyoming",
         "county Name": "Weston",
         "Date": "2020-04-30",
         "AQI": 44,
         "Category": "Good",
         "Defining Parameter": "Ozone",
         "Number of Sites Reporting": 2,
         "_deepnote_index_column": 903005
        },
        {
         "Unnamed: 0": 217653,
         "State Name": "Wyoming",
         "county Name": "Weston",
         "Date": "2020-05-01",
         "AQI": 39,
         "Category": "Good",
         "Defining Parameter": "Ozone",
         "Number of Sites Reporting": 2,
         "_deepnote_index_column": 903006
        },
        {
         "Unnamed: 0": 217654,
         "State Name": "Wyoming",
         "county Name": "Weston",
         "Date": "2020-05-02",
         "AQI": 44,
         "Category": "Good",
         "Defining Parameter": "Ozone",
         "Number of Sites Reporting": 2,
         "_deepnote_index_column": 903007
        },
        {
         "Unnamed: 0": 217655,
         "State Name": "Wyoming",
         "county Name": "Weston",
         "Date": "2020-05-03",
         "AQI": 43,
         "Category": "Good",
         "Defining Parameter": "Ozone",
         "Number of Sites Reporting": 2,
         "_deepnote_index_column": 903008
        },
        {
         "Unnamed: 0": 217656,
         "State Name": "Wyoming",
         "county Name": "Weston",
         "Date": "2020-05-04",
         "AQI": 42,
         "Category": "Good",
         "Defining Parameter": "Ozone",
         "Number of Sites Reporting": 2,
         "_deepnote_index_column": 903009
        },
        {
         "Unnamed: 0": 217657,
         "State Name": "Wyoming",
         "county Name": "Weston",
         "Date": "2020-05-05",
         "AQI": 45,
         "Category": "Good",
         "Defining Parameter": "Ozone",
         "Number of Sites Reporting": 2,
         "_deepnote_index_column": 903010
        },
        {
         "Unnamed: 0": 217658,
         "State Name": "Wyoming",
         "county Name": "Weston",
         "Date": "2020-05-06",
         "AQI": 44,
         "Category": "Good",
         "Defining Parameter": "Ozone",
         "Number of Sites Reporting": 2,
         "_deepnote_index_column": 903011
        },
        {
         "Unnamed: 0": 217659,
         "State Name": "Wyoming",
         "county Name": "Weston",
         "Date": "2020-05-07",
         "AQI": 45,
         "Category": "Good",
         "Defining Parameter": "Ozone",
         "Number of Sites Reporting": 2,
         "_deepnote_index_column": 903012
        },
        {
         "Unnamed: 0": 217660,
         "State Name": "Wyoming",
         "county Name": "Weston",
         "Date": "2020-05-08",
         "AQI": 47,
         "Category": "Good",
         "Defining Parameter": "Ozone",
         "Number of Sites Reporting": 2,
         "_deepnote_index_column": 903013
        },
        {
         "Unnamed: 0": 217661,
         "State Name": "Wyoming",
         "county Name": "Weston",
         "Date": "2020-05-09",
         "AQI": 41,
         "Category": "Good",
         "Defining Parameter": "Ozone",
         "Number of Sites Reporting": 2,
         "_deepnote_index_column": 903014
        },
        {
         "Unnamed: 0": 217662,
         "State Name": "Wyoming",
         "county Name": "Weston",
         "Date": "2020-05-10",
         "AQI": 39,
         "Category": "Good",
         "Defining Parameter": "Ozone",
         "Number of Sites Reporting": 2,
         "_deepnote_index_column": 903015
        },
        {
         "Unnamed: 0": 217663,
         "State Name": "Wyoming",
         "county Name": "Weston",
         "Date": "2020-05-11",
         "AQI": 34,
         "Category": "Good",
         "Defining Parameter": "Ozone",
         "Number of Sites Reporting": 2,
         "_deepnote_index_column": 903016
        },
        {
         "Unnamed: 0": 217664,
         "State Name": "Wyoming",
         "county Name": "Weston",
         "Date": "2020-05-12",
         "AQI": 25,
         "Category": "Good",
         "Defining Parameter": "Ozone",
         "Number of Sites Reporting": 2,
         "_deepnote_index_column": 903017
        },
        {
         "Unnamed: 0": 217665,
         "State Name": "Wyoming",
         "county Name": "Weston",
         "Date": "2020-05-13",
         "AQI": 42,
         "Category": "Good",
         "Defining Parameter": "Ozone",
         "Number of Sites Reporting": 2,
         "_deepnote_index_column": 903018
        },
        {
         "Unnamed: 0": 217666,
         "State Name": "Wyoming",
         "county Name": "Weston",
         "Date": "2020-05-14",
         "AQI": 41,
         "Category": "Good",
         "Defining Parameter": "Ozone",
         "Number of Sites Reporting": 2,
         "_deepnote_index_column": 903019
        },
        {
         "Unnamed: 0": 217667,
         "State Name": "Wyoming",
         "county Name": "Weston",
         "Date": "2020-05-15",
         "AQI": 41,
         "Category": "Good",
         "Defining Parameter": "Ozone",
         "Number of Sites Reporting": 2,
         "_deepnote_index_column": 903020
        },
        {
         "Unnamed: 0": 217668,
         "State Name": "Wyoming",
         "county Name": "Weston",
         "Date": "2020-05-16",
         "AQI": 0,
         "Category": "Good",
         "Defining Parameter": "SO2",
         "Number of Sites Reporting": 1,
         "_deepnote_index_column": 903021
        },
        {
         "Unnamed: 0": 217669,
         "State Name": "Wyoming",
         "county Name": "Weston",
         "Date": "2020-05-17",
         "AQI": 0,
         "Category": "Good",
         "Defining Parameter": "SO2",
         "Number of Sites Reporting": 1,
         "_deepnote_index_column": 903022
        },
        {
         "Unnamed: 0": 217670,
         "State Name": "Wyoming",
         "county Name": "Weston",
         "Date": "2020-05-18",
         "AQI": 0,
         "Category": "Good",
         "Defining Parameter": "SO2",
         "Number of Sites Reporting": 1,
         "_deepnote_index_column": 903023
        },
        {
         "Unnamed: 0": 217671,
         "State Name": "Wyoming",
         "county Name": "Weston",
         "Date": "2020-05-19",
         "AQI": 58,
         "Category": "Moderate",
         "Defining Parameter": "Ozone",
         "Number of Sites Reporting": 2,
         "_deepnote_index_column": 903024
        },
        {
         "Unnamed: 0": 217672,
         "State Name": "Wyoming",
         "county Name": "Weston",
         "Date": "2020-05-20",
         "AQI": 47,
         "Category": "Good",
         "Defining Parameter": "Ozone",
         "Number of Sites Reporting": 2,
         "_deepnote_index_column": 903025
        },
        {
         "Unnamed: 0": 217673,
         "State Name": "Wyoming",
         "county Name": "Weston",
         "Date": "2020-05-21",
         "AQI": 41,
         "Category": "Good",
         "Defining Parameter": "Ozone",
         "Number of Sites Reporting": 2,
         "_deepnote_index_column": 903026
        },
        {
         "Unnamed: 0": 217674,
         "State Name": "Wyoming",
         "county Name": "Weston",
         "Date": "2020-05-22",
         "AQI": 49,
         "Category": "Good",
         "Defining Parameter": "Ozone",
         "Number of Sites Reporting": 2,
         "_deepnote_index_column": 903027
        },
        {
         "Unnamed: 0": 217675,
         "State Name": "Wyoming",
         "county Name": "Weston",
         "Date": "2020-05-23",
         "AQI": 47,
         "Category": "Good",
         "Defining Parameter": "Ozone",
         "Number of Sites Reporting": 2,
         "_deepnote_index_column": 903028
        },
        {
         "Unnamed: 0": 217676,
         "State Name": "Wyoming",
         "county Name": "Weston",
         "Date": "2020-05-24",
         "AQI": 31,
         "Category": "Good",
         "Defining Parameter": "Ozone",
         "Number of Sites Reporting": 2,
         "_deepnote_index_column": 903029
        },
        {
         "Unnamed: 0": 217677,
         "State Name": "Wyoming",
         "county Name": "Weston",
         "Date": "2020-05-25",
         "AQI": 39,
         "Category": "Good",
         "Defining Parameter": "Ozone",
         "Number of Sites Reporting": 2,
         "_deepnote_index_column": 903030
        },
        {
         "Unnamed: 0": 217678,
         "State Name": "Wyoming",
         "county Name": "Weston",
         "Date": "2020-05-26",
         "AQI": 39,
         "Category": "Good",
         "Defining Parameter": "Ozone",
         "Number of Sites Reporting": 2,
         "_deepnote_index_column": 903031
        },
        {
         "Unnamed: 0": 217679,
         "State Name": "Wyoming",
         "county Name": "Weston",
         "Date": "2020-05-27",
         "AQI": 37,
         "Category": "Good",
         "Defining Parameter": "Ozone",
         "Number of Sites Reporting": 2,
         "_deepnote_index_column": 903032
        },
        {
         "Unnamed: 0": 217680,
         "State Name": "Wyoming",
         "county Name": "Weston",
         "Date": "2020-05-28",
         "AQI": 40,
         "Category": "Good",
         "Defining Parameter": "Ozone",
         "Number of Sites Reporting": 2,
         "_deepnote_index_column": 903033
        },
        {
         "Unnamed: 0": 217681,
         "State Name": "Wyoming",
         "county Name": "Weston",
         "Date": "2020-05-29",
         "AQI": 40,
         "Category": "Good",
         "Defining Parameter": "Ozone",
         "Number of Sites Reporting": 2,
         "_deepnote_index_column": 903034
        },
        {
         "Unnamed: 0": 217682,
         "State Name": "Wyoming",
         "county Name": "Weston",
         "Date": "2020-05-30",
         "AQI": 44,
         "Category": "Good",
         "Defining Parameter": "Ozone",
         "Number of Sites Reporting": 2,
         "_deepnote_index_column": 903035
        },
        {
         "Unnamed: 0": 217683,
         "State Name": "Wyoming",
         "county Name": "Weston",
         "Date": "2020-05-31",
         "AQI": 43,
         "Category": "Good",
         "Defining Parameter": "Ozone",
         "Number of Sites Reporting": 2,
         "_deepnote_index_column": 903036
        },
        {
         "Unnamed: 0": 217684,
         "State Name": "Wyoming",
         "county Name": "Weston",
         "Date": "2020-06-01",
         "AQI": 44,
         "Category": "Good",
         "Defining Parameter": "Ozone",
         "Number of Sites Reporting": 2,
         "_deepnote_index_column": 903037
        },
        {
         "Unnamed: 0": 217685,
         "State Name": "Wyoming",
         "county Name": "Weston",
         "Date": "2020-06-02",
         "AQI": 43,
         "Category": "Good",
         "Defining Parameter": "Ozone",
         "Number of Sites Reporting": 2,
         "_deepnote_index_column": 903038
        },
        {
         "Unnamed: 0": 217686,
         "State Name": "Wyoming",
         "county Name": "Weston",
         "Date": "2020-06-03",
         "AQI": 44,
         "Category": "Good",
         "Defining Parameter": "Ozone",
         "Number of Sites Reporting": 2,
         "_deepnote_index_column": 903039
        },
        {
         "Unnamed: 0": 217687,
         "State Name": "Wyoming",
         "county Name": "Weston",
         "Date": "2020-06-04",
         "AQI": 44,
         "Category": "Good",
         "Defining Parameter": "Ozone",
         "Number of Sites Reporting": 1,
         "_deepnote_index_column": 903040
        },
        {
         "Unnamed: 0": 217688,
         "State Name": "Wyoming",
         "county Name": "Weston",
         "Date": "2020-06-05",
         "AQI": 58,
         "Category": "Moderate",
         "Defining Parameter": "Ozone",
         "Number of Sites Reporting": 1,
         "_deepnote_index_column": 903041
        },
        {
         "Unnamed: 0": 217689,
         "State Name": "Wyoming",
         "county Name": "Weston",
         "Date": "2020-06-06",
         "AQI": 51,
         "Category": "Moderate",
         "Defining Parameter": "Ozone",
         "Number of Sites Reporting": 1,
         "_deepnote_index_column": 903042
        },
        {
         "Unnamed: 0": 217690,
         "State Name": "Wyoming",
         "county Name": "Weston",
         "Date": "2020-06-07",
         "AQI": 45,
         "Category": "Good",
         "Defining Parameter": "Ozone",
         "Number of Sites Reporting": 2,
         "_deepnote_index_column": 903043
        },
        {
         "Unnamed: 0": 217691,
         "State Name": "Wyoming",
         "county Name": "Weston",
         "Date": "2020-06-08",
         "AQI": 48,
         "Category": "Good",
         "Defining Parameter": "Ozone",
         "Number of Sites Reporting": 2,
         "_deepnote_index_column": 903044
        },
        {
         "Unnamed: 0": 217692,
         "State Name": "Wyoming",
         "county Name": "Weston",
         "Date": "2020-06-09",
         "AQI": 39,
         "Category": "Good",
         "Defining Parameter": "Ozone",
         "Number of Sites Reporting": 2,
         "_deepnote_index_column": 903045
        },
        {
         "Unnamed: 0": 217693,
         "State Name": "Wyoming",
         "county Name": "Weston",
         "Date": "2020-06-10",
         "AQI": 30,
         "Category": "Good",
         "Defining Parameter": "Ozone",
         "Number of Sites Reporting": 2,
         "_deepnote_index_column": 903046
        },
        {
         "Unnamed: 0": 217694,
         "State Name": "Wyoming",
         "county Name": "Weston",
         "Date": "2020-06-11",
         "AQI": 49,
         "Category": "Good",
         "Defining Parameter": "Ozone",
         "Number of Sites Reporting": 2,
         "_deepnote_index_column": 903047
        },
        {
         "Unnamed: 0": 217695,
         "State Name": "Wyoming",
         "county Name": "Weston",
         "Date": "2020-06-12",
         "AQI": 77,
         "Category": "Moderate",
         "Defining Parameter": "Ozone",
         "Number of Sites Reporting": 2,
         "_deepnote_index_column": 903048
        },
        {
         "Unnamed: 0": 217696,
         "State Name": "Wyoming",
         "county Name": "Weston",
         "Date": "2020-06-13",
         "AQI": 71,
         "Category": "Moderate",
         "Defining Parameter": "Ozone",
         "Number of Sites Reporting": 2,
         "_deepnote_index_column": 903049
        },
        {
         "Unnamed: 0": 217697,
         "State Name": "Wyoming",
         "county Name": "Weston",
         "Date": "2020-06-14",
         "AQI": 58,
         "Category": "Moderate",
         "Defining Parameter": "Ozone",
         "Number of Sites Reporting": 2,
         "_deepnote_index_column": 903050
        },
        {
         "Unnamed: 0": 217698,
         "State Name": "Wyoming",
         "county Name": "Weston",
         "Date": "2020-06-15",
         "AQI": 54,
         "Category": "Moderate",
         "Defining Parameter": "Ozone",
         "Number of Sites Reporting": 2,
         "_deepnote_index_column": 903051
        },
        {
         "Unnamed: 0": 217699,
         "State Name": "Wyoming",
         "county Name": "Weston",
         "Date": "2020-06-16",
         "AQI": 50,
         "Category": "Good",
         "Defining Parameter": "Ozone",
         "Number of Sites Reporting": 2,
         "_deepnote_index_column": 903052
        },
        {
         "Unnamed: 0": 217700,
         "State Name": "Wyoming",
         "county Name": "Weston",
         "Date": "2020-06-17",
         "AQI": 44,
         "Category": "Good",
         "Defining Parameter": "Ozone",
         "Number of Sites Reporting": 2,
         "_deepnote_index_column": 903053
        },
        {
         "Unnamed: 0": 217701,
         "State Name": "Wyoming",
         "county Name": "Weston",
         "Date": "2020-06-18",
         "AQI": 32,
         "Category": "Good",
         "Defining Parameter": "Ozone",
         "Number of Sites Reporting": 2,
         "_deepnote_index_column": 903054
        },
        {
         "Unnamed: 0": 217702,
         "State Name": "Wyoming",
         "county Name": "Weston",
         "Date": "2020-06-19",
         "AQI": 41,
         "Category": "Good",
         "Defining Parameter": "Ozone",
         "Number of Sites Reporting": 2,
         "_deepnote_index_column": 903055
        },
        {
         "Unnamed: 0": 217703,
         "State Name": "Wyoming",
         "county Name": "Weston",
         "Date": "2020-06-20",
         "AQI": 40,
         "Category": "Good",
         "Defining Parameter": "Ozone",
         "Number of Sites Reporting": 2,
         "_deepnote_index_column": 903056
        },
        {
         "Unnamed: 0": 217704,
         "State Name": "Wyoming",
         "county Name": "Weston",
         "Date": "2020-06-21",
         "AQI": 33,
         "Category": "Good",
         "Defining Parameter": "Ozone",
         "Number of Sites Reporting": 2,
         "_deepnote_index_column": 903057
        },
        {
         "Unnamed: 0": 217705,
         "State Name": "Wyoming",
         "county Name": "Weston",
         "Date": "2020-06-22",
         "AQI": 43,
         "Category": "Good",
         "Defining Parameter": "Ozone",
         "Number of Sites Reporting": 2,
         "_deepnote_index_column": 903058
        },
        {
         "Unnamed: 0": 217706,
         "State Name": "Wyoming",
         "county Name": "Weston",
         "Date": "2020-06-23",
         "AQI": 43,
         "Category": "Good",
         "Defining Parameter": "Ozone",
         "Number of Sites Reporting": 2,
         "_deepnote_index_column": 903059
        },
        {
         "Unnamed: 0": 217707,
         "State Name": "Wyoming",
         "county Name": "Weston",
         "Date": "2020-06-24",
         "AQI": 40,
         "Category": "Good",
         "Defining Parameter": "Ozone",
         "Number of Sites Reporting": 2,
         "_deepnote_index_column": 903060
        },
        {
         "Unnamed: 0": 217708,
         "State Name": "Wyoming",
         "county Name": "Weston",
         "Date": "2020-06-25",
         "AQI": 38,
         "Category": "Good",
         "Defining Parameter": "Ozone",
         "Number of Sites Reporting": 2,
         "_deepnote_index_column": 903061
        },
        {
         "Unnamed: 0": 217709,
         "State Name": "Wyoming",
         "county Name": "Weston",
         "Date": "2020-06-26",
         "AQI": 43,
         "Category": "Good",
         "Defining Parameter": "Ozone",
         "Number of Sites Reporting": 2,
         "_deepnote_index_column": 903062
        },
        {
         "Unnamed: 0": 217710,
         "State Name": "Wyoming",
         "county Name": "Weston",
         "Date": "2020-06-27",
         "AQI": 61,
         "Category": "Moderate",
         "Defining Parameter": "Ozone",
         "Number of Sites Reporting": 2,
         "_deepnote_index_column": 903063
        },
        {
         "Unnamed: 0": 217711,
         "State Name": "Wyoming",
         "county Name": "Weston",
         "Date": "2020-06-28",
         "AQI": 49,
         "Category": "Good",
         "Defining Parameter": "Ozone",
         "Number of Sites Reporting": 2,
         "_deepnote_index_column": 903064
        },
        {
         "Unnamed: 0": 217712,
         "State Name": "Wyoming",
         "county Name": "Weston",
         "Date": "2020-06-29",
         "AQI": 54,
         "Category": "Moderate",
         "Defining Parameter": "Ozone",
         "Number of Sites Reporting": 2,
         "_deepnote_index_column": 903065
        },
        {
         "Unnamed: 0": 217713,
         "State Name": "Wyoming",
         "county Name": "Weston",
         "Date": "2020-06-30",
         "AQI": 44,
         "Category": "Good",
         "Defining Parameter": "Ozone",
         "Number of Sites Reporting": 2,
         "_deepnote_index_column": 903066
        }
       ]
      },
      "text/plain": "        Unnamed: 0 State Name county Name        Date  AQI  Category  \\\n0                0    Alabama     Baldwin  2018-01-02   32      Good   \n1                1    Alabama     Baldwin  2018-01-05   34      Good   \n2                2    Alabama     Baldwin  2018-01-08   15      Good   \n3                3    Alabama     Baldwin  2018-01-11   19      Good   \n4                4    Alabama     Baldwin  2018-01-14   25      Good   \n...            ...        ...         ...         ...  ...       ...   \n903062      217709    Wyoming      Weston  2020-06-26   43      Good   \n903063      217710    Wyoming      Weston  2020-06-27   61  Moderate   \n903064      217711    Wyoming      Weston  2020-06-28   49      Good   \n903065      217712    Wyoming      Weston  2020-06-29   54  Moderate   \n903066      217713    Wyoming      Weston  2020-06-30   44      Good   \n\n       Defining Parameter  Number of Sites Reporting  \n0                   PM2.5                          1  \n1                   PM2.5                          1  \n2                   PM2.5                          1  \n3                   PM2.5                          1  \n4                   PM2.5                          1  \n...                   ...                        ...  \n903062              Ozone                          2  \n903063              Ozone                          2  \n903064              Ozone                          2  \n903065              Ozone                          2  \n903066              Ozone                          2  \n\n[903067 rows x 8 columns]",
      "text/html": "<div>\n<style scoped>\n    .dataframe tbody tr th:only-of-type {\n        vertical-align: middle;\n    }\n\n    .dataframe tbody tr th {\n        vertical-align: top;\n    }\n\n    .dataframe thead th {\n        text-align: right;\n    }\n</style>\n<table border=\"1\" class=\"dataframe\">\n  <thead>\n    <tr style=\"text-align: right;\">\n      <th></th>\n      <th>Unnamed: 0</th>\n      <th>State Name</th>\n      <th>county Name</th>\n      <th>Date</th>\n      <th>AQI</th>\n      <th>Category</th>\n      <th>Defining Parameter</th>\n      <th>Number of Sites Reporting</th>\n    </tr>\n  </thead>\n  <tbody>\n    <tr>\n      <th>0</th>\n      <td>0</td>\n      <td>Alabama</td>\n      <td>Baldwin</td>\n      <td>2018-01-02</td>\n      <td>32</td>\n      <td>Good</td>\n      <td>PM2.5</td>\n      <td>1</td>\n    </tr>\n    <tr>\n      <th>1</th>\n      <td>1</td>\n      <td>Alabama</td>\n      <td>Baldwin</td>\n      <td>2018-01-05</td>\n      <td>34</td>\n      <td>Good</td>\n      <td>PM2.5</td>\n      <td>1</td>\n    </tr>\n    <tr>\n      <th>2</th>\n      <td>2</td>\n      <td>Alabama</td>\n      <td>Baldwin</td>\n      <td>2018-01-08</td>\n      <td>15</td>\n      <td>Good</td>\n      <td>PM2.5</td>\n      <td>1</td>\n    </tr>\n    <tr>\n      <th>3</th>\n      <td>3</td>\n      <td>Alabama</td>\n      <td>Baldwin</td>\n      <td>2018-01-11</td>\n      <td>19</td>\n      <td>Good</td>\n      <td>PM2.5</td>\n      <td>1</td>\n    </tr>\n    <tr>\n      <th>4</th>\n      <td>4</td>\n      <td>Alabama</td>\n      <td>Baldwin</td>\n      <td>2018-01-14</td>\n      <td>25</td>\n      <td>Good</td>\n      <td>PM2.5</td>\n      <td>1</td>\n    </tr>\n    <tr>\n      <th>...</th>\n      <td>...</td>\n      <td>...</td>\n      <td>...</td>\n      <td>...</td>\n      <td>...</td>\n      <td>...</td>\n      <td>...</td>\n      <td>...</td>\n    </tr>\n    <tr>\n      <th>903062</th>\n      <td>217709</td>\n      <td>Wyoming</td>\n      <td>Weston</td>\n      <td>2020-06-26</td>\n      <td>43</td>\n      <td>Good</td>\n      <td>Ozone</td>\n      <td>2</td>\n    </tr>\n    <tr>\n      <th>903063</th>\n      <td>217710</td>\n      <td>Wyoming</td>\n      <td>Weston</td>\n      <td>2020-06-27</td>\n      <td>61</td>\n      <td>Moderate</td>\n      <td>Ozone</td>\n      <td>2</td>\n    </tr>\n    <tr>\n      <th>903064</th>\n      <td>217711</td>\n      <td>Wyoming</td>\n      <td>Weston</td>\n      <td>2020-06-28</td>\n      <td>49</td>\n      <td>Good</td>\n      <td>Ozone</td>\n      <td>2</td>\n    </tr>\n    <tr>\n      <th>903065</th>\n      <td>217712</td>\n      <td>Wyoming</td>\n      <td>Weston</td>\n      <td>2020-06-29</td>\n      <td>54</td>\n      <td>Moderate</td>\n      <td>Ozone</td>\n      <td>2</td>\n    </tr>\n    <tr>\n      <th>903066</th>\n      <td>217713</td>\n      <td>Wyoming</td>\n      <td>Weston</td>\n      <td>2020-06-30</td>\n      <td>44</td>\n      <td>Good</td>\n      <td>Ozone</td>\n      <td>2</td>\n    </tr>\n  </tbody>\n</table>\n<p>903067 rows × 8 columns</p>\n</div>"
     },
     "metadata": {}
    }
   ]
  },
  {
   "cell_type": "markdown",
   "source": "The <mark>date</mark> in the dataframe is originally provided as a string object. In order to create an average \"air quality index\" (known as AQI) we first created a function to extract the month and year information. ",
   "metadata": {
    "tags": [],
    "cell_id": "00016-be88735f-ab4c-4311-b78b-b1bc00c243a4",
    "deepnote_cell_type": "markdown"
   }
  },
  {
   "cell_type": "code",
   "metadata": {
    "tags": [],
    "cell_id": "00015-3c440f5c-30cc-4cd8-97f8-55d2b78d1d4c",
    "deepnote_to_be_reexecuted": false,
    "source_hash": "8c94784a",
    "execution_start": 1621642104962,
    "execution_millis": 4372981,
    "deepnote_cell_type": "code"
   },
   "source": "def get_month(dateObjStr):\n    date_time_obj = datetime.strptime(dateObjStr, '%Y-%m-%d')\n    return date_time_obj.month\n\ndef get_year(dateObjStr):\n    date_time_obj = datetime.strptime(dateObjStr, '%Y-%m-%d')\n    return date_time_obj.year",
   "execution_count": 6,
   "outputs": []
  },
  {
   "cell_type": "markdown",
   "source": "The <mark>get_month</mark> and <mark>get_year</mark> function is applied to the data in <b>aqi_data</b>.",
   "metadata": {
    "tags": [],
    "cell_id": "00020-69814f4c-ba14-437d-a1f7-d172f2b930b4",
    "deepnote_cell_type": "markdown"
   }
  },
  {
   "cell_type": "code",
   "metadata": {
    "tags": [],
    "cell_id": "00021-311c603c-1ccf-4838-aca6-a9e4fe88e77c",
    "deepnote_to_be_reexecuted": false,
    "source_hash": "dbf73cba",
    "execution_start": 1621642105009,
    "execution_millis": 14384,
    "deepnote_cell_type": "code"
   },
   "source": "aqi_data['Month'] = aqi_data['Date'].apply(get_month)\naqi_data['Year'] = aqi_data['Date'].apply(get_year)",
   "execution_count": 7,
   "outputs": []
  },
  {
   "cell_type": "markdown",
   "source": "A new column was created in <b>aqi_data</b> so that we can eventually merge the <b>gdp_data</b> and the <b>aqi_data</b> by state and county name.",
   "metadata": {
    "tags": [],
    "cell_id": "00022-2f9b3d45-ad66-4d2c-878c-809ac65a79d0",
    "deepnote_cell_type": "markdown"
   }
  },
  {
   "cell_type": "code",
   "metadata": {
    "tags": [],
    "cell_id": "00023-80c4ffd8-9475-442b-91a2-aee3153e38d9",
    "deepnote_to_be_reexecuted": false,
    "source_hash": "8461c927",
    "execution_start": 1621642119535,
    "execution_millis": 33,
    "deepnote_cell_type": "code"
   },
   "source": "aqi_data['State + County'] = aqi_data['State Name'] +  \" \" + aqi_data['county Name']",
   "execution_count": 8,
   "outputs": []
  },
  {
   "cell_type": "markdown",
   "source": "Created a dictionary to help us populate the dataframe.",
   "metadata": {
    "tags": [],
    "cell_id": "00024-057942d0-2469-442e-b890-17130d895a28",
    "deepnote_cell_type": "markdown"
   }
  },
  {
   "cell_type": "code",
   "metadata": {
    "tags": [],
    "cell_id": "00025-c22c4e5e-88be-4a47-9bbc-840e6b68f905",
    "deepnote_to_be_reexecuted": false,
    "source_hash": "7f92b87f",
    "execution_start": 1621642119573,
    "execution_millis": 110,
    "deepnote_cell_type": "code"
   },
   "source": "aqi_dict = aqi_data.groupby(['State + County','Year'])['AQI'].mean()",
   "execution_count": 9,
   "outputs": []
  },
  {
   "cell_type": "markdown",
   "source": "Created a function to lookup the counties AQI for a specific year and then apply it to populate the dataframe.",
   "metadata": {
    "tags": [],
    "cell_id": "00026-9770b5a0-0036-4e56-900e-9f2f531fb3a6",
    "deepnote_cell_type": "markdown"
   }
  },
  {
   "cell_type": "code",
   "metadata": {
    "tags": [],
    "cell_id": "00027-8998851e-74ca-489b-8218-f90696c66c36",
    "deepnote_to_be_reexecuted": false,
    "source_hash": "f505d73c",
    "execution_start": 1621642119699,
    "execution_millis": 3,
    "deepnote_cell_type": "code"
   },
   "source": "def get_county_aqi_year(state_county_str, year):\n    if (state_county_str,year) in aqi_dict:\n        return aqi_dict[state_county_str][year]\n    else:\n        return None",
   "execution_count": 10,
   "outputs": []
  },
  {
   "cell_type": "code",
   "metadata": {
    "tags": [],
    "cell_id": "00028-2c6190b3-6d84-4541-831b-ad0c4682f1e5",
    "deepnote_to_be_reexecuted": false,
    "source_hash": "232383",
    "execution_start": 1621642119705,
    "execution_millis": 647,
    "deepnote_cell_type": "code"
   },
   "source": "gdp_data['AQI 2018'] = gdp_data['State + County'].apply(get_county_aqi_year,year=2018)\ngdp_data['AQI 2019'] = gdp_data['State + County'].apply(get_county_aqi_year,year=2019)\ngdp_data['AQI 2020'] = gdp_data['State + County'].apply(get_county_aqi_year,year=2020)",
   "execution_count": 11,
   "outputs": []
  },
  {
   "cell_type": "markdown",
   "source": "Removed counties that we have no AQI data for at all.",
   "metadata": {
    "tags": [],
    "cell_id": "00029-220ba854-2700-4471-b3b9-8a892a9b3580",
    "deepnote_cell_type": "markdown"
   }
  },
  {
   "cell_type": "code",
   "metadata": {
    "tags": [],
    "cell_id": "00030-484187fc-4ded-4b0c-9154-348d48f04ed4",
    "deepnote_to_be_reexecuted": false,
    "source_hash": "a5af0013",
    "execution_start": 1621642120358,
    "execution_millis": 4,
    "deepnote_cell_type": "code"
   },
   "source": "gdp_data = gdp_data.dropna(thresh=5)",
   "execution_count": 12,
   "outputs": []
  },
  {
   "cell_type": "markdown",
   "source": "",
   "metadata": {
    "tags": [],
    "cell_id": "00007-e0328587-2235-4f5b-9ef4-f5b01aa22fd4",
    "deepnote_cell_type": "markdown"
   }
  },
  {
   "cell_type": "markdown",
   "source": "# Data Analysis & Results",
   "metadata": {
    "tags": [],
    "cell_id": "00015-93c1c89d-4ee4-42ad-8809-7ee69a42bd68",
    "deepnote_cell_type": "markdown"
   }
  },
  {
   "cell_type": "markdown",
   "source": "### Exploratory Data Analysis (EDA)",
   "metadata": {
    "tags": [],
    "cell_id": "00033-73449793-a6ab-4b53-ac4b-38b4c727ace6",
    "deepnote_cell_type": "markdown"
   }
  },
  {
   "cell_type": "markdown",
   "source": "We want to first take a look at our data.",
   "metadata": {
    "tags": [],
    "cell_id": "00033-e40f9b5d-3542-4456-926f-9bd35449f134",
    "deepnote_cell_type": "markdown"
   }
  },
  {
   "cell_type": "code",
   "metadata": {
    "tags": [],
    "cell_id": "00016-25899158-ab86-4f24-93a3-ce14aa1ea7ad",
    "deepnote_to_be_reexecuted": false,
    "source_hash": "2b744868",
    "execution_start": 1621642120391,
    "execution_millis": 6,
    "deepnote_cell_type": "code"
   },
   "source": "print(gdp_data.shape)\ngdp_data.head()",
   "execution_count": 13,
   "outputs": [
    {
     "name": "stdout",
     "text": "(1012, 7)\n",
     "output_type": "stream"
    },
    {
     "output_type": "execute_result",
     "execution_count": 13,
     "data": {
      "application/vnd.deepnote.dataframe.v2+json": {
       "row_count": 5,
       "column_count": 7,
       "columns": [
        {
         "name": "State",
         "dtype": "object",
         "stats": {
          "unique_count": 1,
          "nan_count": 0,
          "categories": [
           {
            "name": "Alabama",
            "count": 5
           }
          ]
         }
        },
        {
         "name": "County",
         "dtype": "object",
         "stats": {
          "unique_count": 5,
          "nan_count": 0,
          "categories": [
           {
            "name": "Baldwin",
            "count": 1
           },
           {
            "name": "Clay",
            "count": 1
           },
           {
            "name": "3 others",
            "count": 3
           }
          ]
         }
        },
        {
         "name": "GDP per Capita 2018",
         "dtype": "float64",
         "stats": {
          "unique_count": 5,
          "nan_count": 0,
          "min": "20.861301285524306",
          "max": "50.570474355445455",
          "histogram": [
           {
            "bin_start": 20.861301285524306,
            "bin_end": 23.83221859251642,
            "count": 1
           },
           {
            "bin_start": 23.83221859251642,
            "bin_end": 26.803135899508536,
            "count": 2
           },
           {
            "bin_start": 26.803135899508536,
            "bin_end": 29.77405320650065,
            "count": 1
           },
           {
            "bin_start": 29.77405320650065,
            "bin_end": 32.74497051349277,
            "count": 0
           },
           {
            "bin_start": 32.74497051349277,
            "bin_end": 35.71588782048488,
            "count": 0
           },
           {
            "bin_start": 35.71588782048488,
            "bin_end": 38.686805127476994,
            "count": 0
           },
           {
            "bin_start": 38.686805127476994,
            "bin_end": 41.65772243446911,
            "count": 0
           },
           {
            "bin_start": 41.65772243446911,
            "bin_end": 44.62863974146123,
            "count": 0
           },
           {
            "bin_start": 44.62863974146123,
            "bin_end": 47.599557048453335,
            "count": 0
           },
           {
            "bin_start": 47.599557048453335,
            "bin_end": 50.570474355445455,
            "count": 1
           }
          ]
         }
        },
        {
         "name": "State + County",
         "dtype": "object",
         "stats": {
          "unique_count": 5,
          "nan_count": 0,
          "categories": [
           {
            "name": "Alabama Baldwin",
            "count": 1
           },
           {
            "name": "Alabama Clay",
            "count": 1
           },
           {
            "name": "3 others",
            "count": 3
           }
          ]
         }
        },
        {
         "name": "AQI 2018",
         "dtype": "float64",
         "stats": {
          "unique_count": 5,
          "nan_count": 0,
          "min": "28.990909090909092",
          "max": "36.82962962962963",
          "histogram": [
           {
            "bin_start": 28.990909090909092,
            "bin_end": 29.774781144781144,
            "count": 1
           },
           {
            "bin_start": 29.774781144781144,
            "bin_end": 30.5586531986532,
            "count": 0
           },
           {
            "bin_start": 30.5586531986532,
            "bin_end": 31.342525252525252,
            "count": 0
           },
           {
            "bin_start": 31.342525252525252,
            "bin_end": 32.12639730639731,
            "count": 0
           },
           {
            "bin_start": 32.12639730639731,
            "bin_end": 32.91026936026936,
            "count": 0
           },
           {
            "bin_start": 32.91026936026936,
            "bin_end": 33.69414141414141,
            "count": 0
           },
           {
            "bin_start": 33.69414141414141,
            "bin_end": 34.478013468013465,
            "count": 0
           },
           {
            "bin_start": 34.478013468013465,
            "bin_end": 35.261885521885524,
            "count": 0
           },
           {
            "bin_start": 35.261885521885524,
            "bin_end": 36.04575757575758,
            "count": 2
           },
           {
            "bin_start": 36.04575757575758,
            "bin_end": 36.82962962962963,
            "count": 2
           }
          ]
         }
        },
        {
         "name": "AQI 2019",
         "dtype": "float64",
         "stats": {
          "unique_count": 5,
          "nan_count": 0,
          "min": "31.149532710280372",
          "max": "39.71191135734072",
          "histogram": [
           {
            "bin_start": 31.149532710280372,
            "bin_end": 32.00577057498641,
            "count": 1
           },
           {
            "bin_start": 32.00577057498641,
            "bin_end": 32.86200843969244,
            "count": 0
           },
           {
            "bin_start": 32.86200843969244,
            "bin_end": 33.71824630439848,
            "count": 0
           },
           {
            "bin_start": 33.71824630439848,
            "bin_end": 34.57448416910451,
            "count": 0
           },
           {
            "bin_start": 34.57448416910451,
            "bin_end": 35.43072203381055,
            "count": 0
           },
           {
            "bin_start": 35.43072203381055,
            "bin_end": 36.28695989851658,
            "count": 1
           },
           {
            "bin_start": 36.28695989851658,
            "bin_end": 37.14319776322262,
            "count": 0
           },
           {
            "bin_start": 37.14319776322262,
            "bin_end": 37.99943562792865,
            "count": 0
           },
           {
            "bin_start": 37.99943562792865,
            "bin_end": 38.855673492634686,
            "count": 2
           },
           {
            "bin_start": 38.855673492634686,
            "bin_end": 39.71191135734072,
            "count": 1
           }
          ]
         }
        },
        {
         "name": "AQI 2020",
         "dtype": "float64",
         "stats": {
          "unique_count": 4,
          "nan_count": 1,
          "min": "27.379310344827587",
          "max": "36.925619834710744",
          "histogram": [
           {
            "bin_start": 27.379310344827587,
            "bin_end": 28.333941293815904,
            "count": 1
           },
           {
            "bin_start": 28.333941293815904,
            "bin_end": 29.288572242804218,
            "count": 0
           },
           {
            "bin_start": 29.288572242804218,
            "bin_end": 30.243203191792535,
            "count": 0
           },
           {
            "bin_start": 30.243203191792535,
            "bin_end": 31.19783414078085,
            "count": 0
           },
           {
            "bin_start": 31.19783414078085,
            "bin_end": 32.152465089769166,
            "count": 1
           },
           {
            "bin_start": 32.152465089769166,
            "bin_end": 33.10709603875748,
            "count": 0
           },
           {
            "bin_start": 33.10709603875748,
            "bin_end": 34.0617269877458,
            "count": 0
           },
           {
            "bin_start": 34.0617269877458,
            "bin_end": 35.01635793673411,
            "count": 0
           },
           {
            "bin_start": 35.01635793673411,
            "bin_end": 35.97098888572243,
            "count": 1
           },
           {
            "bin_start": 35.97098888572243,
            "bin_end": 36.925619834710744,
            "count": 1
           }
          ]
         }
        },
        {
         "name": "_deepnote_index_column",
         "dtype": "int64"
        }
       ],
       "rows_top": [
        {
         "State": "Alabama",
         "County": "Baldwin",
         "GDP per Capita 2018": 27.746731248828727,
         "State + County": "Alabama Baldwin",
         "AQI 2018": 36.82962962962963,
         "AQI 2019": 38.291512915129154,
         "AQI 2020": "35.392857142857146",
         "_deepnote_index_column": 1
        },
        {
         "State": "Alabama",
         "County": "Clay",
         "GDP per Capita 2018": 25.358499028255345,
         "State + County": "Alabama Clay",
         "AQI 2018": 28.990909090909092,
         "AQI 2019": 31.149532710280372,
         "AQI 2020": "27.379310344827587",
         "_deepnote_index_column": 13
        },
        {
         "State": "Alabama",
         "County": "Colbert",
         "GDP per Capita 2018": 50.570474355445455,
         "State + County": "Alabama Colbert",
         "AQI 2018": 35.63537906137184,
         "AQI 2019": 35.52091254752852,
         "AQI 2020": "nan",
         "_deepnote_index_column": 16
        },
        {
         "State": "Alabama",
         "County": "DeKalb",
         "GDP per Capita 2018": 24.837275280898876,
         "State + County": "Alabama DeKalb",
         "AQI 2018": 36.72,
         "AQI 2019": 39.71191135734072,
         "AQI 2020": "36.925619834710744",
         "_deepnote_index_column": 24
        },
        {
         "State": "Alabama",
         "County": "Elmore",
         "GDP per Capita 2018": 20.861301285524306,
         "State + County": "Alabama Elmore",
         "AQI 2018": 35.328828828828826,
         "AQI 2019": 38.421052631578945,
         "AQI 2020": "31.63758389261745",
         "_deepnote_index_column": 25
        }
       ],
       "rows_bottom": null
      },
      "text/plain": "      State   County  GDP per Capita 2018   State + County   AQI 2018  \\\n1   Alabama  Baldwin            27.746731  Alabama Baldwin  36.829630   \n13  Alabama     Clay            25.358499     Alabama Clay  28.990909   \n16  Alabama  Colbert            50.570474  Alabama Colbert  35.635379   \n24  Alabama   DeKalb            24.837275   Alabama DeKalb  36.720000   \n25  Alabama   Elmore            20.861301   Alabama Elmore  35.328829   \n\n     AQI 2019   AQI 2020  \n1   38.291513  35.392857  \n13  31.149533  27.379310  \n16  35.520913        NaN  \n24  39.711911  36.925620  \n25  38.421053  31.637584  ",
      "text/html": "<div>\n<style scoped>\n    .dataframe tbody tr th:only-of-type {\n        vertical-align: middle;\n    }\n\n    .dataframe tbody tr th {\n        vertical-align: top;\n    }\n\n    .dataframe thead th {\n        text-align: right;\n    }\n</style>\n<table border=\"1\" class=\"dataframe\">\n  <thead>\n    <tr style=\"text-align: right;\">\n      <th></th>\n      <th>State</th>\n      <th>County</th>\n      <th>GDP per Capita 2018</th>\n      <th>State + County</th>\n      <th>AQI 2018</th>\n      <th>AQI 2019</th>\n      <th>AQI 2020</th>\n    </tr>\n  </thead>\n  <tbody>\n    <tr>\n      <th>1</th>\n      <td>Alabama</td>\n      <td>Baldwin</td>\n      <td>27.746731</td>\n      <td>Alabama Baldwin</td>\n      <td>36.829630</td>\n      <td>38.291513</td>\n      <td>35.392857</td>\n    </tr>\n    <tr>\n      <th>13</th>\n      <td>Alabama</td>\n      <td>Clay</td>\n      <td>25.358499</td>\n      <td>Alabama Clay</td>\n      <td>28.990909</td>\n      <td>31.149533</td>\n      <td>27.379310</td>\n    </tr>\n    <tr>\n      <th>16</th>\n      <td>Alabama</td>\n      <td>Colbert</td>\n      <td>50.570474</td>\n      <td>Alabama Colbert</td>\n      <td>35.635379</td>\n      <td>35.520913</td>\n      <td>NaN</td>\n    </tr>\n    <tr>\n      <th>24</th>\n      <td>Alabama</td>\n      <td>DeKalb</td>\n      <td>24.837275</td>\n      <td>Alabama DeKalb</td>\n      <td>36.720000</td>\n      <td>39.711911</td>\n      <td>36.925620</td>\n    </tr>\n    <tr>\n      <th>25</th>\n      <td>Alabama</td>\n      <td>Elmore</td>\n      <td>20.861301</td>\n      <td>Alabama Elmore</td>\n      <td>35.328829</td>\n      <td>38.421053</td>\n      <td>31.637584</td>\n    </tr>\n  </tbody>\n</table>\n</div>"
     },
     "metadata": {}
    }
   ]
  },
  {
   "cell_type": "code",
   "source": "gdp_data.describe()",
   "metadata": {
    "tags": [],
    "cell_id": "00035-36441890-a38d-4f94-aad9-e8bdee063c9f",
    "deepnote_to_be_reexecuted": false,
    "source_hash": "366ea9b",
    "execution_start": 1621642120401,
    "execution_millis": 35,
    "deepnote_cell_type": "code"
   },
   "outputs": [
    {
     "output_type": "execute_result",
     "execution_count": 14,
     "data": {
      "application/vnd.deepnote.dataframe.v2+json": {
       "row_count": 8,
       "column_count": 4,
       "columns": [
        {
         "name": "GDP per Capita 2018",
         "dtype": "float64",
         "stats": {
          "unique_count": 8,
          "nan_count": 0,
          "min": "11.932601880877742",
          "max": "1012.0",
          "histogram": [
           {
            "bin_start": 11.932601880877742,
            "bin_end": 111.93934169278997,
            "count": 6
           },
           {
            "bin_start": 111.93934169278997,
            "bin_end": 211.9460815047022,
            "count": 0
           },
           {
            "bin_start": 211.9460815047022,
            "bin_end": 311.95282131661446,
            "count": 0
           },
           {
            "bin_start": 311.95282131661446,
            "bin_end": 411.9595611285267,
            "count": 0
           },
           {
            "bin_start": 411.9595611285267,
            "bin_end": 511.9663009404389,
            "count": 0
           },
           {
            "bin_start": 511.9663009404389,
            "bin_end": 611.9730407523512,
            "count": 0
           },
           {
            "bin_start": 611.9730407523512,
            "bin_end": 711.9797805642634,
            "count": 0
           },
           {
            "bin_start": 711.9797805642634,
            "bin_end": 811.9865203761756,
            "count": 0
           },
           {
            "bin_start": 811.9865203761756,
            "bin_end": 911.9932601880878,
            "count": 1
           },
           {
            "bin_start": 911.9932601880878,
            "bin_end": 1012,
            "count": 1
           }
          ]
         }
        },
        {
         "name": "AQI 2018",
         "dtype": "float64",
         "stats": {
          "unique_count": 8,
          "nan_count": 0,
          "min": "0.09090909090909091",
          "max": "999.0",
          "histogram": [
           {
            "bin_start": 0.09090909090909091,
            "bin_end": 99.98181818181818,
            "count": 7
           },
           {
            "bin_start": 99.98181818181818,
            "bin_end": 199.87272727272727,
            "count": 0
           },
           {
            "bin_start": 199.87272727272727,
            "bin_end": 299.76363636363635,
            "count": 0
           },
           {
            "bin_start": 299.76363636363635,
            "bin_end": 399.6545454545454,
            "count": 0
           },
           {
            "bin_start": 399.6545454545454,
            "bin_end": 499.5454545454545,
            "count": 0
           },
           {
            "bin_start": 499.5454545454545,
            "bin_end": 599.4363636363637,
            "count": 0
           },
           {
            "bin_start": 599.4363636363637,
            "bin_end": 699.3272727272728,
            "count": 0
           },
           {
            "bin_start": 699.3272727272728,
            "bin_end": 799.2181818181818,
            "count": 0
           },
           {
            "bin_start": 799.2181818181818,
            "bin_end": 899.1090909090909,
            "count": 0
           },
           {
            "bin_start": 899.1090909090909,
            "bin_end": 999,
            "count": 1
           }
          ]
         }
        },
        {
         "name": "AQI 2019",
         "dtype": "float64",
         "stats": {
          "unique_count": 8,
          "nan_count": 0,
          "min": "0.014044943820224719",
          "max": "993.0",
          "histogram": [
           {
            "bin_start": 0.014044943820224719,
            "bin_end": 99.3126404494382,
            "count": 6
           },
           {
            "bin_start": 99.3126404494382,
            "bin_end": 198.6112359550562,
            "count": 1
           },
           {
            "bin_start": 198.6112359550562,
            "bin_end": 297.9098314606742,
            "count": 0
           },
           {
            "bin_start": 297.9098314606742,
            "bin_end": 397.20842696629217,
            "count": 0
           },
           {
            "bin_start": 397.20842696629217,
            "bin_end": 496.50702247191015,
            "count": 0
           },
           {
            "bin_start": 496.50702247191015,
            "bin_end": 595.8056179775281,
            "count": 0
           },
           {
            "bin_start": 595.8056179775281,
            "bin_end": 695.104213483146,
            "count": 0
           },
           {
            "bin_start": 695.104213483146,
            "bin_end": 794.402808988764,
            "count": 0
           },
           {
            "bin_start": 794.402808988764,
            "bin_end": 893.701404494382,
            "count": 0
           },
           {
            "bin_start": 893.701404494382,
            "bin_end": 993,
            "count": 1
           }
          ]
         }
        },
        {
         "name": "AQI 2020",
         "dtype": "float64",
         "stats": {
          "unique_count": 8,
          "nan_count": 0,
          "min": "0.0",
          "max": "978.0",
          "histogram": [
           {
            "bin_start": 0,
            "bin_end": 97.8,
            "count": 6
           },
           {
            "bin_start": 97.8,
            "bin_end": 195.6,
            "count": 1
           },
           {
            "bin_start": 195.6,
            "bin_end": 293.4,
            "count": 0
           },
           {
            "bin_start": 293.4,
            "bin_end": 391.2,
            "count": 0
           },
           {
            "bin_start": 391.2,
            "bin_end": 489,
            "count": 0
           },
           {
            "bin_start": 489,
            "bin_end": 586.8,
            "count": 0
           },
           {
            "bin_start": 586.8,
            "bin_end": 684.6,
            "count": 0
           },
           {
            "bin_start": 684.6,
            "bin_end": 782.4,
            "count": 0
           },
           {
            "bin_start": 782.4,
            "bin_end": 880.1999999999999,
            "count": 0
           },
           {
            "bin_start": 880.1999999999999,
            "bin_end": 978,
            "count": 1
           }
          ]
         }
        },
        {
         "name": "_deepnote_index_column",
         "dtype": "object"
        }
       ],
       "rows_top": [
        {
         "GDP per Capita 2018": 1012,
         "AQI 2018": 999,
         "AQI 2019": 993,
         "AQI 2020": 978,
         "_deepnote_index_column": "count"
        },
        {
         "GDP per Capita 2018": 50.81797275801019,
         "AQI 2018": 38.240931207389956,
         "AQI 2019": 36.62514640233115,
         "AQI 2020": 35.35974700423633,
         "_deepnote_index_column": "mean"
        },
        {
         "GDP per Capita 2018": 44.598790359712105,
         "AQI 2018": 11.45737358245677,
         "AQI 2019": 11.423941269216803,
         "AQI 2020": 11.932847765799691,
         "_deepnote_index_column": "std"
        },
        {
         "GDP per Capita 2018": 11.932601880877742,
         "AQI 2018": 0.09090909090909091,
         "AQI 2019": 0.014044943820224719,
         "AQI 2020": 0,
         "_deepnote_index_column": "min"
        },
        {
         "GDP per Capita 2018": 33.59181317694552,
         "AQI 2018": 34.04475978302983,
         "AQI 2019": 33.40469208211144,
         "AQI 2020": 31.971403596403597,
         "_deepnote_index_column": "25%"
        },
        {
         "GDP per Capita 2018": 43.07610103458943,
         "AQI 2018": 38.69505494505494,
         "AQI 2019": 37.986301369863014,
         "AQI 2020": 37.39755698846608,
         "_deepnote_index_column": "50%"
        },
        {
         "GDP per Capita 2018": 56.38563993775482,
         "AQI 2018": 43.28002283105023,
         "AQI 2019": 42.36842105263158,
         "AQI 2020": 41.10930759275237,
         "_deepnote_index_column": "75%"
        },
        {
         "GDP per Capita 2018": 862.6650419185027,
         "AQI 2018": 98.57534246575342,
         "AQI 2019": 121.87671232876713,
         "AQI 2020": 115.86813186813187,
         "_deepnote_index_column": "max"
        }
       ],
       "rows_bottom": null
      },
      "text/plain": "       GDP per Capita 2018    AQI 2018    AQI 2019    AQI 2020\ncount          1012.000000  999.000000  993.000000  978.000000\nmean             50.817973   38.240931   36.625146   35.359747\nstd              44.598790   11.457374   11.423941   11.932848\nmin              11.932602    0.090909    0.014045    0.000000\n25%              33.591813   34.044760   33.404692   31.971404\n50%              43.076101   38.695055   37.986301   37.397557\n75%              56.385640   43.280023   42.368421   41.109308\nmax             862.665042   98.575342  121.876712  115.868132",
      "text/html": "<div>\n<style scoped>\n    .dataframe tbody tr th:only-of-type {\n        vertical-align: middle;\n    }\n\n    .dataframe tbody tr th {\n        vertical-align: top;\n    }\n\n    .dataframe thead th {\n        text-align: right;\n    }\n</style>\n<table border=\"1\" class=\"dataframe\">\n  <thead>\n    <tr style=\"text-align: right;\">\n      <th></th>\n      <th>GDP per Capita 2018</th>\n      <th>AQI 2018</th>\n      <th>AQI 2019</th>\n      <th>AQI 2020</th>\n    </tr>\n  </thead>\n  <tbody>\n    <tr>\n      <th>count</th>\n      <td>1012.000000</td>\n      <td>999.000000</td>\n      <td>993.000000</td>\n      <td>978.000000</td>\n    </tr>\n    <tr>\n      <th>mean</th>\n      <td>50.817973</td>\n      <td>38.240931</td>\n      <td>36.625146</td>\n      <td>35.359747</td>\n    </tr>\n    <tr>\n      <th>std</th>\n      <td>44.598790</td>\n      <td>11.457374</td>\n      <td>11.423941</td>\n      <td>11.932848</td>\n    </tr>\n    <tr>\n      <th>min</th>\n      <td>11.932602</td>\n      <td>0.090909</td>\n      <td>0.014045</td>\n      <td>0.000000</td>\n    </tr>\n    <tr>\n      <th>25%</th>\n      <td>33.591813</td>\n      <td>34.044760</td>\n      <td>33.404692</td>\n      <td>31.971404</td>\n    </tr>\n    <tr>\n      <th>50%</th>\n      <td>43.076101</td>\n      <td>38.695055</td>\n      <td>37.986301</td>\n      <td>37.397557</td>\n    </tr>\n    <tr>\n      <th>75%</th>\n      <td>56.385640</td>\n      <td>43.280023</td>\n      <td>42.368421</td>\n      <td>41.109308</td>\n    </tr>\n    <tr>\n      <th>max</th>\n      <td>862.665042</td>\n      <td>98.575342</td>\n      <td>121.876712</td>\n      <td>115.868132</td>\n    </tr>\n  </tbody>\n</table>\n</div>"
     },
     "metadata": {}
    }
   ],
   "execution_count": 14
  },
  {
   "cell_type": "markdown",
   "source": "We can see that some observations are missing certain AQI data between 2018 - 2020. These observations are removed since they do not contain a complete observation and might potentially weaken our analysis and results.",
   "metadata": {
    "tags": [],
    "cell_id": "00037-7dbd4deb-8f5f-4e1e-82cf-7bcf47ae4f4b",
    "deepnote_cell_type": "markdown"
   }
  },
  {
   "cell_type": "code",
   "source": "gdp_data = gdp_data.dropna(axis = 0, how='any')\n\nprint(gdp_data.shape)\ngdp_data.head()\n",
   "metadata": {
    "tags": [],
    "cell_id": "00037-4c8b2479-642f-46e3-9381-19f6dbde256f",
    "deepnote_to_be_reexecuted": false,
    "source_hash": "e35fdc29",
    "execution_start": 1621642120433,
    "execution_millis": 74,
    "deepnote_cell_type": "code"
   },
   "outputs": [
    {
     "name": "stdout",
     "text": "(967, 7)\n",
     "output_type": "stream"
    },
    {
     "output_type": "execute_result",
     "execution_count": 15,
     "data": {
      "application/vnd.deepnote.dataframe.v2+json": {
       "row_count": 5,
       "column_count": 7,
       "columns": [
        {
         "name": "State",
         "dtype": "object",
         "stats": {
          "unique_count": 1,
          "nan_count": 0,
          "categories": [
           {
            "name": "Alabama",
            "count": 5
           }
          ]
         }
        },
        {
         "name": "County",
         "dtype": "object",
         "stats": {
          "unique_count": 5,
          "nan_count": 0,
          "categories": [
           {
            "name": "Baldwin",
            "count": 1
           },
           {
            "name": "Clay",
            "count": 1
           },
           {
            "name": "3 others",
            "count": 3
           }
          ]
         }
        },
        {
         "name": "GDP per Capita 2018",
         "dtype": "float64",
         "stats": {
          "unique_count": 5,
          "nan_count": 0,
          "min": "20.861301285524306",
          "max": "27.746731248828727",
          "histogram": [
           {
            "bin_start": 20.861301285524306,
            "bin_end": 21.549844281854746,
            "count": 1
           },
           {
            "bin_start": 21.549844281854746,
            "bin_end": 22.23838727818519,
            "count": 0
           },
           {
            "bin_start": 22.23838727818519,
            "bin_end": 22.926930274515634,
            "count": 0
           },
           {
            "bin_start": 22.926930274515634,
            "bin_end": 23.615473270846074,
            "count": 0
           },
           {
            "bin_start": 23.615473270846074,
            "bin_end": 24.304016267176515,
            "count": 0
           },
           {
            "bin_start": 24.304016267176515,
            "bin_end": 24.99255926350696,
            "count": 1
           },
           {
            "bin_start": 24.99255926350696,
            "bin_end": 25.681102259837402,
            "count": 1
           },
           {
            "bin_start": 25.681102259837402,
            "bin_end": 26.369645256167843,
            "count": 0
           },
           {
            "bin_start": 26.369645256167843,
            "bin_end": 27.058188252498283,
            "count": 0
           },
           {
            "bin_start": 27.058188252498283,
            "bin_end": 27.746731248828727,
            "count": 2
           }
          ]
         }
        },
        {
         "name": "State + County",
         "dtype": "object",
         "stats": {
          "unique_count": 5,
          "nan_count": 0,
          "categories": [
           {
            "name": "Alabama Baldwin",
            "count": 1
           },
           {
            "name": "Alabama Clay",
            "count": 1
           },
           {
            "name": "3 others",
            "count": 3
           }
          ]
         }
        },
        {
         "name": "AQI 2018",
         "dtype": "float64",
         "stats": {
          "unique_count": 5,
          "nan_count": 0,
          "min": "28.990909090909092",
          "max": "42.910493827160494",
          "histogram": [
           {
            "bin_start": 28.990909090909092,
            "bin_end": 30.382867564534234,
            "count": 1
           },
           {
            "bin_start": 30.382867564534234,
            "bin_end": 31.77482603815937,
            "count": 0
           },
           {
            "bin_start": 31.77482603815937,
            "bin_end": 33.16678451178451,
            "count": 0
           },
           {
            "bin_start": 33.16678451178451,
            "bin_end": 34.55874298540965,
            "count": 0
           },
           {
            "bin_start": 34.55874298540965,
            "bin_end": 35.95070145903479,
            "count": 1
           },
           {
            "bin_start": 35.95070145903479,
            "bin_end": 37.342659932659934,
            "count": 2
           },
           {
            "bin_start": 37.342659932659934,
            "bin_end": 38.73461840628507,
            "count": 0
           },
           {
            "bin_start": 38.73461840628507,
            "bin_end": 40.12657687991022,
            "count": 0
           },
           {
            "bin_start": 40.12657687991022,
            "bin_end": 41.518535353535356,
            "count": 0
           },
           {
            "bin_start": 41.518535353535356,
            "bin_end": 42.910493827160494,
            "count": 1
           }
          ]
         }
        },
        {
         "name": "AQI 2019",
         "dtype": "float64",
         "stats": {
          "unique_count": 5,
          "nan_count": 0,
          "min": "31.149532710280372",
          "max": "41.666666666666664",
          "histogram": [
           {
            "bin_start": 31.149532710280372,
            "bin_end": 32.201246105919004,
            "count": 1
           },
           {
            "bin_start": 32.201246105919004,
            "bin_end": 33.25295950155763,
            "count": 0
           },
           {
            "bin_start": 33.25295950155763,
            "bin_end": 34.30467289719626,
            "count": 0
           },
           {
            "bin_start": 34.30467289719626,
            "bin_end": 35.35638629283489,
            "count": 0
           },
           {
            "bin_start": 35.35638629283489,
            "bin_end": 36.40809968847352,
            "count": 0
           },
           {
            "bin_start": 36.40809968847352,
            "bin_end": 37.45981308411215,
            "count": 0
           },
           {
            "bin_start": 37.45981308411215,
            "bin_end": 38.51152647975078,
            "count": 2
           },
           {
            "bin_start": 38.51152647975078,
            "bin_end": 39.56323987538941,
            "count": 0
           },
           {
            "bin_start": 39.56323987538941,
            "bin_end": 40.614953271028035,
            "count": 1
           },
           {
            "bin_start": 40.614953271028035,
            "bin_end": 41.666666666666664,
            "count": 1
           }
          ]
         }
        },
        {
         "name": "AQI 2020",
         "dtype": "float64",
         "stats": {
          "unique_count": 5,
          "nan_count": 0,
          "min": "27.379310344827587",
          "max": "36.925619834710744",
          "histogram": [
           {
            "bin_start": 27.379310344827587,
            "bin_end": 28.333941293815904,
            "count": 1
           },
           {
            "bin_start": 28.333941293815904,
            "bin_end": 29.288572242804218,
            "count": 0
           },
           {
            "bin_start": 29.288572242804218,
            "bin_end": 30.243203191792535,
            "count": 0
           },
           {
            "bin_start": 30.243203191792535,
            "bin_end": 31.19783414078085,
            "count": 0
           },
           {
            "bin_start": 31.19783414078085,
            "bin_end": 32.152465089769166,
            "count": 1
           },
           {
            "bin_start": 32.152465089769166,
            "bin_end": 33.10709603875748,
            "count": 0
           },
           {
            "bin_start": 33.10709603875748,
            "bin_end": 34.0617269877458,
            "count": 0
           },
           {
            "bin_start": 34.0617269877458,
            "bin_end": 35.01635793673411,
            "count": 1
           },
           {
            "bin_start": 35.01635793673411,
            "bin_end": 35.97098888572243,
            "count": 1
           },
           {
            "bin_start": 35.97098888572243,
            "bin_end": 36.925619834710744,
            "count": 1
           }
          ]
         }
        },
        {
         "name": "_deepnote_index_column",
         "dtype": "int64"
        }
       ],
       "rows_top": [
        {
         "State": "Alabama",
         "County": "Baldwin",
         "GDP per Capita 2018": 27.746731248828727,
         "State + County": "Alabama Baldwin",
         "AQI 2018": 36.82962962962963,
         "AQI 2019": 38.291512915129154,
         "AQI 2020": 35.392857142857146,
         "_deepnote_index_column": 1
        },
        {
         "State": "Alabama",
         "County": "Clay",
         "GDP per Capita 2018": 25.358499028255345,
         "State + County": "Alabama Clay",
         "AQI 2018": 28.990909090909092,
         "AQI 2019": 31.149532710280372,
         "AQI 2020": 27.379310344827587,
         "_deepnote_index_column": 13
        },
        {
         "State": "Alabama",
         "County": "DeKalb",
         "GDP per Capita 2018": 24.837275280898876,
         "State + County": "Alabama DeKalb",
         "AQI 2018": 36.72,
         "AQI 2019": 39.71191135734072,
         "AQI 2020": 36.925619834710744,
         "_deepnote_index_column": 24
        },
        {
         "State": "Alabama",
         "County": "Elmore",
         "GDP per Capita 2018": 20.861301285524306,
         "State + County": "Alabama Elmore",
         "AQI 2018": 35.328828828828826,
         "AQI 2019": 38.421052631578945,
         "AQI 2020": 31.63758389261745,
         "_deepnote_index_column": 25
        },
        {
         "State": "Alabama",
         "County": "Etowah",
         "GDP per Capita 2018": 27.23428438201265,
         "State + County": "Alabama Etowah",
         "AQI 2018": 42.910493827160494,
         "AQI 2019": 41.666666666666664,
         "AQI 2020": 34.994082840236686,
         "_deepnote_index_column": 27
        }
       ],
       "rows_bottom": null
      },
      "text/plain": "      State   County  GDP per Capita 2018   State + County   AQI 2018  \\\n1   Alabama  Baldwin            27.746731  Alabama Baldwin  36.829630   \n13  Alabama     Clay            25.358499     Alabama Clay  28.990909   \n24  Alabama   DeKalb            24.837275   Alabama DeKalb  36.720000   \n25  Alabama   Elmore            20.861301   Alabama Elmore  35.328829   \n27  Alabama   Etowah            27.234284   Alabama Etowah  42.910494   \n\n     AQI 2019   AQI 2020  \n1   38.291513  35.392857  \n13  31.149533  27.379310  \n24  39.711911  36.925620  \n25  38.421053  31.637584  \n27  41.666667  34.994083  ",
      "text/html": "<div>\n<style scoped>\n    .dataframe tbody tr th:only-of-type {\n        vertical-align: middle;\n    }\n\n    .dataframe tbody tr th {\n        vertical-align: top;\n    }\n\n    .dataframe thead th {\n        text-align: right;\n    }\n</style>\n<table border=\"1\" class=\"dataframe\">\n  <thead>\n    <tr style=\"text-align: right;\">\n      <th></th>\n      <th>State</th>\n      <th>County</th>\n      <th>GDP per Capita 2018</th>\n      <th>State + County</th>\n      <th>AQI 2018</th>\n      <th>AQI 2019</th>\n      <th>AQI 2020</th>\n    </tr>\n  </thead>\n  <tbody>\n    <tr>\n      <th>1</th>\n      <td>Alabama</td>\n      <td>Baldwin</td>\n      <td>27.746731</td>\n      <td>Alabama Baldwin</td>\n      <td>36.829630</td>\n      <td>38.291513</td>\n      <td>35.392857</td>\n    </tr>\n    <tr>\n      <th>13</th>\n      <td>Alabama</td>\n      <td>Clay</td>\n      <td>25.358499</td>\n      <td>Alabama Clay</td>\n      <td>28.990909</td>\n      <td>31.149533</td>\n      <td>27.379310</td>\n    </tr>\n    <tr>\n      <th>24</th>\n      <td>Alabama</td>\n      <td>DeKalb</td>\n      <td>24.837275</td>\n      <td>Alabama DeKalb</td>\n      <td>36.720000</td>\n      <td>39.711911</td>\n      <td>36.925620</td>\n    </tr>\n    <tr>\n      <th>25</th>\n      <td>Alabama</td>\n      <td>Elmore</td>\n      <td>20.861301</td>\n      <td>Alabama Elmore</td>\n      <td>35.328829</td>\n      <td>38.421053</td>\n      <td>31.637584</td>\n    </tr>\n    <tr>\n      <th>27</th>\n      <td>Alabama</td>\n      <td>Etowah</td>\n      <td>27.234284</td>\n      <td>Alabama Etowah</td>\n      <td>42.910494</td>\n      <td>41.666667</td>\n      <td>34.994083</td>\n    </tr>\n  </tbody>\n</table>\n</div>"
     },
     "metadata": {}
    }
   ],
   "execution_count": 15
  },
  {
   "cell_type": "markdown",
   "source": "We ran a pairplot to see if there is any indication of a correlation between each feature in the given dataset.",
   "metadata": {
    "tags": [],
    "cell_id": "00039-1592ae27-8a14-4cc7-aabc-67e1f8908dc4",
    "deepnote_cell_type": "markdown"
   }
  },
  {
   "cell_type": "code",
   "source": "sns.pairplot(data = gdp_data)",
   "metadata": {
    "tags": [],
    "cell_id": "00037-b2d0940a-8fba-4db9-9eb8-f7ee1a8b8c19",
    "deepnote_to_be_reexecuted": false,
    "source_hash": "b68bd2a5",
    "execution_start": 1621642120503,
    "execution_millis": 3227,
    "deepnote_cell_type": "code"
   },
   "outputs": [
    {
     "output_type": "execute_result",
     "execution_count": 16,
     "data": {
      "text/plain": "<seaborn.axisgrid.PairGrid at 0x7f623f3252d0>"
     },
     "metadata": {}
    },
    {
     "data": {
      "text/plain": "<Figure size 720x720 with 20 Axes>",
      "image/png": "[encoded data removed]"
     },
     "metadata": {
      "needs_background": "light",
      "image/png": {
       "width": 710,
       "height": 709
      }
     },
     "output_type": "display_data"
    }
   ],
   "execution_count": 16
  },
  {
   "cell_type": "markdown",
   "source": "Based on our findings, there is no immediate correlation that we can identify from the pairplot. However, that does not necessarily mean that there are no correlations present within the data. Further analysis on the data would have to be done to identify correlations within specific categories.",
   "metadata": {
    "tags": [],
    "cell_id": "00041-98d395c9-d8cb-4f31-99ee-8e610a88af42",
    "deepnote_cell_type": "markdown"
   }
  },
  {
   "cell_type": "code",
   "source": "gdp_data.corr()",
   "metadata": {
    "tags": [],
    "cell_id": "00041-9b7cffaf-5bae-47c4-8c21-55099b44f021",
    "deepnote_to_be_reexecuted": false,
    "source_hash": "d012e31e",
    "execution_start": 1621642123734,
    "execution_millis": 21,
    "deepnote_cell_type": "code"
   },
   "outputs": [
    {
     "output_type": "execute_result",
     "execution_count": 17,
     "data": {
      "application/vnd.deepnote.dataframe.v2+json": {
       "row_count": 4,
       "column_count": 4,
       "columns": [
        {
         "name": "GDP per Capita 2018",
         "dtype": "float64",
         "stats": {
          "unique_count": 4,
          "nan_count": 0,
          "min": "0.001807234727321479",
          "max": "1.0",
          "histogram": [
           {
            "bin_start": 0.001807234727321479,
            "bin_end": 0.10162651125458934,
            "count": 3
           },
           {
            "bin_start": 0.10162651125458934,
            "bin_end": 0.20144578778185718,
            "count": 0
           },
           {
            "bin_start": 0.20144578778185718,
            "bin_end": 0.30126506430912503,
            "count": 0
           },
           {
            "bin_start": 0.30126506430912503,
            "bin_end": 0.4010843408363929,
            "count": 0
           },
           {
            "bin_start": 0.4010843408363929,
            "bin_end": 0.5009036173636607,
            "count": 0
           },
           {
            "bin_start": 0.5009036173636607,
            "bin_end": 0.6007228938909286,
            "count": 0
           },
           {
            "bin_start": 0.6007228938909286,
            "bin_end": 0.7005421704181964,
            "count": 0
           },
           {
            "bin_start": 0.7005421704181964,
            "bin_end": 0.8003614469454643,
            "count": 0
           },
           {
            "bin_start": 0.8003614469454643,
            "bin_end": 0.9001807234727321,
            "count": 0
           },
           {
            "bin_start": 0.9001807234727321,
            "bin_end": 1,
            "count": 1
           }
          ]
         }
        },
        {
         "name": "AQI 2018",
         "dtype": "float64",
         "stats": {
          "unique_count": 4,
          "nan_count": 0,
          "min": "0.043057929458867515",
          "max": "1.0",
          "histogram": [
           {
            "bin_start": 0.043057929458867515,
            "bin_end": 0.13875213651298077,
            "count": 1
           },
           {
            "bin_start": 0.13875213651298077,
            "bin_end": 0.234446343567094,
            "count": 0
           },
           {
            "bin_start": 0.234446343567094,
            "bin_end": 0.33014055062120723,
            "count": 0
           },
           {
            "bin_start": 0.33014055062120723,
            "bin_end": 0.4258347576753205,
            "count": 0
           },
           {
            "bin_start": 0.4258347576753205,
            "bin_end": 0.5215289647294338,
            "count": 0
           },
           {
            "bin_start": 0.5215289647294338,
            "bin_end": 0.617223171783547,
            "count": 0
           },
           {
            "bin_start": 0.617223171783547,
            "bin_end": 0.7129173788376603,
            "count": 0
           },
           {
            "bin_start": 0.7129173788376603,
            "bin_end": 0.8086115858917735,
            "count": 0
           },
           {
            "bin_start": 0.8086115858917735,
            "bin_end": 0.9043057929458868,
            "count": 2
           },
           {
            "bin_start": 0.9043057929458868,
            "bin_end": 1,
            "count": 1
           }
          ]
         }
        },
        {
         "name": "AQI 2019",
         "dtype": "float64",
         "stats": {
          "unique_count": 4,
          "nan_count": 0,
          "min": "0.04807656513445863",
          "max": "1.0",
          "histogram": [
           {
            "bin_start": 0.04807656513445863,
            "bin_end": 0.14326890862101277,
            "count": 1
           },
           {
            "bin_start": 0.14326890862101277,
            "bin_end": 0.23846125210756688,
            "count": 0
           },
           {
            "bin_start": 0.23846125210756688,
            "bin_end": 0.333653595594121,
            "count": 0
           },
           {
            "bin_start": 0.333653595594121,
            "bin_end": 0.42884593908067514,
            "count": 0
           },
           {
            "bin_start": 0.42884593908067514,
            "bin_end": 0.5240382825672293,
            "count": 0
           },
           {
            "bin_start": 0.5240382825672293,
            "bin_end": 0.6192306260537834,
            "count": 0
           },
           {
            "bin_start": 0.6192306260537834,
            "bin_end": 0.7144229695403376,
            "count": 0
           },
           {
            "bin_start": 0.7144229695403376,
            "bin_end": 0.8096153130268917,
            "count": 0
           },
           {
            "bin_start": 0.8096153130268917,
            "bin_end": 0.9048076565134459,
            "count": 1
           },
           {
            "bin_start": 0.9048076565134459,
            "bin_end": 1,
            "count": 2
           }
          ]
         }
        },
        {
         "name": "AQI 2020",
         "dtype": "float64",
         "stats": {
          "unique_count": 4,
          "nan_count": 0,
          "min": "0.001807234727321479",
          "max": "1.0",
          "histogram": [
           {
            "bin_start": 0.001807234727321479,
            "bin_end": 0.10162651125458934,
            "count": 1
           },
           {
            "bin_start": 0.10162651125458934,
            "bin_end": 0.20144578778185718,
            "count": 0
           },
           {
            "bin_start": 0.20144578778185718,
            "bin_end": 0.30126506430912503,
            "count": 0
           },
           {
            "bin_start": 0.30126506430912503,
            "bin_end": 0.4010843408363929,
            "count": 0
           },
           {
            "bin_start": 0.4010843408363929,
            "bin_end": 0.5009036173636607,
            "count": 0
           },
           {
            "bin_start": 0.5009036173636607,
            "bin_end": 0.6007228938909286,
            "count": 0
           },
           {
            "bin_start": 0.6007228938909286,
            "bin_end": 0.7005421704181964,
            "count": 0
           },
           {
            "bin_start": 0.7005421704181964,
            "bin_end": 0.8003614469454643,
            "count": 0
           },
           {
            "bin_start": 0.8003614469454643,
            "bin_end": 0.9001807234727321,
            "count": 1
           },
           {
            "bin_start": 0.9001807234727321,
            "bin_end": 1,
            "count": 2
           }
          ]
         }
        },
        {
         "name": "_deepnote_index_column",
         "dtype": "object"
        }
       ],
       "rows_top": [
        {
         "GDP per Capita 2018": 1,
         "AQI 2018": 0.043057929458867515,
         "AQI 2019": 0.04807656513445863,
         "AQI 2020": 0.001807234727321479,
         "_deepnote_index_column": "GDP per Capita 2018"
        },
        {
         "GDP per Capita 2018": 0.043057929458867515,
         "AQI 2018": 1,
         "AQI 2019": 0.8969283661263358,
         "AQI 2020": 0.8525319534071518,
         "_deepnote_index_column": "AQI 2018"
        },
        {
         "GDP per Capita 2018": 0.04807656513445863,
         "AQI 2018": 0.8969283661263358,
         "AQI 2019": 1,
         "AQI 2020": 0.9202449576359278,
         "_deepnote_index_column": "AQI 2019"
        },
        {
         "GDP per Capita 2018": 0.001807234727321479,
         "AQI 2018": 0.8525319534071518,
         "AQI 2019": 0.9202449576359278,
         "AQI 2020": 1,
         "_deepnote_index_column": "AQI 2020"
        }
       ],
       "rows_bottom": null
      },
      "text/plain": "                     GDP per Capita 2018  AQI 2018  AQI 2019  AQI 2020\nGDP per Capita 2018             1.000000  0.043058  0.048077  0.001807\nAQI 2018                        0.043058  1.000000  0.896928  0.852532\nAQI 2019                        0.048077  0.896928  1.000000  0.920245\nAQI 2020                        0.001807  0.852532  0.920245  1.000000",
      "text/html": "<div>\n<style scoped>\n    .dataframe tbody tr th:only-of-type {\n        vertical-align: middle;\n    }\n\n    .dataframe tbody tr th {\n        vertical-align: top;\n    }\n\n    .dataframe thead th {\n        text-align: right;\n    }\n</style>\n<table border=\"1\" class=\"dataframe\">\n  <thead>\n    <tr style=\"text-align: right;\">\n      <th></th>\n      <th>GDP per Capita 2018</th>\n      <th>AQI 2018</th>\n      <th>AQI 2019</th>\n      <th>AQI 2020</th>\n    </tr>\n  </thead>\n  <tbody>\n    <tr>\n      <th>GDP per Capita 2018</th>\n      <td>1.000000</td>\n      <td>0.043058</td>\n      <td>0.048077</td>\n      <td>0.001807</td>\n    </tr>\n    <tr>\n      <th>AQI 2018</th>\n      <td>0.043058</td>\n      <td>1.000000</td>\n      <td>0.896928</td>\n      <td>0.852532</td>\n    </tr>\n    <tr>\n      <th>AQI 2019</th>\n      <td>0.048077</td>\n      <td>0.896928</td>\n      <td>1.000000</td>\n      <td>0.920245</td>\n    </tr>\n    <tr>\n      <th>AQI 2020</th>\n      <td>0.001807</td>\n      <td>0.852532</td>\n      <td>0.920245</td>\n      <td>1.000000</td>\n    </tr>\n  </tbody>\n</table>\n</div>"
     },
     "metadata": {}
    }
   ],
   "execution_count": 17
  },
  {
   "cell_type": "markdown",
   "source": "The correlation matrix further shows that there is little correlation between <b>GDP per capita</b> and <b>AQI</b>. In order to better visualize the trend between these two variables, standardization of the data is required\n\nWe decided to take a closer look at one of our data points of interest which was the relationship between <mark>GDP per Capita</mark> and <mark>AQI 2018</mark>.",
   "metadata": {
    "tags": [],
    "cell_id": "00041-54afb2d1-626b-4a06-bd7c-de1039d447d6",
    "deepnote_cell_type": "markdown"
   }
  },
  {
   "cell_type": "code",
   "source": "sns.lmplot(data=gdp_data, x=\"GDP per Capita 2018\", y=\"AQI 2018\")",
   "metadata": {
    "tags": [],
    "cell_id": "00038-8be3c178-4819-4aed-be94-fcf77ab098bd",
    "deepnote_to_be_reexecuted": false,
    "source_hash": "fe4fd462",
    "execution_start": 1621642123766,
    "execution_millis": 394,
    "deepnote_cell_type": "code"
   },
   "outputs": [
    {
     "output_type": "execute_result",
     "execution_count": 18,
     "data": {
      "text/plain": "<seaborn.axisgrid.FacetGrid at 0x7f623e5c8c90>"
     },
     "metadata": {}
    },
    {
     "data": {
      "text/plain": "<Figure size 360x360 with 1 Axes>",
      "image/png": "[encoded data removed]"
     },
     "metadata": {
      "needs_background": "light",
      "image/png": {
       "width": 366,
       "height": 366
      }
     },
     "output_type": "display_data"
    }
   ],
   "execution_count": 18
  },
  {
   "cell_type": "markdown",
   "source": "Based on our EDA, we needed to take the log of our <mark>GDP per Capita 2018</mark> because the ranges of our data are too far apart from one another.  ",
   "metadata": {
    "tags": [],
    "cell_id": "00043-7452eafe-6182-454c-be60-6e57ce25883f",
    "deepnote_cell_type": "markdown"
   }
  },
  {
   "cell_type": "code",
   "source": "gdp_data['Log GDP per Capita 2018'] = gdp_data['GDP per Capita 2018'].apply(lambda x: np.log(x))",
   "metadata": {
    "tags": [],
    "cell_id": "00044-55a94ac0-3137-4b09-8309-2cb154c7a064",
    "deepnote_to_be_reexecuted": false,
    "source_hash": "858d49ca",
    "execution_start": 1621642124166,
    "execution_millis": 3,
    "deepnote_cell_type": "code"
   },
   "outputs": [],
   "execution_count": 19
  },
  {
   "cell_type": "markdown",
   "source": "We wanted to see if there are any correlations present within each year to see what the distribution looks like.",
   "metadata": {
    "tags": [],
    "cell_id": "00043-db645d33-800c-4ff5-b9d2-a2cdbeea7048",
    "deepnote_cell_type": "markdown"
   }
  },
  {
   "cell_type": "code",
   "source": "a_plot = sns.lmplot(data=gdp_data, x=\"Log GDP per Capita 2018\", y=\"AQI 2018\", height = 4, aspect = 4)\n\na_plot.set(xlim=(2, 7))\na_plot.set(ylim=(0, 100))",
   "metadata": {
    "tags": [],
    "cell_id": "00048-4fba013f-ad3f-4832-ade5-14b96760fa38",
    "deepnote_to_be_reexecuted": false,
    "source_hash": "3d30c49c",
    "execution_start": 1621642124172,
    "execution_millis": 430,
    "deepnote_cell_type": "code"
   },
   "outputs": [
    {
     "output_type": "execute_result",
     "execution_count": 20,
     "data": {
      "text/plain": "<seaborn.axisgrid.FacetGrid at 0x7f623f325a90>"
     },
     "metadata": {}
    },
    {
     "data": {
      "text/plain": "<Figure size 1152x288 with 1 Axes>",
      "image/png": "[encoded data removed]"
     },
     "metadata": {
      "needs_background": "light",
      "image/png": {
       "width": 1161,
       "height": 298
      }
     },
     "output_type": "display_data"
    }
   ],
   "execution_count": 20
  },
  {
   "cell_type": "code",
   "source": "b_plot = sns.lmplot(data=gdp_data, x=\"Log GDP per Capita 2018\", y=\"AQI 2019\", height = 4, aspect = 4)\n\nb_plot.set(xlim=(2, 7))\nb_plot.set(ylim=(0, 100))",
   "metadata": {
    "tags": [],
    "cell_id": "00049-1d1f718e-2d10-4f58-92f7-0c66537ed6eb",
    "deepnote_to_be_reexecuted": false,
    "source_hash": "f9e28308",
    "execution_start": 1621642124607,
    "execution_millis": 425,
    "deepnote_cell_type": "code"
   },
   "outputs": [
    {
     "output_type": "execute_result",
     "execution_count": 21,
     "data": {
      "text/plain": "<seaborn.axisgrid.FacetGrid at 0x7f623db95090>"
     },
     "metadata": {}
    },
    {
     "data": {
      "text/plain": "<Figure size 1152x288 with 1 Axes>",
      "image/png": "[encoded data removed]"
     },
     "metadata": {
      "needs_background": "light",
      "image/png": {
       "width": 1161,
       "height": 298
      }
     },
     "output_type": "display_data"
    }
   ],
   "execution_count": 21
  },
  {
   "cell_type": "code",
   "source": "c_plot = sns.lmplot(data=gdp_data, x=\"Log GDP per Capita 2018\", y=\"AQI 2020\", height = 4, aspect = 4)\n\nc_plot.set(xlim=(2, 7))\nc_plot.set(ylim=(0, 100))",
   "metadata": {
    "tags": [],
    "cell_id": "00050-40aa6277-72ea-4005-84f2-8290304a746a",
    "deepnote_to_be_reexecuted": false,
    "source_hash": "c36acf1b",
    "execution_start": 1621642125038,
    "execution_millis": 524,
    "deepnote_cell_type": "code"
   },
   "outputs": [
    {
     "output_type": "execute_result",
     "execution_count": 22,
     "data": {
      "text/plain": "<seaborn.axisgrid.FacetGrid at 0x7f623da79190>"
     },
     "metadata": {}
    },
    {
     "data": {
      "text/plain": "<Figure size 1152x288 with 1 Axes>",
      "image/png": "[encoded data removed]"
     },
     "metadata": {
      "needs_background": "light",
      "image/png": {
       "width": 1161,
       "height": 297
      }
     },
     "output_type": "display_data"
    }
   ],
   "execution_count": 22
  },
  {
   "cell_type": "markdown",
   "source": "Splitting data of GDP per capita by percentiles would allow us to get a sense of whether or not there is a correlation betwen the GDP per capita and AQI for either high, medium or low income groups \n\n- high == 99th percentile\n- medium == between 33rd and 66th percentile\n- low == below 33rd percentile",
   "metadata": {
    "tags": [],
    "cell_id": "00051-bb2e032f-402f-4f44-b838-43e4712c8852",
    "deepnote_cell_type": "markdown"
   }
  },
  {
   "cell_type": "code",
   "source": "highInc_AQI = gdp_data[gdp_data['GDP per Capita 2018'] <= gdp_data['GDP per Capita 2018'].quantile(.99)]\nhighInc_AQI = highInc_AQI[ highInc_AQI['GDP per Capita 2018'] >= highInc_AQI['GDP per Capita 2018'].quantile(.66)]\n\nmidInc_AQI = gdp_data[gdp_data['GDP per Capita 2018'] <= gdp_data['GDP per Capita 2018'].quantile(.66)]\nmidInc_AQI = midInc_AQI[midInc_AQI['GDP per Capita 2018'] >= midInc_AQI['GDP per Capita 2018'].quantile(.33)]\n\nlowInc_AQI = gdp_data[gdp_data['GDP per Capita 2018'] <= gdp_data['GDP per Capita 2018'].quantile(.33)]  \n",
   "metadata": {
    "tags": [],
    "cell_id": "00052-c30b8ff7-5d27-436b-93f9-c5569a8083f1",
    "deepnote_to_be_reexecuted": false,
    "source_hash": "1f676ee9",
    "execution_start": 1621642467882,
    "execution_millis": 0,
    "deepnote_cell_type": "code"
   },
   "outputs": [],
   "execution_count": 23
  },
  {
   "cell_type": "code",
   "source": "a_plot = sns.lmplot(data=highInc_AQI, x=\"Log GDP per Capita 2018\", y=\"AQI 2018\", height = 4, aspect = 4)\n\na_plot.set(xlim=(3.5, 6))\na_plot.set(ylim=(0, 100))",
   "metadata": {
    "tags": [],
    "cell_id": "00053-adc1b36c-12ad-4e8e-ba2b-8a35c9f56b48",
    "deepnote_to_be_reexecuted": false,
    "source_hash": "472ef312",
    "execution_start": 1621642469708,
    "execution_millis": 380,
    "deepnote_cell_type": "code"
   },
   "outputs": [
    {
     "output_type": "execute_result",
     "execution_count": 24,
     "data": {
      "text/plain": "<seaborn.axisgrid.FacetGrid at 0x7f623f34b590>"
     },
     "metadata": {}
    },
    {
     "data": {
      "text/plain": "<Figure size 1152x288 with 1 Axes>",
      "image/png": "[encoded data removed]"
     },
     "metadata": {
      "needs_background": "light",
      "image/png": {
       "width": 1172,
       "height": 298
      }
     },
     "output_type": "display_data"
    }
   ],
   "execution_count": 24
  },
  {
   "cell_type": "code",
   "source": "b_plot = sns.lmplot(data=midInc_AQI, x=\"Log GDP per Capita 2018\", y=\"AQI 2018\", height = 4, aspect = 4)\n\nb_plot.set(xlim=(3.5, 4))\nb_plot.set(ylim=(0, 100)) ",
   "metadata": {
    "tags": [],
    "cell_id": "00054-60371853-7bae-4ac2-b28f-936e4e18fb46",
    "deepnote_to_be_reexecuted": false,
    "source_hash": "d1bedc62",
    "execution_start": 1621642473414,
    "execution_millis": 414,
    "deepnote_cell_type": "code"
   },
   "outputs": [
    {
     "output_type": "execute_result",
     "execution_count": 25,
     "data": {
      "text/plain": "<seaborn.axisgrid.FacetGrid at 0x7f623d97a310>"
     },
     "metadata": {}
    },
    {
     "data": {
      "text/plain": "<Figure size 1152x288 with 1 Axes>",
      "image/png": "[encoded data removed]"
     },
     "metadata": {
      "needs_background": "light",
      "image/png": {
       "width": 1166,
       "height": 298
      }
     },
     "output_type": "display_data"
    }
   ],
   "execution_count": 25
  },
  {
   "cell_type": "code",
   "source": "c_plot = sns.lmplot(data=lowInc_AQI, x=\"Log GDP per Capita 2018\", y=\"AQI 2018\", height = 4, aspect = 4)\n\nc_plot.set(xlim=(2.25, 3.5))\nc_plot.set(ylim=(0, 100))",
   "metadata": {
    "tags": [],
    "cell_id": "00055-a46db91f-f858-49e3-90a0-23f520a0a33d",
    "deepnote_to_be_reexecuted": false,
    "source_hash": "74219080",
    "execution_start": 1621642485806,
    "execution_millis": 371,
    "deepnote_cell_type": "code"
   },
   "outputs": [
    {
     "output_type": "execute_result",
     "execution_count": 26,
     "data": {
      "text/plain": "<seaborn.axisgrid.FacetGrid at 0x7f623d88b7d0>"
     },
     "metadata": {}
    },
    {
     "data": {
      "text/plain": "<Figure size 1152x288 with 1 Axes>",
      "image/png": "[encoded data removed]"
     },
     "metadata": {
      "needs_background": "light",
      "image/png": {
       "width": 1165,
       "height": 298
      }
     },
     "output_type": "display_data"
    }
   ],
   "execution_count": 26
  },
  {
   "cell_type": "markdown",
   "source": "From this we can see there is no real correlation between AQi and GDP per capita when in reference to income.",
   "metadata": {
    "tags": [],
    "cell_id": "00057-7b621e5d-f2b2-47b6-a00a-be41de73ee65",
    "deepnote_cell_type": "markdown"
   }
  },
  {
   "cell_type": "markdown",
   "source": "<a style='text-decoration:none;line-height:16px;display:flex;color:#5B5B62;padding:10px;justify-content:end;' href='https://deepnote.com?utm_source=created-in-deepnote-cell&projectId=38ab8c06-a79e-4579-8cac-68cea2b736bd' target=\"_blank\">\n<img alt='Created in deepnote.com' style='display:inline;max-height:16px;margin:0px;margin-right:7.5px;' src='data:image/svg+xml;base64,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' > </img>\nCreated in <span style='font-weight:600;margin-left:4px;'>Deepnote</span></a>",
   "metadata": {
    "tags": [],
    "created_in_deepnote_cell": true,
    "deepnote_cell_type": "markdown"
   }
  }
 ],
 "nbformat": 4,
 "nbformat_minor": 2,
 "metadata": {
  "orig_nbformat": 2,
  "deepnote": {
   "is_reactive": false
  },
  "deepnote_notebook_id": "9200f2d2-6548-4bd3-a9c8-104fc099fd8a",
  "deepnote_execution_queue": []
 }
}